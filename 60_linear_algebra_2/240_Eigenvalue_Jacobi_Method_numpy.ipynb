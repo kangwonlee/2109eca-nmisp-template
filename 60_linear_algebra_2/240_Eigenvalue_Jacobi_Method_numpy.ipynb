{
 "cells": [
  {
   "cell_type": "code",
   "execution_count": null,
   "metadata": {},
   "outputs": [],
   "source": [
    "# This cell is for the Google Colaboratory\n",
    "# https://stackoverflow.com/a/63519730\n",
    "if 'google.colab' in str(get_ipython()):\n",
    "  # https://colab.research.google.com/notebooks/io.ipynb\n",
    "  import google.colab.drive as gcdrive\n",
    "  # may need to visit a link for the Google Colab authorization code\n",
    "  gcdrive.mount(\"/content/drive/\")\n",
    "  import sys\n",
    "  sys.path.insert(0,\"/content/drive/My Drive/Colab Notebooks/nmisp/60_linear_algebra_2\")\n"
   ]
  },
  {
   "cell_type": "code",
   "execution_count": null,
   "metadata": {},
   "outputs": [],
   "source": [
    "import os\n",
    "from typing import List, Tuple, Union\n",
    "\n",
    "import numpy as np\n",
    "import numpy.random as nr\n",
    "import numpy.testing as nt\n",
    "\n",
    "import jacobi\n",
    "import matrix\n",
    "import matshow\n",
    "\n"
   ]
  },
  {
   "cell_type": "code",
   "execution_count": null,
   "metadata": {},
   "outputs": [],
   "source": [
    "Scalar = Union[int, float, complex]\n",
    "Vector = List[Scalar]\n",
    "Matrix = List[Vector]\n",
    "\n"
   ]
  },
  {
   "cell_type": "markdown",
   "metadata": {},
   "source": [
    "# 자코비 고유치 알고리듬<br>Jacobi Eigenvalue Algorithm\n",
    "\n"
   ]
  },
  {
   "cell_type": "markdown",
   "metadata": {},
   "source": [
    "ref : [[0](https://en.wikipedia.org/wiki/Jacobi_eigenvalue_algorithm)], [[1](https://en.wikipedia.org/wiki/Matrix_similarity)], [[2](https://mathworld.wolfram.com/JacobiTransformation.html)]\n",
    "\n"
   ]
  },
  {
   "cell_type": "markdown",
   "metadata": {},
   "source": [
    "해당 알고리듬은 대칭행렬의 모든 고유치와를 고유벡터를 한번에 구할 수 있다.<br>The algorithm can find all eigenvalues and eigenvectors of a symmetric matrix.\n"
   ]
  },
  {
   "cell_type": "markdown",
   "metadata": {},
   "source": [
    "행렬의 *상사변환* 의 일종인 *자코비 변환* 을 반복한다.<br>It iterates the *Jacobi transformation*, a *similarity transformation*.\n",
    "\n"
   ]
  },
  {
   "cell_type": "markdown",
   "metadata": {},
   "source": [
    "상사변환이란, 어떤 행렬 $A$ 에 행렬 $P$ 와 그 역행렬 $P^{-1}$을 좌우에서 곱해주는 것이다.<br>\n",
    "The *similarity transformation* is to multiply a matrix $P$ and its inverse $P^{-1}$ to a matrix $A$ on both sides.\n",
    "\n"
   ]
  },
  {
   "cell_type": "markdown",
   "metadata": {},
   "source": [
    "$$\n",
    "B = P^{-1}AP\n",
    "$$"
   ]
  },
  {
   "cell_type": "markdown",
   "metadata": {},
   "source": [
    "행렬 $A$ 와 $B$ 의 고유치는 같다.<br>The matrices $A$ and $B$ have the same eigenvalues.\n",
    "\n"
   ]
  },
  {
   "cell_type": "markdown",
   "metadata": {},
   "source": [
    "자코비 변환은, 행렬의 비대각 원소들 가운데 하나를 0으로 만드는 것이다..<br>Jacobi transformation is to diagonalize a two dimensional subspace in the basis of an n-dimensional space.\n",
    "\n"
   ]
  },
  {
   "cell_type": "markdown",
   "metadata": {},
   "source": [
    "$3 \\times 3$ 행렬 사례를 살펴 보도록 하자.<br>Let's take a look at a $3 \\times 3$ matrix case.\n",
    "\n"
   ]
  },
  {
   "cell_type": "code",
   "execution_count": null,
   "metadata": {},
   "outputs": [],
   "source": [
    "n = 3\n",
    "\n",
    "matA = nr.randint(-5, 5, (n, n),)\n",
    "matA = matA @ matA.T\n",
    "matA += np.diag(nr.randint(10, 100, (n,)))\n",
    "\n"
   ]
  },
  {
   "cell_type": "markdown",
   "metadata": {},
   "source": [
    "오른쪽은 고유벡터, 왼쪽은 고유치를 보여 줄 것이다.<br>Right, left matrices will show the eigenvectors and eigenvalues respectively.\n",
    "\n"
   ]
  },
  {
   "cell_type": "markdown",
   "metadata": {},
   "source": [
    "행렬의 열 벡터의 변화를 따라 가 보자.<br>Let's keep track of the changes of the column vectors of the matrices.\n",
    "\n"
   ]
  },
  {
   "cell_type": "code",
   "execution_count": null,
   "metadata": {
    "scrolled": false
   },
   "outputs": [],
   "source": [
    "w, v = jacobi.eigenvalue_algorithm(matA, b_plot=True)\n",
    "\n"
   ]
  },
  {
   "cell_type": "markdown",
   "metadata": {},
   "source": [
    "아래 $W$ 행렬의 대각원소가 $A$ 행렬의 고유치이다.<br>The diagonal elements of the following matrix $W$ are the eigenvalues of the matrix $A$.\n",
    "\n"
   ]
  },
  {
   "cell_type": "code",
   "execution_count": null,
   "metadata": {},
   "outputs": [],
   "source": [
    "w\n",
    "\n"
   ]
  },
  {
   "cell_type": "markdown",
   "metadata": {},
   "source": [
    "아래 $V$ 행렬의 열벡터가 $A$ 행렬의 고유벡터이다.<br>The column vectors of the following matrix $V$ are the eigenvectors of the matrix $A$.\n",
    "\n"
   ]
  },
  {
   "cell_type": "code",
   "execution_count": null,
   "metadata": {},
   "outputs": [],
   "source": [
    "v\n",
    "\n"
   ]
  },
  {
   "cell_type": "markdown",
   "metadata": {},
   "source": [
    "## 대각화<br>Diagonalization\n",
    "\n"
   ]
  },
  {
   "cell_type": "markdown",
   "metadata": {},
   "source": [
    "이렇게 구한 고유 벡터 행렬 $V$ 로 행렬 $A$ 를 상사 변환하자.<br>\n",
    "Let's simiarity-transform $A$ with the eigenvector matrix $V$.\n",
    "\n"
   ]
  },
  {
   "cell_type": "code",
   "execution_count": null,
   "metadata": {},
   "outputs": [],
   "source": [
    "vT = matrix.transpose_mat(v)\n",
    "\n"
   ]
  },
  {
   "cell_type": "markdown",
   "metadata": {},
   "source": [
    "$\\Lambda = V^T A V$"
   ]
  },
  {
   "cell_type": "code",
   "execution_count": null,
   "metadata": {},
   "outputs": [],
   "source": [
    "matLambda = matrix.mul_mat(vT, matrix.mul_mat(matA, v))\n",
    "\n"
   ]
  },
  {
   "cell_type": "code",
   "execution_count": null,
   "metadata": {},
   "outputs": [],
   "source": [
    "matLambda\n",
    "\n"
   ]
  },
  {
   "cell_type": "markdown",
   "metadata": {},
   "source": [
    "$W$ 행렬과 $\\Lambda$ 행렬은 같은가?<br>Are $W$ and $\\Lambda$ matrices the same?\n",
    "\n"
   ]
  },
  {
   "cell_type": "code",
   "execution_count": null,
   "metadata": {},
   "outputs": [],
   "source": [
    "nt.assert_array_almost_equal(\n",
    "    np.array(matLambda),\n",
    "    np.array(w),\n",
    ")\n",
    "\n"
   ]
  },
  {
   "cell_type": "markdown",
   "metadata": {},
   "source": [
    "반대의 경우는 어떤가?<br>What about the opposite case?"
   ]
  },
  {
   "cell_type": "markdown",
   "metadata": {},
   "source": [
    "$V \\Lambda V^T == A$ ?"
   ]
  },
  {
   "cell_type": "code",
   "execution_count": null,
   "metadata": {},
   "outputs": [],
   "source": [
    "nt.assert_array_almost_equal(\n",
    "    np.array(matrix.mul_mat(v, matrix.mul_mat(w, vT))),\n",
    "    np.array(matA),\n",
    ")\n",
    "\n"
   ]
  },
  {
   "cell_type": "markdown",
   "metadata": {},
   "source": [
    "## Test\n",
    "\n"
   ]
  },
  {
   "cell_type": "code",
   "execution_count": null,
   "metadata": {},
   "outputs": [],
   "source": [
    "# https://en.wikipedia.org/wiki/Jacobi_eigenvalue_algorithm\n",
    "\n",
    "mat_test_A = [\n",
    "    [4, -30, 60, -35],\n",
    "    [-30, 300, -675, 420],\n",
    "    [60, -675, 1620, -1050],\n",
    "    [-35, 420, -1050, 700],\n",
    "]\n",
    "\n"
   ]
  },
  {
   "cell_type": "code",
   "execution_count": null,
   "metadata": {},
   "outputs": [],
   "source": [
    "result_test_w, result_test_v = jacobi.eigenvalue_algorithm(mat_test_A)\n",
    "\n"
   ]
  },
  {
   "cell_type": "code",
   "execution_count": null,
   "metadata": {},
   "outputs": [],
   "source": [
    "nt.assert_array_almost_equal(\n",
    "    np.diag(np.array(result_test_w)),\n",
    "    np.array([2585.25381092892231, 37.1014913651276582, 1.4780548447781369, 0.1666428611718905])\n",
    ")\n",
    "\n"
   ]
  },
  {
   "cell_type": "code",
   "execution_count": null,
   "metadata": {},
   "outputs": [],
   "source": [
    "expected_v_transpose = [\n",
    "    [0.0291933231647860588, -0.328712055763188997, 0.791411145833126331, -0.514552749997152907],\n",
    "    [0.179186290535454826, -0.741917790628453435, 0.100228136947192199, 0.638282528193614892],\n",
    "    [0.582075699497237650, -0.370502185067093058, -0.509578634501799626, -0.514048272222164294],\n",
    "    [0.792608291163763585, 0.451923120901599794, 0.322416398581824992, 0.252161169688241933],\n",
    "]\n",
    "\n"
   ]
  },
  {
   "cell_type": "code",
   "execution_count": null,
   "metadata": {},
   "outputs": [],
   "source": [
    "for result_list, expected_list in zip(np.array(result_test_v).T.tolist(), expected_v_transpose):\n",
    "    result = np.array(result_list)\n",
    "    expected = np.array(expected_list)\n",
    "\n",
    "    try:\n",
    "        nt.assert_array_almost_equal(result, expected)\n",
    "    except AssertionError as e:\n",
    "        nt.assert_array_almost_equal(result, -expected)\n",
    "\n"
   ]
  },
  {
   "cell_type": "markdown",
   "metadata": {},
   "source": [
    "## Final Bell<br>마지막 종\n",
    "\n"
   ]
  },
  {
   "cell_type": "code",
   "execution_count": null,
   "metadata": {},
   "outputs": [],
   "source": [
    "# stackoverfow.com/a/24634221\n",
    "import os\n",
    "os.system(\"printf '\\a'\");\n",
    "\n"
   ]
  },
  {
   "cell_type": "code",
   "execution_count": null,
   "metadata": {},
   "outputs": [],
   "source": []
  }
 ],
 "metadata": {
  "kernelspec": {
   "display_name": "Python 3",
   "language": "python",
   "name": "python3"
  },
  "language_info": {
   "codemirror_mode": {
    "name": "ipython",
    "version": 3
   },
   "file_extension": ".py",
   "mimetype": "text/x-python",
   "name": "python",
   "nbconvert_exporter": "python",
   "pygments_lexer": "ipython3",
   "version": "3.7.3"
  }
 },
 "nbformat": 4,
 "nbformat_minor": 4
}
