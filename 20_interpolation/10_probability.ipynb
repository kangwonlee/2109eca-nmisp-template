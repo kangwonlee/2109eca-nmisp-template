{
 "cells": [
  {
   "cell_type": "markdown",
   "metadata": {},
   "source": [
    "# 확률<br>Probability\n",
    "\n"
   ]
  },
  {
   "cell_type": "markdown",
   "metadata": {},
   "source": [
    "##  주사위 확률 예<br>An example of die roll probability\n",
    "\n"
   ]
  },
  {
   "cell_type": "markdown",
   "metadata": {},
   "source": [
    "* 다음 비디오 에서는 주사위를 세 번 굴릴 때 세 번 짝수가 나올 확률을 계산한다.<br>Following video shows the probability of getting three even numbers when rolling a dice three times.\n",
    "\n"
   ]
  },
  {
   "cell_type": "markdown",
   "metadata": {},
   "source": [
    "[![Die rolling probability with independent events | Precalculus | Khan Academy](https://i.ytimg.com/vi/2MYA8Ba2PvM/hqdefault.jpg)](https://www.youtube.com/watch?v=2MYA8Ba2PvM&list=PLSQl0a2vh4HB1V0qq5TxqnbIlyi_AZ-3_)\n",
    "\n"
   ]
  },
  {
   "cell_type": "markdown",
   "metadata": {},
   "source": [
    "* 확인해보자.<br>Let's see if that would be correct.\n",
    "\n"
   ]
  },
  {
   "cell_type": "markdown",
   "metadata": {},
   "source": [
    "* 우선 모든 경우를 발생시켜 보자.<br>First, let's generate all possible cases.\n",
    "\n"
   ]
  },
  {
   "cell_type": "code",
   "execution_count": null,
   "metadata": {},
   "outputs": [],
   "source": [
    "all_list = []\n",
    "\n",
    "for d1 in range(1, 6+1):\n",
    "    for d2 in range(1, 6+1):\n",
    "        for d3 in range(1, 6+1):\n",
    "            all_list.append((d1, d2, d3))\n",
    "\n",
    "print(f'len(all_list) = {len(all_list)}')\n",
    "all_list[:10]\n",
    "\n"
   ]
  },
  {
   "cell_type": "markdown",
   "metadata": {},
   "source": [
    "* 이번에는 모두 짝수인 경우만 세는 기능을 추가해 보자.<br>This time, let's add lines counting all even number cases.\n",
    "\n"
   ]
  },
  {
   "cell_type": "code",
   "execution_count": null,
   "metadata": {},
   "outputs": [],
   "source": [
    "all_list = []\n",
    "all_even_list = []\n",
    "\n",
    "for d1 in range(1, 6+1):\n",
    "    for d2 in range(1, 6+1):\n",
    "        for d3 in range(1, 6+1):\n",
    "            all_list.append((d1, d2, d3))\n",
    "            if all(map(lambda dice: not(dice % 2), (d1, d2, d3))):\n",
    "                all_even_list.append((d1, d2, d3))\n",
    "\n",
    "print(f'len(all_list) = {len(all_list)}')\n",
    "all_list[:10]\n",
    "\n",
    "print(f'len(all_even_list) = {len(all_even_list)}')\n",
    "all_even_list[:10]\n",
    "\n"
   ]
  },
  {
   "cell_type": "markdown",
   "metadata": {},
   "source": [
    "* 확률을 계산해 보자.<br>Let's calculate the probability.\n",
    "\n"
   ]
  },
  {
   "cell_type": "code",
   "execution_count": null,
   "metadata": {},
   "outputs": [],
   "source": [
    "all_list = []\n",
    "all_even_list = []\n",
    "\n",
    "for d1 in range(1, 6+1):\n",
    "    for d2 in range(1, 6+1):\n",
    "        for d3 in range(1, 6+1):\n",
    "            all_list.append((d1, d2, d3))\n",
    "            if all(map(lambda dice: not(dice % 2), (d1, d2, d3))):\n",
    "                all_even_list.append((d1, d2, d3))\n",
    "\n",
    "print(f'len(all_list) = {len(all_list)}')\n",
    "all_list[:10]\n",
    "\n",
    "print(f'len(all_even_list) = {len(all_even_list)}')\n",
    "all_even_list[:10]\n",
    "\n",
    "print(f'probability = {len(all_even_list) / len(all_list)}')\n",
    "\n"
   ]
  },
  {
   "cell_type": "markdown",
   "metadata": {},
   "source": [
    "* 확률을 분수로 표시해 보자.<br>Let's indicate the probability in fraction.\n",
    "\n"
   ]
  },
  {
   "cell_type": "code",
   "execution_count": null,
   "metadata": {},
   "outputs": [],
   "source": [
    "all_list = []\n",
    "all_even_list = []\n",
    "\n",
    "for d1 in range(1, 6+1):\n",
    "    for d2 in range(1, 6+1):\n",
    "        for d3 in range(1, 6+1):\n",
    "            all_list.append((d1, d2, d3))\n",
    "            if all(map(lambda dice: not(dice % 2), (d1, d2, d3))):\n",
    "                all_even_list.append((d1, d2, d3))\n",
    "\n",
    "print(f'len(all_list) = {len(all_list)}')\n",
    "all_list[:10]\n",
    "\n",
    "print(f'len(all_even_list) = {len(all_even_list)}')\n",
    "all_even_list[:10]\n",
    "\n",
    "import fractions as fr\n",
    "probability = fr.Fraction(len(all_even_list), len(all_list))\n",
    "\n",
    "print(f'probability = {probability}')\n",
    "\n"
   ]
  },
  {
   "cell_type": "markdown",
   "metadata": {},
   "source": [
    "##  카드 놀이 확률 예<br>An example of playing card probability\n",
    "\n"
   ]
  },
  {
   "cell_type": "markdown",
   "metadata": {},
   "source": [
    "* 다음 비디오 에서는 카드를 한장 뽑을 때 하트 또는 J 가 나올 확률을 계산한다.<br>Following video calculates the probability of getting a heard or a jack when picking up one card.\n",
    "\n"
   ]
  },
  {
   "cell_type": "markdown",
   "metadata": {},
   "source": [
    "[![Probability with playing cards and Venn diagrams | Probability and Statistics | Khan Academy](https://i.ytimg.com/vi/obZzOq_wSCg/hqdefault.jpg)](https://www.youtube.com/watch?v=obZzOq_wSCg&index=2&list=PLC58778F28211FA19)\n",
    "\n"
   ]
  },
  {
   "cell_type": "markdown",
   "metadata": {},
   "source": [
    "* 아래와 같이 모든 카드를 준비할 수 있다.<br>We may prepare for all cards as follows.\n",
    "\n"
   ]
  },
  {
   "cell_type": "code",
   "execution_count": null,
   "metadata": {},
   "outputs": [],
   "source": [
    "def gen_all_cards():\n",
    "    all_cards_set = set()\n",
    "\n",
    "    for suit in '♠♣♥♦':\n",
    "        for rank in list('A23456789')+['10']+list('JQK'):\n",
    "            all_cards_set.add(suit+rank)\n",
    "\n",
    "    return all_cards_set\n",
    "\n",
    "all_cards_set = gen_all_cards()\n",
    "print(f'len(all_cards_set) = {len(all_cards_set)}')\n",
    "# all_cards_set\n",
    "\n"
   ]
  },
  {
   "cell_type": "markdown",
   "metadata": {},
   "source": [
    "* 조건을 만족하는 카드만 세어 보기로 하자.<br>Let's count cards that satisfy the condition.\n",
    "\n"
   ]
  },
  {
   "cell_type": "code",
   "execution_count": null,
   "metadata": {},
   "outputs": [],
   "source": [
    "def count_heart_j(card_set):\n",
    "    heart_or_j_set = set()\n",
    "    \n",
    "    for card in card_set:\n",
    "        if card.startswith('♥'):\n",
    "            heart_or_j_set.add(card)\n",
    "        elif card.endswith('J'):\n",
    "            heart_or_j_set.add(card)\n",
    "\n",
    "    return heart_or_j_set\n",
    "\n",
    "heart_or_j_set = count_heart_j(all_cards_set)\n",
    "\n",
    "print(f'len(heart_or_j_set) = {len(heart_or_j_set)}')\n",
    "print(f'len(all_cards_set) = {len(all_cards_set)}')\n",
    "\n",
    "probability = fr.Fraction(len(heart_or_j_set), len(all_cards_set))\n",
    "\n",
    "print(f'probability = {probability}')\n",
    "\n"
   ]
  },
  {
   "cell_type": "markdown",
   "metadata": {},
   "source": [
    "* Joker 카드가 있는 경우는 어떨까?<br>What if we also have a Joker card?\n",
    "\n"
   ]
  },
  {
   "cell_type": "code",
   "execution_count": null,
   "metadata": {},
   "outputs": [],
   "source": [
    "all_cards_set = gen_all_cards()\n",
    "all_cards_set.add('Joker')\n",
    "\n",
    "def count_heart_j_joker(card_set):\n",
    "    heart_or_j_set = set()\n",
    "    \n",
    "    for card in card_set:\n",
    "        if card.startswith('♥'):\n",
    "            heart_or_j_set.add(card)\n",
    "        elif card.endswith('J'):\n",
    "            heart_or_j_set.add(card)\n",
    "        elif 'joker' == card.lower():\n",
    "            heart_or_j_set.add(card)\n",
    "\n",
    "    return heart_or_j_set\n",
    "\n",
    "heart_or_j_set = count_heart_j_joker(all_cards_set)\n",
    "\n",
    "print(f'len(heart_or_j_set) = {len(heart_or_j_set)}')\n",
    "print(f'len(all_cards_set) = {len(all_cards_set)}')\n",
    "\n",
    "probability = fr.Fraction(len(heart_or_j_set), len(all_cards_set))\n",
    "\n",
    "print(f'probability = {probability} = {float(probability):g}')\n",
    "\n"
   ]
  },
  {
   "cell_type": "markdown",
   "metadata": {},
   "source": [
    "## 연습 문제<br>Exercises\n",
    "\n"
   ]
  },
  {
   "cell_type": "markdown",
   "metadata": {},
   "source": [
    "도전 과제 1: 동전 5개를 던졌을 때, 3개가 앞면이 나올 확률을 구해 보시오.<br>\n",
    "Try this 1: Calculate probability of getting three heads out of five flips.\n",
    "\n"
   ]
  },
  {
   "cell_type": "code",
   "execution_count": null,
   "metadata": {},
   "outputs": [],
   "source": []
  },
  {
   "cell_type": "markdown",
   "metadata": {},
   "source": [
    "도전 과제 2: 어떤 주머니 안에 빨간 구슬이 3개, 파란 구슬이 5개, 흰 구슬이 2개 들어있다. 임의로 2개를 꺼낼 때 빨간 구슬, 흰 구슬이 각각 하나씩일 확률은?<br>\n",
    "Try this 2: A bag has three red beads, five blue beads, and two white bead. When taking out two beads randomly, what would be the probability of picking one red and one white beads?\n",
    "\n"
   ]
  },
  {
   "cell_type": "code",
   "execution_count": null,
   "metadata": {},
   "outputs": [],
   "source": []
  },
  {
   "cell_type": "markdown",
   "metadata": {},
   "source": [
    "도전 과제 3: 한 개의 주사위를 두번 던질 때, 두 눈의 합이 8 이상일 확률은?<br>\n",
    "Try this 3: When throwing a dice twice, what is the probability that the sum would be larger than 8?\n",
    "\n"
   ]
  },
  {
   "cell_type": "code",
   "execution_count": null,
   "metadata": {},
   "outputs": [],
   "source": []
  },
  {
   "cell_type": "markdown",
   "metadata": {},
   "source": [
    "도전 과제 4: 세 개의 주사위를 동시에 던질 때, 한 주사위의 값이 나머지 둘의 곱일 확률은?<br>\n",
    "Try this 4: When throwing a dice twice, what is the probability that one die's value is the product of the other two?\n",
    "\n"
   ]
  },
  {
   "cell_type": "code",
   "execution_count": null,
   "metadata": {},
   "outputs": [],
   "source": []
  },
  {
   "cell_type": "markdown",
   "metadata": {},
   "source": [
    "도전 과제 5: 52장의 카드에서 두장을 무작위로 뽑을 때, 무늬가 같을 확률은?<br>\n",
    "Try this 5: When randomly choosing two cards out of a deck of 52 cards without a Joker, what would be the probability of the same suites?\n",
    "\n"
   ]
  },
  {
   "cell_type": "code",
   "execution_count": null,
   "metadata": {},
   "outputs": [],
   "source": []
  },
  {
   "cell_type": "markdown",
   "metadata": {},
   "source": [
    "## `all(map(lambda dice: not(dice % 2), (d1, d2, d3)))`\n",
    "\n"
   ]
  },
  {
   "cell_type": "markdown",
   "metadata": {},
   "source": [
    "위 행은 아래 함수와 같은 작용을 한다.<br>\n",
    "Following function is equivalent to the above line.\n",
    "\n"
   ]
  },
  {
   "cell_type": "code",
   "execution_count": null,
   "metadata": {},
   "outputs": [],
   "source": [
    "def all_even(d1, d2, d3):\n",
    "    if (d1 % 2):\n",
    "        result = False\n",
    "    elif (d2 % 2):\n",
    "        result = False\n",
    "    elif (d3 % 2):\n",
    "        result = False\n",
    "    else:\n",
    "        result = True\n",
    "    return True\n",
    "\n"
   ]
  },
  {
   "cell_type": "markdown",
   "metadata": {},
   "source": [
    "### `lambda`\n",
    "\n"
   ]
  },
  {
   "cell_type": "markdown",
   "metadata": {},
   "source": [
    "`lambda` 는 이름 없는 함수를 만들어 준다.<br>`lambda` makes an anonymous function.\n",
    "\n"
   ]
  },
  {
   "cell_type": "code",
   "execution_count": null,
   "metadata": {},
   "outputs": [],
   "source": [
    "lambda_function = lambda x : x * 2\n",
    "\n"
   ]
  },
  {
   "cell_type": "code",
   "execution_count": null,
   "metadata": {},
   "outputs": [],
   "source": [
    "lambda_function(7)\n",
    "\n"
   ]
  },
  {
   "cell_type": "code",
   "execution_count": null,
   "metadata": {},
   "outputs": [],
   "source": [
    "lambda_function('a')\n",
    "\n"
   ]
  },
  {
   "cell_type": "markdown",
   "metadata": {},
   "source": [
    "### `map()`\n",
    "\n"
   ]
  },
  {
   "cell_type": "markdown",
   "metadata": {},
   "source": [
    "`map()` 은 임의의 함수를 리스트 `list` 나 `set` 등의 각 요소를 매개 변수로 어떤 주어진 함수를 호출한다.<br>\n",
    "`map()` calls the given function using members of `list` or `set`.\n",
    "\n"
   ]
  },
  {
   "cell_type": "code",
   "execution_count": null,
   "metadata": {},
   "outputs": [],
   "source": [
    "map(lambda_function, (1, 2, 3))\n",
    "\n"
   ]
  },
  {
   "cell_type": "code",
   "execution_count": null,
   "metadata": {},
   "outputs": [],
   "source": [
    "for i in map(lambda x : x * 3, 'abcd'):\n",
    "    print(i)\n",
    "\n"
   ]
  },
  {
   "cell_type": "code",
   "execution_count": null,
   "metadata": {},
   "outputs": [],
   "source": [
    "list(map(lambda x : x % 2, [1, 2, 3, 4, 5]))\n",
    "\n"
   ]
  },
  {
   "cell_type": "markdown",
   "metadata": {},
   "source": [
    "### `all()` & `any()`\n",
    "\n"
   ]
  },
  {
   "cell_type": "markdown",
   "metadata": {},
   "source": [
    "각각 `and` 와 `or` 연산을 실행한다.<br>Respectively would carry out `and` & `or` operations.\n",
    "\n"
   ]
  },
  {
   "cell_type": "code",
   "execution_count": null,
   "metadata": {},
   "outputs": [],
   "source": [
    "all([True, True, True]), any([1, 1, 1])\n",
    "\n"
   ]
  },
  {
   "cell_type": "code",
   "execution_count": null,
   "metadata": {},
   "outputs": [],
   "source": [
    "all([True, False, True]), any(['1', '', 'a'])\n",
    "\n"
   ]
  },
  {
   "cell_type": "code",
   "execution_count": null,
   "metadata": {},
   "outputs": [],
   "source": [
    "all([False, False, False]), any([[], '', {}])\n",
    "\n"
   ]
  },
  {
   "cell_type": "markdown",
   "metadata": {},
   "source": [
    "## `list('abc')`\n",
    "\n"
   ]
  },
  {
   "cell_type": "code",
   "execution_count": null,
   "metadata": {},
   "outputs": [],
   "source": [
    "list('abc')\n",
    "\n"
   ]
  },
  {
   "cell_type": "code",
   "execution_count": null,
   "metadata": {},
   "outputs": [],
   "source": [
    "list('abc') + ['zzz']\n",
    "\n"
   ]
  },
  {
   "cell_type": "markdown",
   "metadata": {},
   "source": [
    "## 참고문헌<br>References\n",
    "\n"
   ]
  },
  {
   "cell_type": "markdown",
   "metadata": {},
   "source": [
    "[\n",
    "  [ref0](http://proi.edupia.com/contents/proicontents/proi/proi/middle/SchoolBook/seb/jd_seb1_content.asp?nTerm=2&nYear=8&nConID=653&nCatID=242&nDaeNumber=3)\n",
    ", [ref1](https://mathpool.tistory.com/entry/%ED%99%95%EB%A5%A0%EA%B3%BC-%ED%86%B5%EA%B3%84-%EC%A0%84%EB%8B%A8%EC%9B%90-%EC%97%B0%EC%8A%B5%EB%AC%B8%EC%A0%9C-%EB%AA%A8%EC%9D%8C-%EC%9E%90%EB%A3%8C)\n",
    "]\n",
    "\n"
   ]
  },
  {
   "cell_type": "markdown",
   "metadata": {},
   "source": [
    "## Final Bell<br>마지막 종\n",
    "\n"
   ]
  },
  {
   "cell_type": "code",
   "execution_count": null,
   "metadata": {},
   "outputs": [],
   "source": [
    "# stackoverfow.com/a/24634221\n",
    "import os\n",
    "os.system(\"printf '\\a'\");\n",
    "\n"
   ]
  },
  {
   "cell_type": "code",
   "execution_count": null,
   "metadata": {},
   "outputs": [],
   "source": []
  }
 ],
 "metadata": {
  "kernelspec": {
   "display_name": "Python 3",
   "language": "python",
   "name": "python3"
  },
  "language_info": {
   "codemirror_mode": {
    "name": "ipython",
    "version": 3
   },
   "file_extension": ".py",
   "mimetype": "text/x-python",
   "name": "python",
   "nbconvert_exporter": "python",
   "pygments_lexer": "ipython3",
   "version": "3.7.3"
  }
 },
 "nbformat": 4,
 "nbformat_minor": 2
}
