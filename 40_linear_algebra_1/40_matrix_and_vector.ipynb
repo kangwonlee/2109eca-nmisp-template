{
 "cells": [
  {
   "cell_type": "code",
   "execution_count": null,
   "metadata": {},
   "outputs": [],
   "source": [
    "# This cell is for the Google Colaboratory\n",
    "# https://stackoverflow.com/a/63519730\n",
    "if 'google.colab' in str(get_ipython()):\n",
    "  # https://colab.research.google.com/notebooks/io.ipynb\n",
    "  import google.colab.drive as gcdrive\n",
    "  # may need to visit a link for the Google Colab authorization code\n",
    "  gcdrive.mount(\"/content/drive/\")\n",
    "  import sys\n",
    "  sys.path.insert(0,\"/content/drive/My Drive/Colab Notebooks/nmisp/40_linear_algebra_1\")\n"
   ]
  },
  {
   "cell_type": "code",
   "execution_count": null,
   "metadata": {},
   "outputs": [],
   "source": [
    "import fractions\n",
    "import itertools\n",
    "import math\n",
    "import pprint\n",
    "\n"
   ]
  },
  {
   "cell_type": "markdown",
   "metadata": {},
   "source": [
    "# 행렬 : 표준 기능<br>Matrix : Standard library\n",
    "\n"
   ]
  },
  {
   "cell_type": "markdown",
   "metadata": {},
   "source": [
    "Zill & Cullen, Advanced Engineering Mathematics, Jones and Bartlett Publishers, 2006.\n",
    "\n"
   ]
  },
  {
   "cell_type": "markdown",
   "metadata": {},
   "source": [
    "## 정의<br>Definition\n",
    "\n"
   ]
  },
  {
   "cell_type": "code",
   "execution_count": null,
   "metadata": {},
   "outputs": [],
   "source": [
    "mat_A = [\n",
    "    [9, 7, 0, 8],\n",
    "    [0.5, -2, 6, 1],\n",
    "    [0, 0, -1, 6],\n",
    "    [5, 3**0.5, math.pi, -4]\n",
    "]\n",
    "\n"
   ]
  },
  {
   "cell_type": "code",
   "execution_count": null,
   "metadata": {},
   "outputs": [],
   "source": [
    "mat_A\n",
    "\n"
   ]
  },
  {
   "cell_type": "code",
   "execution_count": null,
   "metadata": {},
   "outputs": [],
   "source": [
    "pprint.pprint(mat_A)\n",
    "\n"
   ]
  },
  {
   "cell_type": "markdown",
   "metadata": {},
   "source": [
    "### shape\n",
    "\n"
   ]
  },
  {
   "cell_type": "code",
   "execution_count": null,
   "metadata": {},
   "outputs": [],
   "source": [
    "def n_rows(mat):\n",
    "    return len(mat)\n",
    "\n"
   ]
  },
  {
   "cell_type": "code",
   "execution_count": null,
   "metadata": {},
   "outputs": [],
   "source": [
    "n_rows(mat_A)\n",
    "\n"
   ]
  },
  {
   "cell_type": "code",
   "execution_count": null,
   "metadata": {},
   "outputs": [],
   "source": [
    "def n_columns(mat):\n",
    "    result = len(mat[0])\n",
    "    for k, row in enumerate(mat[1:]):\n",
    "        assert len(row) == result, f\"row {k+1} has length {len(row)}\"\n",
    "    return result\n",
    "\n"
   ]
  },
  {
   "cell_type": "code",
   "execution_count": null,
   "metadata": {},
   "outputs": [],
   "source": [
    "n_columns(mat_A)\n",
    "\n"
   ]
  },
  {
   "cell_type": "code",
   "execution_count": null,
   "metadata": {},
   "outputs": [],
   "source": [
    "def shape(mat):\n",
    "    return (n_rows(mat), n_columns(mat))\n",
    "\n"
   ]
  },
  {
   "cell_type": "code",
   "execution_count": null,
   "metadata": {},
   "outputs": [],
   "source": [
    "shape(mat_A)\n",
    "\n"
   ]
  },
  {
   "cell_type": "markdown",
   "metadata": {},
   "source": [
    "## 비교<br>Comparison\n",
    "\n"
   ]
  },
  {
   "cell_type": "code",
   "execution_count": null,
   "metadata": {},
   "outputs": [],
   "source": [
    "mat_22_0 = [\n",
    "    [1, 1],\n",
    "    [1, 1]\n",
    "]\n",
    "\n"
   ]
  },
  {
   "cell_type": "code",
   "execution_count": null,
   "metadata": {},
   "outputs": [],
   "source": [
    "mat_22_0\n",
    "\n"
   ]
  },
  {
   "cell_type": "code",
   "execution_count": null,
   "metadata": {},
   "outputs": [],
   "source": [
    "pprint.pprint(mat_22_0, width=10)\n",
    "\n"
   ]
  },
  {
   "cell_type": "code",
   "execution_count": null,
   "metadata": {},
   "outputs": [],
   "source": [
    "shape(mat_22_0)\n",
    "\n"
   ]
  },
  {
   "cell_type": "code",
   "execution_count": null,
   "metadata": {},
   "outputs": [],
   "source": [
    "mat_22_1 = [\n",
    "    [1, 1],\n",
    "    [1, 1]\n",
    "]\n",
    "\n"
   ]
  },
  {
   "cell_type": "code",
   "execution_count": null,
   "metadata": {},
   "outputs": [],
   "source": [
    "mat_22_2 = [\n",
    "    [1, 1],\n",
    "    [1, 2]\n",
    "]\n",
    "\n"
   ]
  },
  {
   "cell_type": "code",
   "execution_count": null,
   "metadata": {},
   "outputs": [],
   "source": [
    "mat_23 = [\n",
    "    [1, 1, 1],\n",
    "    [1, 1, 1]\n",
    "]\n",
    "\n"
   ]
  },
  {
   "cell_type": "code",
   "execution_count": null,
   "metadata": {},
   "outputs": [],
   "source": [
    "shape(mat_23)\n",
    "\n"
   ]
  },
  {
   "cell_type": "code",
   "execution_count": null,
   "metadata": {},
   "outputs": [],
   "source": [
    "def equal(mat_A, mat_B):\n",
    "    result = True\n",
    "    \n",
    "    if (shape(mat_A) != shape(mat_B)):\n",
    "        result = False\n",
    "    else:\n",
    "        for row_A, row_B in zip(mat_A, mat_B):\n",
    "            for col_A, col_B in zip(row_A, row_B):\n",
    "                if (col_A != col_B):\n",
    "                    result = False\n",
    "                    break\n",
    "            if not result:\n",
    "                break\n",
    "\n",
    "    return result\n",
    "\n"
   ]
  },
  {
   "cell_type": "code",
   "execution_count": null,
   "metadata": {},
   "outputs": [],
   "source": [
    "assert equal(mat_22_0, mat_22_1)\n",
    "\n"
   ]
  },
  {
   "cell_type": "code",
   "execution_count": null,
   "metadata": {},
   "outputs": [],
   "source": [
    "assert not equal(mat_22_0, mat_22_2)\n",
    "\n"
   ]
  },
  {
   "cell_type": "code",
   "execution_count": null,
   "metadata": {},
   "outputs": [],
   "source": [
    "assert not equal(mat_22_0, mat_23)\n",
    "\n"
   ]
  },
  {
   "cell_type": "markdown",
   "metadata": {},
   "source": [
    "리스트 컴프리핸션<br>List comprehension\n",
    "\n"
   ]
  },
  {
   "cell_type": "code",
   "execution_count": null,
   "metadata": {},
   "outputs": [],
   "source": [
    "def equal_list_comprehension(mat_A, mat_B):\n",
    "    return (shape(mat_A) == shape(mat_B)) and all(\n",
    "        [ all(\n",
    "            [\n",
    "               (col_A == col_B) for col_A, col_B in zip(row_A, row_B)\n",
    "            ]\n",
    "        ) for row_A, row_B in zip(mat_A, mat_B)\n",
    "        ]\n",
    "    )\n",
    "\n"
   ]
  },
  {
   "cell_type": "code",
   "execution_count": null,
   "metadata": {},
   "outputs": [],
   "source": [
    "assert equal_list_comprehension(mat_22_0, mat_22_1)\n",
    "\n"
   ]
  },
  {
   "cell_type": "code",
   "execution_count": null,
   "metadata": {},
   "outputs": [],
   "source": [
    "assert not equal_list_comprehension(mat_22_0, mat_22_2)\n",
    "\n"
   ]
  },
  {
   "cell_type": "code",
   "execution_count": null,
   "metadata": {},
   "outputs": [],
   "source": [
    "assert not equal_list_comprehension(mat_22_0, mat_23)\n",
    "\n"
   ]
  },
  {
   "cell_type": "markdown",
   "metadata": {},
   "source": [
    "`itertools.chain.from_iterable()`\n",
    "\n"
   ]
  },
  {
   "cell_type": "code",
   "execution_count": null,
   "metadata": {},
   "outputs": [],
   "source": [
    "import itertools\n",
    "\n",
    "\n",
    "def equal_itertools_chain_from_iterable(mat_A, mat_B):\n",
    "    return (shape(mat_A) == shape(mat_B)) and all([\n",
    "        a_ij == b_ij \n",
    "        for a_ij, b_ij in zip(\n",
    "            itertools.chain.from_iterable(mat_A),\n",
    "            itertools.chain.from_iterable(mat_B))\n",
    "    ])\n",
    "\n"
   ]
  },
  {
   "cell_type": "code",
   "execution_count": null,
   "metadata": {},
   "outputs": [],
   "source": [
    "assert equal_itertools_chain_from_iterable(mat_22_0, mat_22_1)\n",
    "\n"
   ]
  },
  {
   "cell_type": "code",
   "execution_count": null,
   "metadata": {},
   "outputs": [],
   "source": [
    "assert not equal_itertools_chain_from_iterable(mat_22_0, mat_22_2)\n",
    "\n"
   ]
  },
  {
   "cell_type": "code",
   "execution_count": null,
   "metadata": {},
   "outputs": [],
   "source": [
    "assert not equal_itertools_chain_from_iterable(mat_22_0, mat_23)\n",
    "\n"
   ]
  },
  {
   "cell_type": "markdown",
   "metadata": {},
   "source": [
    "## 덧셈<br>Addition\n",
    "\n"
   ]
  },
  {
   "cell_type": "code",
   "execution_count": null,
   "metadata": {},
   "outputs": [],
   "source": [
    "def add_mat(mat_A, mat_B):\n",
    "    assert shape(mat_A) == shape(mat_B), (\n",
    "        f\"shape(mat_A) = {shape(mat_A)}, \"\n",
    "        f\"shape(mat_B) = {shape(mat_B)}\"\n",
    "    )\n",
    "\n",
    "    result = []\n",
    "\n",
    "    for row_A, row_B in zip(mat_A, mat_B):\n",
    "        new_row = []\n",
    "\n",
    "        for col_A, col_B in zip(row_A, row_B):\n",
    "            new_row.append(col_A + col_B)\n",
    "\n",
    "        result.append(new_row)\n",
    "\n",
    "    return result\n",
    "\n"
   ]
  },
  {
   "cell_type": "code",
   "execution_count": null,
   "metadata": {},
   "outputs": [],
   "source": [
    "mat_A_33 = [\n",
    "    [2, -1, 3],\n",
    "    [0, 4, 6],\n",
    "    [-6, 10, -5],\n",
    "]\n",
    "\n"
   ]
  },
  {
   "cell_type": "code",
   "execution_count": null,
   "metadata": {},
   "outputs": [],
   "source": [
    "mat_B_33 = [\n",
    "    [4, 7, -8],\n",
    "    [9, 3, 5],\n",
    "    [1, -1, 2],\n",
    "]\n",
    "\n"
   ]
  },
  {
   "cell_type": "code",
   "execution_count": null,
   "metadata": {},
   "outputs": [],
   "source": [
    "pprint.pprint(add_mat(mat_A_33, mat_B_33), width=20)\n",
    "\n"
   ]
  },
  {
   "cell_type": "code",
   "execution_count": null,
   "metadata": {},
   "outputs": [],
   "source": [
    "try:\n",
    "    pprint.pprint(add_mat(mat_A_33, mat_22_0), width=20)\n",
    "except AssertionError as e:\n",
    "    print(e)\n",
    "else:\n",
    "    assert True, \"Raise expected\"\n",
    "\n"
   ]
  },
  {
   "cell_type": "markdown",
   "metadata": {},
   "source": [
    "## 스칼라 곱<br>Scalar mutiple\n",
    "\n"
   ]
  },
  {
   "cell_type": "code",
   "execution_count": null,
   "metadata": {},
   "outputs": [],
   "source": [
    "def mul_scalar_mat(a, mat_A):\n",
    "    result = []\n",
    "\n",
    "    for row_A in mat_A:\n",
    "        new_row = []\n",
    "\n",
    "        for col_A in row_A:\n",
    "            new_row.append(col_A * a)\n",
    "\n",
    "        result.append(new_row)\n",
    "\n",
    "    return result\n",
    "\n"
   ]
  },
  {
   "cell_type": "code",
   "execution_count": null,
   "metadata": {},
   "outputs": [],
   "source": [
    "mat_A = [\n",
    "    [2, -3],\n",
    "    [4, -1],\n",
    "]\n",
    "\n"
   ]
  },
  {
   "cell_type": "code",
   "execution_count": null,
   "metadata": {},
   "outputs": [],
   "source": [
    "pprint.pprint(mul_scalar_mat(5, mat_A), width=15)\n",
    "\n"
   ]
  },
  {
   "cell_type": "markdown",
   "metadata": {},
   "source": [
    "## Transpose\n",
    "\n"
   ]
  },
  {
   "cell_type": "code",
   "execution_count": null,
   "metadata": {},
   "outputs": [],
   "source": [
    "def transpose(mat_A):\n",
    "    n_row, n_col = shape(mat_A)\n",
    "\n",
    "    result = []\n",
    "    for j in range(n_col):\n",
    "        new_row = []\n",
    "        result.append(new_row)\n",
    "\n",
    "        for i in range(n_row):\n",
    "            new_row.append(mat_A[i][j])\n",
    "\n",
    "    return result\n",
    "\n"
   ]
  },
  {
   "cell_type": "code",
   "execution_count": null,
   "metadata": {},
   "outputs": [],
   "source": [
    "pprint.pprint(transpose(mat_A), width=15)\n",
    "\n"
   ]
  },
  {
   "cell_type": "markdown",
   "metadata": {},
   "source": [
    "## 행렬 벡터 곱셈<br>Matrix vector product\n",
    "\n"
   ]
  },
  {
   "cell_type": "code",
   "execution_count": null,
   "metadata": {},
   "outputs": [],
   "source": [
    "def mul_mat_vec(mat_A, vec_x):\n",
    "    n_row, n_col = shape(mat_A)\n",
    "    \n",
    "    assert n_col == len(vec_x), f\"shape(mat_A) = {shape(mat_A)}, len(vec_x) = {len(vec_x)}\"\n",
    "\n",
    "    result = [0.0] * n_row\n",
    "\n",
    "    for i in range(n_row):\n",
    "        for k in range(n_col):\n",
    "            result[i] += mat_A[i][k] * vec_x[k]\n",
    "\n",
    "    return result\n",
    "\n"
   ]
  },
  {
   "cell_type": "code",
   "execution_count": null,
   "metadata": {},
   "outputs": [],
   "source": [
    "mat_A = [\n",
    "    [4, 7],\n",
    "    [3, 5],\n",
    "]\n",
    "\n",
    "vec_x = [9,\n",
    "         6]\n",
    "\n",
    "mul_mat_vec(mat_A, vec_x)\n",
    "\n"
   ]
  },
  {
   "cell_type": "markdown",
   "metadata": {},
   "source": [
    "실은 행렬의 각 행과 벡터의 내적을 모은 것이다.<br>\n",
    "In fact, it is a collection of inner products of each row of the matrix and the vector.\n",
    "\n"
   ]
  },
  {
   "cell_type": "markdown",
   "metadata": {},
   "source": [
    "$$\n",
    "\\begin{pmatrix}\n",
    "    a_{00} & a_{01} & a_{02} \\\\\n",
    "    \\hline\n",
    "    a_{10} & a_{11} & a_{12} \\\\\n",
    "    \\hline\n",
    "    a_{20} & a_{21} & a_{22} \\\\\n",
    "    \\hline\n",
    "    a_{30} & a_{31} & a_{32} \\\\\n",
    "\\end{pmatrix}\n",
    "\\begin{pmatrix}\n",
    "    x_0 \\\\ x_1 \\\\ x_2\n",
    "\\end{pmatrix} = \n",
    "\\begin{pmatrix}\n",
    "    \\mathbb{a}_0 \\\\ \\mathbb{a}_1 \\\\ \\mathbb{a}_2 \\\\ \\mathbb{a}_3\n",
    "\\end{pmatrix} \\mathbb{x} =\n",
    "\\begin{pmatrix}\n",
    "    \\mathbb{a}_0 \\cdot \\mathbb{x} \\\\ \n",
    "    \\mathbb{a}_1 \\cdot \\mathbb{x} \\\\\n",
    "    \\mathbb{a}_2 \\cdot \\mathbb{x} \\\\ \n",
    "    \\mathbb{a}_3 \\cdot \\mathbb{x}\n",
    "\\end{pmatrix}\n",
    "$$\n",
    "\n",
    "[//]: # (horizontal lines : https://tex.stackexchange.com/questions/253739/vertical-and-horizontal-line-in-a-matrix)\n",
    "[//]: # (vertical lines : https://tex.stackexchange.com/questions/33519/vertical-line-in-matrix-using-latexit)\n",
    "[//]: # (markdown comments : https://alvinalexander.com/technology/markdown-comments-syntax-not-in-generated-output)\n",
    "[//]: # (markdown comments : https://stackoverflow.com/questions/4823468/comments-in-markdown)\n",
    "[//]: # (bold vector : https://de.overleaf.com/learn/latex/Mathematical_fonts)\n",
    "\n"
   ]
  },
  {
   "cell_type": "code",
   "execution_count": null,
   "metadata": {},
   "outputs": [],
   "source": [
    "def dot(vec_a, vec_b):\n",
    "\n",
    "    assert len(vec_a) == len(vec_b), f\"len(vec_a) = {len(vec_a)}, len(vec_b) = {len(vec_b)}\"\n",
    "\n",
    "    return sum(ai * bi for ai, bi in zip(vec_a, vec_b))\n",
    "\n"
   ]
  },
  {
   "cell_type": "code",
   "execution_count": null,
   "metadata": {},
   "outputs": [],
   "source": [
    "def mul_mat_vec_dot(mat_A, vec_x):\n",
    "\n",
    "    assert shape(mat_A)[1] == len(vec_x), f\"shape(mat_A) = {shape(mat_A)}, len(vec_x) = {len(vec_x)}\"\n",
    "\n",
    "    return [dot(row, vec_x) for row in mat_A ]\n",
    "\n"
   ]
  },
  {
   "cell_type": "code",
   "execution_count": null,
   "metadata": {},
   "outputs": [],
   "source": [
    "mul_mat_vec_dot(mat_A, vec_x)\n",
    "\n"
   ]
  },
  {
   "cell_type": "code",
   "execution_count": null,
   "metadata": {},
   "outputs": [],
   "source": [
    "assert mul_mat_vec(mat_A, vec_x) == mul_mat_vec_dot(mat_A, vec_x)\n",
    "\n"
   ]
  },
  {
   "cell_type": "markdown",
   "metadata": {},
   "source": [
    "## 행렬 곱셈<br>Matrix product\n",
    "\n"
   ]
  },
  {
   "cell_type": "markdown",
   "metadata": {},
   "source": [
    "다음 비디오는 행렬 곱셈을 소개한다.<br>\n",
    "The following video introduces the Matrix Multiplication. (00:43 ~ 6:17)\n",
    "\n",
    "[![MIT OCW 18.06 Lecture 2 Gauss Elimination](https://i.ytimg.com/vi/FX4C-JpTFgY/hqdefault.jpg)](https://www.youtube.com/watch?v=FX4C-JpTFgY&list=PL221E2BBF13BECF6C&index=9&start=43&end=377)\n",
    "\n"
   ]
  },
  {
   "cell_type": "code",
   "execution_count": null,
   "metadata": {},
   "outputs": [],
   "source": [
    "def mul_mat(mat_A, mat_B):\n",
    "    n_row_A, n_col_A = shape(mat_A)\n",
    "    n_row_B, n_col_B = shape(mat_B)\n",
    "\n",
    "    assert n_col_A == n_row_B, f\"shape(mat_A) = {shape(mat_A)}, shape(mat_B) = {shape(mat_B)}\"\n",
    "\n",
    "    result = []\n",
    "\n",
    "    for i in range(n_row_A):\n",
    "        new_row = []\n",
    "\n",
    "        for j in range(n_col_B):\n",
    "\n",
    "            aij = 0\n",
    "            for k in range(n_col_A):\n",
    "                aij += mat_A[i][k] * mat_B[k][j]\n",
    "\n",
    "            new_row.append(aij)\n",
    "\n",
    "        result.append(new_row)\n",
    "\n",
    "    return result\n",
    "\n"
   ]
  },
  {
   "cell_type": "code",
   "execution_count": null,
   "metadata": {},
   "outputs": [],
   "source": [
    "mat_A = [\n",
    "    [4, 7],\n",
    "    [3, 5],\n",
    "]\n",
    "\n"
   ]
  },
  {
   "cell_type": "code",
   "execution_count": null,
   "metadata": {},
   "outputs": [],
   "source": [
    "mat_B = [\n",
    "    [9, -2],\n",
    "    [6, 8],\n",
    "]\n",
    "\n"
   ]
  },
  {
   "cell_type": "code",
   "execution_count": null,
   "metadata": {},
   "outputs": [],
   "source": [
    "pprint.pprint(mul_mat(mat_A, mat_B), width=10)\n",
    "\n"
   ]
  },
  {
   "cell_type": "markdown",
   "metadata": {},
   "source": [
    "자세히 살펴보면 앞 행렬의 각 행 벡터와 뒤 행렬의 각 열 벡터의 내적을 모은 것임을 알 수 있다.<br>\n",
    "Careful observation would reveal that the matrix product is a collection of inner products of each row vector of the multiplicand and each column vector of multiplier matrices.\n",
    "\n"
   ]
  },
  {
   "cell_type": "markdown",
   "metadata": {},
   "source": [
    "$$\n",
    "\\begin{pmatrix}\n",
    "    a_{00} & a_{01} & a_{02} \\\\\n",
    "    \\hline\n",
    "    a_{10} & a_{11} & a_{12} \\\\\n",
    "    \\hline\n",
    "    a_{20} & a_{21} & a_{22} \\\\\n",
    "    \\hline\n",
    "    a_{30} & a_{31} & a_{32} \\\\\n",
    "\\end{pmatrix}\n",
    "\\left(\n",
    "\\begin{array}{c|c|c}\n",
    "    x_{00} & x_{01} & x_{02} \\\\ \n",
    "    x_{10} & x_{11} & x_{12} \\\\ \n",
    "    x_{20} & x_{21} & x_{22}\n",
    "\\end{array} \n",
    "\\right) \\\\ = \n",
    "\\begin{pmatrix}\n",
    "    \\mathbb{a}_0 \\\\ \\mathbb{a}_1 \\\\ \\mathbb{a}_2 \\\\ \\mathbb{a}_3\n",
    "\\end{pmatrix} \n",
    "\\begin{pmatrix}\n",
    "    \\mathbb{x}_0 & \\mathbb{x}_1 & \\mathbb{x}_2\n",
    "\\end{pmatrix} \\\\ =\n",
    "\\begin{pmatrix}\n",
    "    \\mathbb{a}_0 \\cdot \\mathbb{x}_0 & \\mathbb{a}_0 \\cdot \\mathbb{x}_1 & \\mathbb{a}_0 \\cdot \\mathbb{x}_2 \\\\ \n",
    "    \\mathbb{a}_1 \\cdot \\mathbb{x}_0 & \\mathbb{a}_1 \\cdot \\mathbb{x}_1 & \\mathbb{a}_1 \\cdot \\mathbb{x}_2 \\\\\n",
    "    \\mathbb{a}_2 \\cdot \\mathbb{x}_0 & \\mathbb{a}_2 \\cdot \\mathbb{x}_1 & \\mathbb{a}_2 \\cdot \\mathbb{x}_2 \\\\ \n",
    "    \\mathbb{a}_3 \\cdot \\mathbb{x}_0 & \\mathbb{a}_3 \\cdot \\mathbb{x}_1 & \\mathbb{a}_3 \\cdot \\mathbb{x}_2\n",
    "\\end{pmatrix}\n",
    "$$\n",
    "\n",
    "[//]: # (horizontal lines : https://tex.stackexchange.com/questions/253739/vertical-and-horizontal-line-in-a-matrix)\n",
    "[//]: # (vertical lines : https://tex.stackexchange.com/questions/33519/vertical-line-in-matrix-using-latexit)\n",
    "[//]: # (markdown comments : https://alvinalexander.com/technology/markdown-comments-syntax-not-in-generated-output)\n",
    "[//]: # (markdown comments : https://stackoverflow.com/questions/4823468/comments-in-markdown)\n",
    "[//]: # (bold vector : https://de.overleaf.com/learn/latex/Mathematical_fonts)\n",
    "\n"
   ]
  },
  {
   "cell_type": "code",
   "execution_count": null,
   "metadata": {},
   "outputs": [],
   "source": [
    "def mul_mat_dot(mat_A, mat_B):\n",
    "    n_row_A, n_col_A = shape(mat_A)\n",
    "    n_row_B, n_col_B = shape(mat_B)\n",
    "\n",
    "    assert n_col_A == n_row_B, f\"shape(mat_A) = {shape(mat_A)}, shape(mat_B) = {shape(mat_B)}\"\n",
    "\n",
    "    mat_B_T = transpose(mat_B)\n",
    "    \n",
    "    result = []\n",
    "\n",
    "    for row_A in mat_A:\n",
    "        new_row = []\n",
    "\n",
    "        for col_B in mat_B_T:\n",
    "\n",
    "            new_row.append(dot(row_A, col_B))\n",
    "\n",
    "        result.append(new_row)\n",
    "\n",
    "    return result\n",
    "\n"
   ]
  },
  {
   "cell_type": "code",
   "execution_count": null,
   "metadata": {},
   "outputs": [],
   "source": [
    "pprint.pprint(mul_mat_dot(mat_A, mat_B), width=10)\n",
    "\n"
   ]
  },
  {
   "cell_type": "markdown",
   "metadata": {},
   "source": [
    "### 리스트 줄여쓰기<br>List comprehension\n",
    "\n"
   ]
  },
  {
   "cell_type": "code",
   "execution_count": null,
   "metadata": {},
   "outputs": [],
   "source": [
    "def mul_mat_dot_list_comp(mat_A, mat_B):\n",
    "\n",
    "    assert shape(mat_A)[1] == shape(mat_B)[0], f\"shape(mat_A) = {shape(mat_A)}, shape(mat_B) = {shape(mat_B)}\"\n",
    "\n",
    "    return [\n",
    "        [\n",
    "            dot(row_A, col_B)\n",
    "            for col_B in transpose(mat_B)\n",
    "        ]\n",
    "        for row_A in mat_A\n",
    "    ]\n",
    "    return result\n",
    "\n"
   ]
  },
  {
   "cell_type": "code",
   "execution_count": null,
   "metadata": {},
   "outputs": [],
   "source": [
    "pprint.pprint(mul_mat_dot_list_comp(mat_A, mat_B), width=10)\n",
    "\n"
   ]
  },
  {
   "cell_type": "code",
   "execution_count": null,
   "metadata": {},
   "outputs": [],
   "source": [
    "assert equal(mul_mat_dot(mat_A, mat_B), mul_mat_dot_list_comp(mat_A, mat_B))\n",
    "\n"
   ]
  },
  {
   "cell_type": "markdown",
   "metadata": {},
   "source": [
    "### 함수형<br>Functional programming\n",
    "\n"
   ]
  },
  {
   "cell_type": "code",
   "execution_count": null,
   "metadata": {},
   "outputs": [],
   "source": [
    "def mul_mat_dot_functional(mat_A, mat_B):\n",
    "\n",
    "    assert shape(mat_A)[1] == shape(mat_B)[0], f\"shape(mat_A) = {shape(mat_A)}, shape(mat_B) = {shape(mat_B)}\"\n",
    "\n",
    "    return list(map(lambda a: list(map(lambda b: dot(a, b), transpose(mat_B))), mat_A))\n",
    "\n"
   ]
  },
  {
   "cell_type": "code",
   "execution_count": null,
   "metadata": {},
   "outputs": [],
   "source": [
    "pprint.pprint(mul_mat_dot_functional(mat_A, mat_B), width=10)\n",
    "\n"
   ]
  },
  {
   "cell_type": "code",
   "execution_count": null,
   "metadata": {},
   "outputs": [],
   "source": [
    "assert equal(mul_mat_dot(mat_A, mat_B), mul_mat_dot_functional(mat_A, mat_B))\n",
    "\n"
   ]
  },
  {
   "cell_type": "markdown",
   "metadata": {},
   "source": [
    "## Final Bell<br>마지막 종\n",
    "\n"
   ]
  },
  {
   "cell_type": "code",
   "execution_count": null,
   "metadata": {},
   "outputs": [],
   "source": [
    "# stackoverfow.com/a/24634221\n",
    "import os\n",
    "os.system(\"printf '\\a'\");\n",
    "\n"
   ]
  },
  {
   "cell_type": "code",
   "execution_count": null,
   "metadata": {},
   "outputs": [],
   "source": []
  }
 ],
 "metadata": {
  "kernelspec": {
   "display_name": "Python 3",
   "language": "python",
   "name": "python3"
  },
  "language_info": {
   "codemirror_mode": {
    "name": "ipython",
    "version": 3
   },
   "file_extension": ".py",
   "mimetype": "text/x-python",
   "name": "python",
   "nbconvert_exporter": "python",
   "pygments_lexer": "ipython3",
   "version": "3.7.3"
  }
 },
 "nbformat": 4,
 "nbformat_minor": 2
}
