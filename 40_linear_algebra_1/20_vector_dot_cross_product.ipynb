{
 "cells": [
  {
   "cell_type": "code",
   "execution_count": null,
   "metadata": {},
   "outputs": [],
   "source": [
    "# This cell is for the Google Colaboratory\n",
    "# https://stackoverflow.com/a/63519730\n",
    "if 'google.colab' in str(get_ipython()):\n",
    "  # https://colab.research.google.com/notebooks/io.ipynb\n",
    "  import google.colab.drive as gcdrive\n",
    "  # may need to visit a link for the Google Colab authorization code\n",
    "  gcdrive.mount(\"/content/drive/\")\n",
    "  import sys\n",
    "  sys.path.insert(0,\"/content/drive/My Drive/Colab Notebooks/nmisp/40_linear_algebra_1\")\n"
   ]
  },
  {
   "cell_type": "code",
   "execution_count": null,
   "metadata": {},
   "outputs": [],
   "source": [
    "# 그래프, 수학 기능 추가\n",
    "# Add graph and math features\n",
    "import pylab as py\n",
    "import numpy as np\n",
    "import numpy.linalg as nl\n",
    "# 기호 연산 기능 추가\n",
    "# Add symbolic operation capability\n",
    "import sympy as sy\n",
    "\n"
   ]
  },
  {
   "cell_type": "markdown",
   "metadata": {},
   "source": [
    "# 벡터의 내적과 외적<br>Inner and Cross Products of Vectors\n",
    "\n"
   ]
  },
  {
   "cell_type": "markdown",
   "metadata": {},
   "source": [
    "## 벡터의 내적<br>Inner Product of Vectors\n",
    "\n"
   ]
  },
  {
   "cell_type": "markdown",
   "metadata": {},
   "source": [
    "### `numpy`\n",
    "\n"
   ]
  },
  {
   "cell_type": "markdown",
   "metadata": {},
   "source": [
    "벡터의 내적에 관해 아래 비디오 링크를 참고할 수 있다. (9:09) (내적 주요 설명 1:54 ~ 4:40)<br>\n",
    "Regarding the vector inner product, you can check the following link. (9:09) (Inner product explanation 1:54 ~ 4:40)<br>\n",
    "<br>\n",
    "[![칸 아카데미 | 벡터와 벡터 공간 | 벡터 내적과 벡터의 길이<br>Khan Academy | Linear Algebra | Vectors and spaces | Vector dot product and vector length](https://i.ytimg.com/vi/WNuIhXo39_k/hqdefault.jpg)](https://www.youtube.com/watch?v=WNuIhXo39_k)\n",
    "\n"
   ]
  },
  {
   "cell_type": "markdown",
   "metadata": {},
   "source": [
    "예를 들어 2차원 벡터를 생각해 보자.<br>\n",
    "For example, let's think about two-dimensional vectors (2D vectors).\n",
    "\n"
   ]
  },
  {
   "cell_type": "code",
   "execution_count": null,
   "metadata": {},
   "outputs": [],
   "source": [
    "# ref : https://www.youtube.com/watch?v=8QihetGj3pg\n",
    "b = np.array((2, 5))\n",
    "c = np.array((7, 1))\n",
    "\n"
   ]
  },
  {
   "cell_type": "code",
   "execution_count": null,
   "metadata": {},
   "outputs": [],
   "source": [
    "b\n",
    "\n"
   ]
  },
  {
   "cell_type": "code",
   "execution_count": null,
   "metadata": {},
   "outputs": [],
   "source": [
    "c\n",
    "\n"
   ]
  },
  {
   "cell_type": "markdown",
   "metadata": {},
   "source": [
    "위 2차원 벡터를 한번 그려 보자<br>\n",
    "Let's plot the 2D vectors above.\n",
    "\n"
   ]
  },
  {
   "cell_type": "code",
   "execution_count": null,
   "metadata": {},
   "outputs": [],
   "source": [
    "def draw_2dvec(x, y, x0=0, y0=0, color='k', name=None):\n",
    "    py.quiver(x0, y0, x, y, color=color, angles='xy', scale_units='xy', scale=1)\n",
    "    py.plot((x0, x), (y0, y), alpha=0)\n",
    "    if name is not None:\n",
    "        if not name.startswith('$'):\n",
    "            vec_str = '$\\\\vec{%s}$' % name\n",
    "        else:\n",
    "            vec_str = name\n",
    "        py.text(0.5 * x + x0, 0.5 * y + y0, vec_str)\n",
    "\n"
   ]
  },
  {
   "cell_type": "code",
   "execution_count": null,
   "metadata": {
    "scrolled": true
   },
   "outputs": [],
   "source": [
    "draw_2dvec(b[0], b[1], name='b')\n",
    "draw_2dvec(c[0], c[1], name='c')\n",
    "\n",
    "py.axis('equal')\n",
    "py.grid(True)\n",
    "\n"
   ]
  },
  {
   "cell_type": "markdown",
   "metadata": {},
   "source": [
    "이 두 벡터의 내적을 계산해 보자<br>Let's calculate the inner product of these two vectors.\n",
    "\n"
   ]
  },
  {
   "cell_type": "code",
   "execution_count": null,
   "metadata": {
    "scrolled": true
   },
   "outputs": [],
   "source": [
    "py.dot(b, c)\n",
    "\n"
   ]
  },
  {
   "cell_type": "markdown",
   "metadata": {},
   "source": [
    "확인해 보자.<br>Let's verify.\n",
    "\n"
   ]
  },
  {
   "cell_type": "code",
   "execution_count": null,
   "metadata": {},
   "outputs": [],
   "source": [
    "b[0]*c[0] + b[1]*c[1]\n",
    "\n"
   ]
  },
  {
   "cell_type": "markdown",
   "metadata": {},
   "source": [
    "다른 방법도 있다.<br>Other methods are available.\n",
    "\n"
   ]
  },
  {
   "cell_type": "code",
   "execution_count": null,
   "metadata": {},
   "outputs": [],
   "source": [
    "# https://docs.scipy.org/doc/numpy/reference/generated/numpy.inner.html\n",
    "py.inner(b, c)\n",
    "\n"
   ]
  },
  {
   "cell_type": "code",
   "execution_count": null,
   "metadata": {},
   "outputs": [],
   "source": [
    "# https://docs.scipy.org/doc/numpy/reference/generated/numpy.inner.html\n",
    "sum(b[:] * c[:])\n",
    "\n"
   ]
  },
  {
   "cell_type": "markdown",
   "metadata": {},
   "source": [
    "**Python 3.5, Numpy 1.10 이상**에서는 **`@` 연산자**를 내적의 의미로 사용할 수 있다.<br>\n",
    "For **Python 3.5 or higher and Numpy 1.10 or higher**, we can use **`@` operator** as inner product.\n",
    "\n"
   ]
  },
  {
   "cell_type": "code",
   "execution_count": null,
   "metadata": {},
   "outputs": [],
   "source": [
    "b @ c\n",
    "\n"
   ]
  },
  {
   "cell_type": "code",
   "execution_count": null,
   "metadata": {},
   "outputs": [],
   "source": [
    "theta_a_deg = 30\n",
    "theta_a_rad = np.deg2rad(theta_a_deg)\n",
    "theta_b_deg = 120\n",
    "theta_b_rad = np.deg2rad(theta_b_deg)\n",
    "\n",
    "a_row_array = np.array([np.cos(theta_a_rad), np.sin(theta_a_rad)])\n",
    "b_row_array = np.array([np.cos(theta_b_rad), np.sin(theta_b_rad)])\n",
    "\n"
   ]
  },
  {
   "cell_type": "code",
   "execution_count": null,
   "metadata": {},
   "outputs": [],
   "source": [
    "py.plot((0, a_row_array[0]), (0, a_row_array[1]), '-', label='a')\n",
    "py.plot((0, b_row_array[0]), (0, b_row_array[1]), '-', label='b')\n",
    "py.grid(True)\n",
    "py.legend(loc=0)\n",
    "py.axis('equal')\n",
    "py.show()\n",
    "\n"
   ]
  },
  {
   "cell_type": "code",
   "execution_count": null,
   "metadata": {},
   "outputs": [],
   "source": [
    "print('a dot b (array) =', np.dot(a_row_array, b_row_array))\n",
    "print('a_row_array @ b_row_array =', a_row_array @ b_row_array)\n",
    "\n"
   ]
  },
  {
   "cell_type": "markdown",
   "metadata": {},
   "source": [
    "### 표준 기능<br>Standard library\n",
    "\n"
   ]
  },
  {
   "cell_type": "code",
   "execution_count": null,
   "metadata": {},
   "outputs": [],
   "source": [
    "b_list = [2, 5]\n",
    "c_list = [7, 1]\n",
    "print(f\"b_list = {b_list}\")\n",
    "print(f\"c_list = {c_list}\")\n",
    "\n"
   ]
  },
  {
   "cell_type": "code",
   "execution_count": null,
   "metadata": {},
   "outputs": [],
   "source": [
    "def dot_product_list_comprehension(x_list, y_list):\n",
    "    assert len(x_list) == len(y_list)\n",
    "    return sum(xi*yi for xi, yi in zip(x_list, y_list))\n",
    "\n"
   ]
  },
  {
   "cell_type": "code",
   "execution_count": null,
   "metadata": {},
   "outputs": [],
   "source": [
    "def dot_product_map(x_list, y_list):\n",
    "    assert len(x_list) == len(y_list)\n",
    "    return sum(map(lambda x_y:x_y[0] * x_y[1],zip(x_list, y_list)))\n",
    "\n"
   ]
  },
  {
   "cell_type": "code",
   "execution_count": null,
   "metadata": {},
   "outputs": [],
   "source": [
    "def dot_product_list_for(x_list, y_list):\n",
    "    assert len(x_list) == len(y_list)\n",
    "    s = 0\n",
    "    for xi, yi in zip(x_list, y_list):\n",
    "        s += (xi * yi)\n",
    "    return s\n",
    "\n"
   ]
  },
  {
   "cell_type": "code",
   "execution_count": null,
   "metadata": {},
   "outputs": [],
   "source": [
    "print(f\"dot_product_list_comprehension(b_list, c_list) = {dot_product_list_comprehension(b_list, c_list)}\")\n",
    "print(f\"dot_product_map(b_list, c_list) = {dot_product_map(b_list, c_list)}\")\n",
    "print(f\"dot_product_list_for(b_list, c_list) = {dot_product_list_for(b_list, c_list)}\")\n",
    "\n"
   ]
  },
  {
   "cell_type": "code",
   "execution_count": null,
   "metadata": {},
   "outputs": [],
   "source": [
    "assert (\n",
    "    dot_product_list_comprehension(b_list, c_list) \n",
    "    == dot_product_map(b_list, c_list)\n",
    "    == dot_product_list_for(b_list, c_list)\n",
    ")\n",
    "\n"
   ]
  },
  {
   "cell_type": "markdown",
   "metadata": {},
   "source": [
    "## 벡터의 외적<br>Cross Product of Vectors\n",
    "\n"
   ]
  },
  {
   "cell_type": "markdown",
   "metadata": {},
   "source": [
    "아래 비디오 링크를 참고할 수 있다. (15:46)<br>\n",
    "Regarding the vector inner product, you can check the following link. (15:46)<br>\n",
    "<br>\n",
    "[![칸 아카데미 | 벡터와 벡터 공간 | 외적 소개<br>Khan Academy | Linear Algebra | Vectors and spaces | Cross product introduction](https://i.ytimg.com/vi/pJzmiywagfY/hqdefault.jpg)](https://www.youtube.com/watch?v=pJzmiywagfY)\n",
    "\n"
   ]
  },
  {
   "cell_type": "markdown",
   "metadata": {},
   "source": [
    "열벡터의 잇점은 무엇이라고 생각하는가?<br>\n",
    "What do you think is the advantage of the column vector form?\n",
    "\n"
   ]
  },
  {
   "cell_type": "markdown",
   "metadata": {},
   "source": [
    "### `numpy`\n",
    "\n"
   ]
  },
  {
   "cell_type": "markdown",
   "metadata": {},
   "source": [
    "다음과 같은 두 벡터를 생각해 보자.<br>Let's think about following two vectors.\n",
    "\n"
   ]
  },
  {
   "cell_type": "code",
   "execution_count": null,
   "metadata": {},
   "outputs": [],
   "source": [
    "a = py.array((1, -7, 1))\n",
    "b = py.array((5, 2, 4))\n",
    "\n"
   ]
  },
  {
   "cell_type": "markdown",
   "metadata": {},
   "source": [
    "외적을 계산해 보자.<br>Let's calculate the cross product.\n",
    "\n"
   ]
  },
  {
   "cell_type": "code",
   "execution_count": null,
   "metadata": {},
   "outputs": [],
   "source": [
    "a_cross_b = py.cross(a, b)\n",
    "\n"
   ]
  },
  {
   "cell_type": "code",
   "execution_count": null,
   "metadata": {},
   "outputs": [],
   "source": [
    "a_cross_b\n",
    "\n"
   ]
  },
  {
   "cell_type": "markdown",
   "metadata": {},
   "source": [
    "확인 해 보자.<br>Let's verify.\n",
    "\n"
   ]
  },
  {
   "cell_type": "code",
   "execution_count": null,
   "metadata": {},
   "outputs": [],
   "source": [
    "py.dot(a, a_cross_b)\n",
    "\n"
   ]
  },
  {
   "cell_type": "code",
   "execution_count": null,
   "metadata": {},
   "outputs": [],
   "source": [
    "py.dot(b, a_cross_b)\n",
    "\n"
   ]
  },
  {
   "cell_type": "markdown",
   "metadata": {},
   "source": [
    "외적의 결과가 $\\vec{a}$, $\\vec{b}$ 와 수직임을 알 수 있다.<br>We can see that the cross product is orthogonal to $\\vec{a}$ and $\\vec{b}$.\n",
    "\n"
   ]
  },
  {
   "cell_type": "markdown",
   "metadata": {},
   "source": [
    "### 표준기능<br>Standard library\n",
    "\n"
   ]
  },
  {
   "cell_type": "code",
   "execution_count": null,
   "metadata": {},
   "outputs": [],
   "source": [
    "a_list = (1, -7, 1)\n",
    "b_list = (5, 2, 4)\n",
    "\n"
   ]
  },
  {
   "cell_type": "code",
   "execution_count": null,
   "metadata": {},
   "outputs": [],
   "source": [
    "def cross_product_list(x_list, y_list):\n",
    "    assert 3 == len(x_list)\n",
    "    assert 3 == len(y_list)\n",
    "    return [\n",
    "        x_list[1]*y_list[2] - x_list[2]*y_list[1],\n",
    "        x_list[0]*y_list[2] - x_list[2]*y_list[0],\n",
    "        x_list[0]*y_list[1] - x_list[1]*y_list[0],\n",
    "    ]\n",
    "\n"
   ]
  },
  {
   "cell_type": "code",
   "execution_count": null,
   "metadata": {},
   "outputs": [],
   "source": [
    "print(f\"cross_product_list(a_list, b_list) = {cross_product_list(a_list, b_list)}\")\n",
    "\n"
   ]
  },
  {
   "cell_type": "markdown",
   "metadata": {},
   "source": [
    "## 행렬 벡터 곱셈<br>Matrix Vector Multiplication\n",
    "\n"
   ]
  },
  {
   "cell_type": "markdown",
   "metadata": {},
   "source": [
    "### 표준 기능<br>Standard library\n",
    "\n"
   ]
  },
  {
   "cell_type": "code",
   "execution_count": null,
   "metadata": {},
   "outputs": [],
   "source": [
    "theta_deg = 60\n",
    "theta_rad = py.deg2rad(theta_deg)\n",
    "\n",
    "c, s = py.cos(theta_rad), py.sin(theta_rad)\n",
    "\n",
    "mat_A_list_list = [\n",
    "    [c, -s],\n",
    "    [s, c],\n",
    "]\n",
    "\n",
    "vec_x_list = [1, 0]\n",
    "vec_y_list = [0, 1]\n",
    "\n"
   ]
  },
  {
   "cell_type": "code",
   "execution_count": null,
   "metadata": {},
   "outputs": [],
   "source": [
    "def mat_mul_vec(mat_list_list, vec_list):\n",
    "    assert len(mat_list_list[0]) == len(vec_list)\n",
    "    result_list = []\n",
    "    for row_list in mat_list_list:\n",
    "        result_i = 0\n",
    "        for j in range(len(vec_list)):\n",
    "            result_i += row_list[j] * vec_list[j]\n",
    "        result_list.append(result_i)\n",
    "    return result_list\n",
    "\n"
   ]
  },
  {
   "cell_type": "code",
   "execution_count": null,
   "metadata": {},
   "outputs": [],
   "source": [
    "rotated_x_list = mat_mul_vec(mat_A_list_list, vec_x_list)\n",
    "rotated_x_list\n",
    "\n"
   ]
  },
  {
   "cell_type": "code",
   "execution_count": null,
   "metadata": {},
   "outputs": [],
   "source": [
    "rotated_y_list = mat_mul_vec(mat_A_list_list, vec_y_list)\n",
    "rotated_y_list\n",
    "\n"
   ]
  },
  {
   "cell_type": "code",
   "execution_count": null,
   "metadata": {},
   "outputs": [],
   "source": [
    "py.clf()\n",
    "draw_2dvec(vec_x_list[0], vec_x_list[1], name='x')\n",
    "draw_2dvec(rotated_x_list[0], rotated_x_list[1], color='r', name='x_r')\n",
    "\n",
    "draw_2dvec(vec_y_list[0], vec_y_list[1], name='y')\n",
    "draw_2dvec(rotated_y_list[0], rotated_y_list[1], color='r', name='y_r')\n",
    "\n",
    "py.axis('equal')\n",
    "\n",
    "lim = 2\n",
    "\n",
    "py.grid(True)\n",
    "\n"
   ]
  },
  {
   "cell_type": "markdown",
   "metadata": {},
   "source": [
    "#### 리스트 줄여쓰기<br>List comprehension\n",
    "\n"
   ]
  },
  {
   "cell_type": "code",
   "execution_count": null,
   "metadata": {},
   "outputs": [],
   "source": [
    "def mat_mul_vec_dot(mat_list_list, vec_list):\n",
    "    return [\n",
    "        dot_product_list_comprehension(row_A, vec_list) for row_A in\n",
    "        mat_list_list\n",
    "    ]\n",
    "\n"
   ]
  },
  {
   "cell_type": "code",
   "execution_count": null,
   "metadata": {},
   "outputs": [],
   "source": [
    "rotated_x_dot_list = mat_mul_vec_dot(mat_A_list_list, vec_x_list)\n",
    "rotated_x_dot_list\n",
    "\n"
   ]
  },
  {
   "cell_type": "code",
   "execution_count": null,
   "metadata": {},
   "outputs": [],
   "source": [
    "rotated_y_dot_list = mat_mul_vec_dot(mat_A_list_list, vec_y_list)\n",
    "rotated_y_dot_list\n",
    "\n"
   ]
  },
  {
   "cell_type": "markdown",
   "metadata": {},
   "source": [
    "아래 셀은 `mat_mul_vec()` 함수와 `mat_mul_vec_dot()` 함수의 결과를 비교한다.<br>\n",
    "Following cell compares return values of the functions `mat_mul_vec()` and `mat_mul_vec_dot()`.\n",
    "\n"
   ]
  },
  {
   "cell_type": "code",
   "execution_count": null,
   "metadata": {},
   "outputs": [],
   "source": [
    "import numpy.random as nr\n",
    "\n",
    "m = nr.randint(2, 10)\n",
    "n = nr.randint(2, 10)\n",
    "\n",
    "mat_a = nr.randint(-10, 10, size=(m, n)).tolist()\n",
    "vec_b = nr.randint(-10, 10, size=(n,)).tolist()\n",
    "\n",
    "assert all(\n",
    "    map(\n",
    "        lambda results:min(results) == max(results),\n",
    "        zip(\n",
    "            mat_mul_vec(mat_a, vec_b),\n",
    "            mat_mul_vec_dot(mat_a, vec_b),\n",
    "       )\n",
    "   )\n",
    ")\n",
    "\n"
   ]
  },
  {
   "cell_type": "markdown",
   "metadata": {},
   "source": [
    "## 연습 문제<br>Exercise\n",
    "\n"
   ]
  },
  {
   "cell_type": "markdown",
   "metadata": {},
   "source": [
    "힘 벡터 (10, 10) 의 $\\vec{x'}, \\vec{y'}$ 방향 성분을 각각 구하시오.\n",
    "\n"
   ]
  },
  {
   "cell_type": "markdown",
   "metadata": {},
   "source": [
    "$$\n",
    "\\begin{align}\n",
    "    \\vec{x'}&=\\left(0.8, 0.6\\right) \\\\\n",
    "    \\vec{y'}&=\\left(-0.6, 0.8\\right)\n",
    "\\end{align}\n",
    "$$\n",
    "\n"
   ]
  },
  {
   "cell_type": "markdown",
   "metadata": {},
   "source": [
    "힘의 작용점 $\\vec{r}= (1, 1, 1)$인 힘 벡터 $\\vec{f}=(-1, 1, -1)$가 원점에 작용하는 모멘트의 크기와 방향을 구하시오\n",
    "\n"
   ]
  },
  {
   "cell_type": "markdown",
   "metadata": {},
   "source": [
    "## Final Bell<br>마지막 종\n",
    "\n"
   ]
  },
  {
   "cell_type": "code",
   "execution_count": null,
   "metadata": {},
   "outputs": [],
   "source": [
    "# stackoverfow.com/a/24634221\n",
    "import os\n",
    "os.system(\"printf '\\a'\");\n",
    "\n"
   ]
  },
  {
   "cell_type": "code",
   "execution_count": null,
   "metadata": {},
   "outputs": [],
   "source": []
  }
 ],
 "metadata": {
  "kernelspec": {
   "display_name": "Python 3",
   "language": "python",
   "name": "python3"
  },
  "language_info": {
   "codemirror_mode": {
    "name": "ipython",
    "version": 3
   },
   "file_extension": ".py",
   "mimetype": "text/x-python",
   "name": "python",
   "nbconvert_exporter": "python",
   "pygments_lexer": "ipython3",
   "version": "3.7.3"
  }
 },
 "nbformat": 4,
 "nbformat_minor": 2
}
