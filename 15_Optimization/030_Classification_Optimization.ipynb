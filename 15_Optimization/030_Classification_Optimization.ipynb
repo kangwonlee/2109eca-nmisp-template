{
 "cells": [
  {
   "cell_type": "markdown",
   "metadata": {},
   "source": [
    "# 분류 최적화<br>Classification Optimization"
   ]
  },
  {
   "cell_type": "code",
   "execution_count": null,
   "metadata": {},
   "outputs": [],
   "source": [
    "import matplotlib.pyplot as plt\n",
    "import numpy as np\n",
    "import numpy.random as nr\n",
    "import scipy.optimize as so\n",
    "\n"
   ]
  },
  {
   "cell_type": "markdown",
   "metadata": {},
   "source": [
    "$(x_1, x_2)$ 데이터 집합 두개 생성<br>Generating two data sets\n",
    "\n"
   ]
  },
  {
   "cell_type": "code",
   "execution_count": null,
   "metadata": {},
   "outputs": [],
   "source": [
    "n = 1000\n",
    "\n",
    "set_0 = nr.normal([2, 0], [1, 1], (n, 2))\n",
    "set_1 = nr.normal([0, 2], [1, 1], (n, 2))\n",
    "\n"
   ]
  },
  {
   "cell_type": "markdown",
   "metadata": {},
   "source": [
    "생성한 두 데이터 집합을 표시<br>\n",
    "Visualizing the two data sets\n",
    "\n"
   ]
  },
  {
   "cell_type": "code",
   "execution_count": null,
   "metadata": {},
   "outputs": [],
   "source": [
    "def plot_two_sets(set_a, set_b):\n",
    "\n",
    "    plt.plot(set_a[:, 0], set_a[:, 1], '.', label=\"y=0\", alpha=0.5)\n",
    "    plt.plot(set_b[:, 0], set_b[:, 1], '+', label=\"y=1\", alpha=0.5)\n",
    "    plt.grid(True)\n",
    "    plt.axis('equal')\n",
    "    plt.xlabel(\"$x_1$\")\n",
    "    plt.ylabel(\"$x_2$\")\n",
    "\n"
   ]
  },
  {
   "cell_type": "code",
   "execution_count": null,
   "metadata": {},
   "outputs": [],
   "source": [
    "plot_two_sets(set_0, set_1)\n",
    "\n",
    "plt.legend(loc=0)\n",
    "plt.show()\n",
    "plt.close();\n",
    "\n"
   ]
  },
  {
   "cell_type": "markdown",
   "metadata": {},
   "source": [
    "## 데이터 준비<br>Prepare data\n",
    "\n"
   ]
  },
  {
   "cell_type": "markdown",
   "metadata": {},
   "source": [
    "모든 입력 값과 출력 값을 하나의 배열 안에 모음<br>\n",
    "Collect all input & output values into one `numpy.ndarray`\n",
    "\n",
    "| 입력 input | 출력 output |\n",
    "|:----------:|:-----------:|\n",
    "| $(x_1, x_2)$ | 0 |\n",
    "| $(x_1, x_2)$ | 1 |\n",
    "\n"
   ]
  },
  {
   "cell_type": "code",
   "execution_count": null,
   "metadata": {},
   "outputs": [],
   "source": [
    "y0 = np.zeros((len(set_0), 1))\n",
    "y1 = np.ones((len(set_1), 1))\n",
    "\n",
    "data_0 = np.concatenate([set_0, y0], axis=1)\n",
    "data_1 = np.concatenate([set_1, y1], axis=1)\n",
    "\n",
    "data = np.concatenate([\n",
    "        data_0,\n",
    "        data_1\n",
    "    ], axis=0)\n",
    "\n"
   ]
  },
  {
   "cell_type": "markdown",
   "metadata": {},
   "source": [
    "행과 열의 갯수 확인<br>\n",
    "Check the number of rows and columns\n",
    "\n"
   ]
  },
  {
   "cell_type": "code",
   "execution_count": null,
   "metadata": {},
   "outputs": [],
   "source": [
    "data.shape\n",
    "\n"
   ]
  },
  {
   "cell_type": "markdown",
   "metadata": {},
   "source": [
    "처음 10개의 data<br>First 10 data points\n",
    "\n"
   ]
  },
  {
   "cell_type": "code",
   "execution_count": null,
   "metadata": {},
   "outputs": [],
   "source": [
    "data[:10, :]\n",
    "\n"
   ]
  },
  {
   "cell_type": "markdown",
   "metadata": {},
   "source": [
    "마지막 10개의 data<br>Last 10 data points\n",
    "\n"
   ]
  },
  {
   "cell_type": "code",
   "execution_count": null,
   "metadata": {},
   "outputs": [],
   "source": [
    "data[-10:, :]\n",
    "\n"
   ]
  },
  {
   "cell_type": "markdown",
   "metadata": {},
   "source": [
    "## 첫번째 (순진한) 시도<br>First (naive) attempt\n",
    "\n"
   ]
  },
  {
   "cell_type": "markdown",
   "metadata": {},
   "source": [
    "### 모델<br>Model\n",
    "\n"
   ]
  },
  {
   "cell_type": "markdown",
   "metadata": {},
   "source": [
    "$x_1$, $x_2$ 로부터 $y$ 값을 추정<br>\n",
    "Estimate $y$ from $x_1$ and $x_2$\n",
    "\n"
   ]
  },
  {
   "cell_type": "markdown",
   "metadata": {},
   "source": [
    "$$\n",
    "\\hat y = w_1 x_1 +  x_2 + w_2\n",
    "$$\n",
    "\n"
   ]
  },
  {
   "cell_type": "code",
   "execution_count": null,
   "metadata": {},
   "outputs": [],
   "source": [
    "def wx(w:np.ndarray, x_y:np.ndarray) -> np.ndarray:\n",
    "    w1 = w[0]\n",
    "    w2 = w[1]\n",
    "    \n",
    "    x1 = x_y[:, 0]\n",
    "    x2 = x_y[:, 1]\n",
    "\n",
    "    return w1 * x1 + x2 + w2\n",
    "\n"
   ]
  },
  {
   "cell_type": "markdown",
   "metadata": {},
   "source": [
    "이 $\\hat y$ 값이 0.5 보다 크면 1, 아니면 0 인 것으로 가정.<br>Let's assume it was one if this $\\hat y$ is larger than 0.5. Zero otherwise."
   ]
  },
  {
   "cell_type": "markdown",
   "metadata": {},
   "source": [
    "### 비용 함수<br>Cost function\n",
    "\n"
   ]
  },
  {
   "cell_type": "markdown",
   "metadata": {},
   "source": [
    "$$\n",
    "C = \\frac{1}{n}\\sum_{i=1}^{n} \\left( \\hat y_i - y_i \\right)^2\n",
    "$$"
   ]
  },
  {
   "cell_type": "markdown",
   "metadata": {},
   "source": [
    "예상되는 문제점?<br>\n",
    "Can you expect any possible issues?\n",
    "\n"
   ]
  },
  {
   "cell_type": "code",
   "execution_count": null,
   "metadata": {},
   "outputs": [],
   "source": [
    "def cost_function_first_attempt(w:np.ndarray, x_y:np.ndarray) -> float:\n",
    "    n = len(x_y)\n",
    "    y_hat = wx(w, x_y)\n",
    "    y = x_y[:, -1]\n",
    "\n",
    "    error = y_hat - y\n",
    "    error_sqr = error ** 2\n",
    "    result = error_sqr.sum() / n\n",
    "\n",
    "    return result\n",
    "\n"
   ]
  },
  {
   "cell_type": "markdown",
   "metadata": {},
   "source": [
    "최적화<br>\n",
    "Optimize\n",
    "\n"
   ]
  },
  {
   "cell_type": "code",
   "execution_count": null,
   "metadata": {},
   "outputs": [],
   "source": [
    "result = so.fmin(cost_function_first_attempt, x0=nr.rand(2,), args=(data,), full_output=True)\n",
    "weights, cost_value, n_iter, n_call, warning = result\n",
    "result\n",
    "\n"
   ]
  },
  {
   "cell_type": "markdown",
   "metadata": {},
   "source": [
    "$\\hat y = 0.5$\n",
    "\n"
   ]
  },
  {
   "cell_type": "markdown",
   "metadata": {},
   "source": [
    "$$\n",
    "\\begin{align}\n",
    "    \\hat y &= 0.5 \\\\\n",
    "    w_1 x_1 +  x_2 + w_2 &= 0.5 \\\\\n",
    "     x_2 &= -w_1 x_1 -w_2 + 0.5\n",
    "\\end{align}\n",
    "$$\n",
    "\n"
   ]
  },
  {
   "cell_type": "code",
   "execution_count": null,
   "metadata": {},
   "outputs": [],
   "source": [
    "def plot_decision_boundary(x_min, x_max, weights_array):\n",
    "    x1_array = np.linspace(x_min, x_max)\n",
    "    x2_array = - weights_array[0] * x1_array - weights_array[1] + 0.5\n",
    "\n",
    "    plt.plot(x1_array, x2_array, label=\"$\\hat y = 0.5$\")\n",
    "\n"
   ]
  },
  {
   "cell_type": "code",
   "execution_count": null,
   "metadata": {},
   "outputs": [],
   "source": [
    "plot_two_sets(set_0, set_1)\n",
    "plot_decision_boundary(data[:, 0].min(), data[:, 0].max(), weights)\n",
    "\n",
    "plt.legend(loc=0)\n",
    "plt.show()\n",
    "plt.close();\n",
    "\n"
   ]
  },
  {
   "cell_type": "markdown",
   "metadata": {},
   "source": [
    "## 계단함수<br>Step function\n",
    "\n"
   ]
  },
  {
   "cell_type": "markdown",
   "metadata": {},
   "source": [
    "0 또는 1로 바꾸어주는 함수<br>\n",
    "A function generating 0 or 1<br>\n",
    "\n"
   ]
  },
  {
   "cell_type": "markdown",
   "metadata": {},
   "source": [
    "$$\n",
    "s(z)=\n",
    "    \\begin{cases}\n",
    "        0, z < 0\\\\\n",
    "        1, z >= 0 \\\\\n",
    "    \\end{cases}\n",
    "$$\n",
    "\n"
   ]
  },
  {
   "cell_type": "code",
   "execution_count": null,
   "metadata": {},
   "outputs": [],
   "source": [
    "def step(z):\n",
    "    return np.heaviside(z, 0)\n",
    "\n"
   ]
  },
  {
   "cell_type": "code",
   "execution_count": null,
   "metadata": {},
   "outputs": [],
   "source": [
    "z_array = np.linspace(-10, 10)\n",
    "g_z_array = step(z_array)\n",
    "plt.plot(z_array, g_z_array)\n",
    "plt.grid(True)\n",
    "plt.xlabel('$z$')\n",
    "plt.ylabel(\"$g(z)$\")\n",
    "plt.show()\n",
    "\n"
   ]
  },
  {
   "cell_type": "markdown",
   "metadata": {},
   "source": [
    "계단 함수를 사용하는 비용함수<br>\n",
    "Cost function using the sigmoid function\n",
    "\n"
   ]
  },
  {
   "cell_type": "code",
   "execution_count": null,
   "metadata": {},
   "outputs": [],
   "source": [
    "def cost_function_step(w:np.ndarray, x_y:np.ndarray) -> float:\n",
    "    n = len(x_y)\n",
    "    y_hat = step(wx(w, x_y))\n",
    "    y = x_y[:, -1]\n",
    "\n",
    "    error = y_hat - y\n",
    "    error_sqr = error ** 2\n",
    "    result = error_sqr.sum() / n\n",
    "\n",
    "    return result\n",
    "\n"
   ]
  },
  {
   "cell_type": "markdown",
   "metadata": {},
   "source": [
    "최적화<br>\n",
    "Optimize\n",
    "\n"
   ]
  },
  {
   "cell_type": "code",
   "execution_count": null,
   "metadata": {
    "scrolled": true
   },
   "outputs": [],
   "source": [
    "result = so.fmin(cost_function_step, x0=nr.rand(2,), args=(data,), full_output=True)\n",
    "weights, cost_value, n_iter, n_call, warning = result\n",
    "result\n",
    "\n"
   ]
  },
  {
   "cell_type": "code",
   "execution_count": null,
   "metadata": {
    "scrolled": true
   },
   "outputs": [],
   "source": [
    "plot_two_sets(set_0, set_1)\n",
    "plot_decision_boundary(data[:, 0].min(), data[:, 0].max(), weights)\n",
    "\n",
    "plt.legend(loc=0)\n",
    "plt.show()\n",
    "plt.close();\n",
    "\n"
   ]
  },
  {
   "cell_type": "markdown",
   "metadata": {},
   "source": [
    "## Sigmoid function\n",
    "\n"
   ]
  },
  {
   "cell_type": "markdown",
   "metadata": {},
   "source": [
    "0 과 1 사이를 부드럽게 연결하는 함수<br>\n",
    "A function connecting 0 and 1 smoothly<br>\n",
    "ref : [![youtube](https://i.ytimg.com/vi/PIjno6paszY/hqdefault.jpg)](https://youtu.be/PIjno6paszY?t=650)\n",
    "\n"
   ]
  },
  {
   "cell_type": "markdown",
   "metadata": {},
   "source": [
    "$$\n",
    "z = w_1 x_1 +  x_2 + w_2\n",
    "$$\n",
    "\n"
   ]
  },
  {
   "cell_type": "markdown",
   "metadata": {},
   "source": [
    "$$\n",
    "\\hat y =  g(z)=\\frac{1}{1+exp\\left(-z\\right)}\n",
    "$$\n",
    "\n"
   ]
  },
  {
   "cell_type": "markdown",
   "metadata": {},
   "source": [
    "$$\n",
    "C = \\frac{1}{n}\\sum_{i=1}^{n} \\left( \\hat y_i - y_i \\right)^2\n",
    "$$"
   ]
  },
  {
   "cell_type": "code",
   "execution_count": null,
   "metadata": {},
   "outputs": [],
   "source": [
    "def sigmoid(z):\n",
    "    return 1.0 / (1.0 + np.exp(-z))\n",
    "\n"
   ]
  },
  {
   "cell_type": "code",
   "execution_count": null,
   "metadata": {},
   "outputs": [],
   "source": [
    "z_array = np.linspace(-10, 10)\n",
    "g_z_array = sigmoid(z_array)\n",
    "plt.plot(z_array, g_z_array)\n",
    "plt.grid(True)\n",
    "plt.xlabel('$z$')\n",
    "plt.ylabel(\"$g(z)$\")\n",
    "plt.show()\n",
    "\n"
   ]
  },
  {
   "cell_type": "markdown",
   "metadata": {},
   "source": [
    "시그모이드 함수를 사용하는 비용함수<br>\n",
    "Cost function using the sigmoid function\n",
    "\n"
   ]
  },
  {
   "cell_type": "code",
   "execution_count": null,
   "metadata": {},
   "outputs": [],
   "source": [
    "def cost_function_sigmoid(w:np.ndarray, x_y:np.ndarray) -> float:\n",
    "    n = len(x_y)\n",
    "    y_hat = sigmoid(wx(w, x_y))\n",
    "    y = x_y[:, -1]\n",
    "\n",
    "    error = y_hat - y\n",
    "    error_sqr = error ** 2\n",
    "    result = error_sqr.sum() / n\n",
    "\n",
    "    return result\n",
    "\n"
   ]
  },
  {
   "cell_type": "markdown",
   "metadata": {},
   "source": [
    "최적화<br>\n",
    "Optimize\n",
    "\n"
   ]
  },
  {
   "cell_type": "code",
   "execution_count": null,
   "metadata": {
    "scrolled": true
   },
   "outputs": [],
   "source": [
    "result = so.fmin(cost_function_sigmoid, x0=nr.rand(2,), args=(data,), full_output=True)\n",
    "weights, cost_value, n_iter, n_call, warning = result\n",
    "result\n",
    "\n"
   ]
  },
  {
   "cell_type": "code",
   "execution_count": null,
   "metadata": {
    "scrolled": true
   },
   "outputs": [],
   "source": [
    "plot_two_sets(set_0, set_1)\n",
    "plot_decision_boundary(data[:, 0].min(), data[:, 0].max(), weights)\n",
    "\n",
    "plt.legend(loc=0)\n",
    "plt.show()\n",
    "plt.close();\n",
    "\n"
   ]
  },
  {
   "cell_type": "markdown",
   "metadata": {},
   "source": [
    "## 교차 엔트로피 비용함수<br>Cross entropy cost function\n",
    "\n"
   ]
  },
  {
   "cell_type": "markdown",
   "metadata": {},
   "source": [
    "국소 최소점을 피해 전역 최소점을 찾기 위해 사용<br>To find global and avoid local minimum.\n",
    "\n"
   ]
  },
  {
   "cell_type": "markdown",
   "metadata": {},
   "source": [
    "ref : (14:23)\n",
    "[![youtube](https://i.ytimg.com/vi/6vzchGYEJBc/hqdefault.jpg)](https://youtu.be/6vzchGYEJBc)\n",
    "\n"
   ]
  },
  {
   "cell_type": "markdown",
   "metadata": {},
   "source": [
    "$$\n",
    "C = \\frac{1}{n}\\sum_{i=1}^{n} \\left[ -y_i log \\left( \\hat y_i \\right) - \\left(1 - y_i \\right) log \\left( 1 - \\hat y_i \\right)\\right]\n",
    "$$"
   ]
  },
  {
   "cell_type": "code",
   "execution_count": null,
   "metadata": {},
   "outputs": [],
   "source": [
    "def cost_function_cross_entropy(w:np.ndarray, x_y:np.ndarray) -> float:\n",
    "    n = len(x_y)\n",
    "    y_hat = sigmoid(wx(w, x_y))\n",
    "    y = x_y[:, -1]\n",
    "\n",
    "    cost = -y * np.log2(y_hat) - (1 - y) * np.log2(1 - y_hat)\n",
    "\n",
    "    return np.mean(cost)\n",
    "\n"
   ]
  },
  {
   "cell_type": "markdown",
   "metadata": {},
   "source": [
    "최적화<br>\n",
    "Optimize\n",
    "\n"
   ]
  },
  {
   "cell_type": "code",
   "execution_count": null,
   "metadata": {
    "scrolled": false
   },
   "outputs": [],
   "source": [
    "result = so.fmin(cost_function_cross_entropy, x0=nr.rand(2,), args=(data,), full_output=True)\n",
    "weights, cost_value, n_iter, n_call, warning = result\n",
    "result\n",
    "\n"
   ]
  },
  {
   "cell_type": "code",
   "execution_count": null,
   "metadata": {
    "scrolled": true
   },
   "outputs": [],
   "source": [
    "plot_two_sets(set_0, set_1)\n",
    "plot_decision_boundary(data[:, 0].min(), data[:, 0].max(), weights)\n",
    "\n",
    "plt.legend(loc=0)\n",
    "plt.show()\n",
    "plt.close();\n",
    "\n"
   ]
  },
  {
   "cell_type": "markdown",
   "metadata": {},
   "source": [
    "## Final Bell<br>마지막 종\n",
    "\n"
   ]
  },
  {
   "cell_type": "code",
   "execution_count": null,
   "metadata": {},
   "outputs": [],
   "source": [
    "# stackoverfow.com/a/24634221\n",
    "import os\n",
    "os.system(\"printf '\\a'\");\n",
    "\n"
   ]
  },
  {
   "cell_type": "code",
   "execution_count": null,
   "metadata": {},
   "outputs": [],
   "source": []
  }
 ],
 "metadata": {
  "interpreter": {
   "hash": "c4f5d83b4c99dc49532e0bea049a2f4d94cab49dd603fc8b0a3a009bd3bea565"
  },
  "kernelspec": {
   "display_name": "Python 3",
   "language": "python",
   "name": "python3"
  },
  "language_info": {
   "codemirror_mode": {
    "name": "ipython",
    "version": 3
   },
   "file_extension": ".py",
   "mimetype": "text/x-python",
   "name": "python",
   "nbconvert_exporter": "python",
   "pygments_lexer": "ipython3",
   "version": "3.8.8"
  }
 },
 "nbformat": 4,
 "nbformat_minor": 4
}
