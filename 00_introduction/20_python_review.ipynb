{
 "cells": [
  {
   "cell_type": "markdown",
   "metadata": {
    "id": "-Npu__rp1PCW"
   },
   "source": [
    "# 파이썬 프로그래밍 언어<br>Python Programming Language\n",
    "\n"
   ]
  },
  {
   "cell_type": "markdown",
   "metadata": {
    "id": "YbP1VQrF1PCY"
   },
   "source": [
    "### `print(\"abc\")`\n",
    "\n"
   ]
  },
  {
   "cell_type": "code",
   "execution_count": null,
   "metadata": {
    "id": "R8jZBhle1PCY"
   },
   "outputs": [],
   "source": [
    "print(\"abc\")\n",
    "\n"
   ]
  },
  {
   "cell_type": "code",
   "execution_count": null,
   "metadata": {
    "id": "3qsFHA5D1PCZ"
   },
   "outputs": [],
   "source": [
    "print(1 + 2)\n",
    "\n"
   ]
  },
  {
   "cell_type": "markdown",
   "metadata": {
    "id": "c0U2_Qil1PCZ"
   },
   "source": [
    "### 변수<br>Variables\n",
    "\n"
   ]
  },
  {
   "cell_type": "code",
   "execution_count": null,
   "metadata": {
    "id": "FN-Q_iLM1PCa"
   },
   "outputs": [],
   "source": [
    "a = 1\n",
    "\n"
   ]
  },
  {
   "cell_type": "markdown",
   "metadata": {
    "id": "KD9HFw17LH_4"
   },
   "source": [
    "여기서 `=` 을 *할당 연산자* 라고 한다.<br>Here, we call `=` an *assignment operator*."
   ]
  },
  {
   "cell_type": "code",
   "execution_count": null,
   "metadata": {
    "id": "DEI2--tM1PCa"
   },
   "outputs": [],
   "source": [
    "a\n",
    "\n"
   ]
  },
  {
   "cell_type": "code",
   "execution_count": null,
   "metadata": {
    "id": "s3zGl4WH1PCb"
   },
   "outputs": [],
   "source": [
    "b = 2\n",
    "\n"
   ]
  },
  {
   "cell_type": "code",
   "execution_count": null,
   "metadata": {
    "id": "EP-7xCdN1PCb"
   },
   "outputs": [],
   "source": [
    "b\n",
    "\n"
   ]
  },
  {
   "cell_type": "code",
   "execution_count": null,
   "metadata": {
    "id": "GPX26nha1PCc"
   },
   "outputs": [],
   "source": [
    "a + b\n",
    "\n"
   ]
  },
  {
   "cell_type": "markdown",
   "metadata": {
    "id": "OSpThPD71PCc"
   },
   "source": [
    "### 문자열 내삽<br>String interpolation\n",
    "\n"
   ]
  },
  {
   "cell_type": "code",
   "execution_count": null,
   "metadata": {
    "id": "OfXxY-JQ1PCd"
   },
   "outputs": [],
   "source": [
    "a = 1\n",
    "b = 2\n",
    "print(\"%s + %s = %s\" % (a, b, a+b))\n",
    "\n"
   ]
  },
  {
   "cell_type": "code",
   "execution_count": null,
   "metadata": {
    "id": "lMkEr6e71PCd"
   },
   "outputs": [],
   "source": [
    "print(\"{} + {} = {}\".format(a, b, a+b))\n",
    "\n"
   ]
  },
  {
   "cell_type": "code",
   "execution_count": null,
   "metadata": {
    "id": "a_nB5gv_1PCe"
   },
   "outputs": [],
   "source": [
    "print(f\"{a} + {b} = {a+b}\")\n",
    "\n"
   ]
  },
  {
   "cell_type": "markdown",
   "metadata": {
    "id": "wcIBRpE21PCe"
   },
   "source": [
    "### 함수<br>Functions\n",
    "\n"
   ]
  },
  {
   "cell_type": "markdown",
   "metadata": {
    "id": "eHcYC9w81PCe"
   },
   "source": [
    "자주 반복되는 코드는 함수로 모아 두면 편리하다.<br>\n",
    "It is convenient to wrap a frequently used code block into a function.\n",
    "\n"
   ]
  },
  {
   "cell_type": "code",
   "execution_count": null,
   "metadata": {
    "id": "bLrLCF9I1PCf"
   },
   "outputs": [],
   "source": [
    "print(2 * 'a')\n",
    "\n"
   ]
  },
  {
   "cell_type": "markdown",
   "metadata": {
    "id": "ji0xBQTy1PCf"
   },
   "source": [
    "파이썬 함수는 `def` 로 시작한다.<br>`def` keyword indicates the beginning of a function.\n",
    "\n"
   ]
  },
  {
   "cell_type": "markdown",
   "metadata": {
    "id": "E1Mjn4x31PCf"
   },
   "source": [
    "`def` 다음에는 함수의 이름이 자리한다.<br>Next to the `def` keyword is the name of the function.\n",
    "\n"
   ]
  },
  {
   "cell_type": "markdown",
   "metadata": {
    "id": "xRcPrdQR1PCg"
   },
   "source": [
    "함수의 이름 뒤의 `(` `)` 안에는 매개변수가 들어간다.<br>The arguments are in the `(` `)` after the name.\n",
    "\n"
   ]
  },
  {
   "cell_type": "markdown",
   "metadata": {
    "id": "6ZPhbX161PCg"
   },
   "source": [
    "함수의 내용에 해당하는 행은 들여쓰기로 표시한다.<br>The lines belong to the function are indented.\n",
    "\n"
   ]
  },
  {
   "cell_type": "markdown",
   "metadata": {
    "id": "1t5XzZnE1PCg"
   },
   "source": [
    "`return` 으로 결과를 반환한다.<br>Values after the `return` will be the results of the function.\n",
    "\n"
   ]
  },
  {
   "cell_type": "code",
   "execution_count": null,
   "metadata": {
    "id": "Je5aDdpa1PCh"
   },
   "outputs": [],
   "source": [
    "def twice(x):\n",
    "    return 2 * x\n",
    "\n"
   ]
  },
  {
   "cell_type": "markdown",
   "metadata": {
    "id": "w6uRFF_01PCh"
   },
   "source": [
    "아래는 함수를 호출 한 예 이다.<br>\n",
    "   We can call a function as follows.\n",
    "\n"
   ]
  },
  {
   "cell_type": "markdown",
   "metadata": {
    "id": "tPH9e07j1PCh"
   },
   "source": [
    "함수의 이름 뒤에 괄호 `(` `)` 를 열고 전달할 매개변수 값을 나열한 뒤 괄호를 닫는다.<br>\n",
    "   Between the parenthesis `(` `)` after the function name, list the parameter valuse.\n",
    "\n"
   ]
  },
  {
   "cell_type": "code",
   "execution_count": null,
   "metadata": {
    "id": "0I4WaPih1PCi"
   },
   "outputs": [],
   "source": [
    "b = twice('a')\n",
    "print(b)\n",
    "\n"
   ]
  },
  {
   "cell_type": "markdown",
   "metadata": {},
   "source": [
    "여기서 함수 `twice()` 가 반환한 값은 변수 `b`에 저장된다.<br>Here, the returned value from the function `twice()` is stored in the variable `b`.\n",
    "\n"
   ]
  },
  {
   "cell_type": "markdown",
   "metadata": {
    "id": "YIsApW3t1PCi"
   },
   "source": [
    "#### 변수의 유효범위<br>Scope of variables\n",
    "\n"
   ]
  },
  {
   "cell_type": "markdown",
   "metadata": {
    "id": "S1SLFSA51PCi"
   },
   "source": [
    "함수 안에서 함수 밖에 정의된 변수 값을 읽을 수 있다.<br>\n",
    "Within a function, the variables defined outside are available.\n",
    "\n"
   ]
  },
  {
   "cell_type": "code",
   "execution_count": null,
   "metadata": {
    "id": "GN0G3zp21PCj"
   },
   "outputs": [],
   "source": [
    "a = 1\n",
    "\n"
   ]
  },
  {
   "cell_type": "code",
   "execution_count": null,
   "metadata": {
    "id": "8e1gS_Hi1PCj"
   },
   "outputs": [],
   "source": [
    "def can_this_use_a(x):\n",
    "    print(\"a =\", a)\n",
    "    return a + x\n",
    "\n"
   ]
  },
  {
   "cell_type": "code",
   "execution_count": null,
   "metadata": {
    "id": "giA4xasR1PCj"
   },
   "outputs": [],
   "source": [
    "can_this_use_a(2)\n",
    "\n"
   ]
  },
  {
   "cell_type": "markdown",
   "metadata": {
    "id": "joDx3Lqf1PCk"
   },
   "source": [
    "함수 안에서 정의된 변수는 함수 밖에서 읽을 수 없다.<br>\n",
    "Outside of a function, the variables defined inside are not accessable.\n",
    "\n"
   ]
  },
  {
   "cell_type": "code",
   "execution_count": null,
   "metadata": {
    "id": "KbrC12Xm1PCk"
   },
   "outputs": [],
   "source": [
    "def can_you_read_b(x):\n",
    "    b_in_function = 2\n",
    "    print(\"b_in_function =\", b_in_function)\n",
    "    return b_in_function + x\n",
    "\n"
   ]
  },
  {
   "cell_type": "code",
   "execution_count": null,
   "metadata": {
    "id": "cB4uLeXq1PCk"
   },
   "outputs": [],
   "source": [
    "can_you_read_b(2)\n",
    "\n"
   ]
  },
  {
   "cell_type": "code",
   "execution_count": null,
   "metadata": {
    "id": "hRgK70om1PCl"
   },
   "outputs": [],
   "source": [
    "try:\n",
    "    # 아래 행은 오류를 발생시킬 것이다.\n",
    "    # Following line would cause an error\n",
    "    print(\"b_in_function =\", b_in_function)\n",
    "except NameError as e:\n",
    "    # 위 try: 와 except 사이에서 오류가 발생하면 아래 행이 실행\n",
    "    # In case of an error between try and except, following line runs\n",
    "    print(\"NameError:\",e)\n",
    "\n"
   ]
  },
  {
   "cell_type": "markdown",
   "metadata": {
    "id": "gyyzhDHR1PCl"
   },
   "source": [
    "함수가 실행이 종료되면, 함수 안에서 정의된 변수는 사라진다.<br>\n",
    "When the function finishes running, the variable inside of the function disappears.\n",
    "\n"
   ]
  },
  {
   "cell_type": "markdown",
   "metadata": {
    "id": "cNezXji-1hfA"
   },
   "source": [
    "함수 안의 변수가 우선한다.<br>\n",
    "Variables inside of the function has higher priority.<br>\n",
    "함수 안에서 변수값을 할당해도 함수 밖 변수 값에 영향을 주지 않는다.<br>\n",
    "Assigining a variable within a function does not influence the variable outside of the function.\n",
    "\n"
   ]
  },
  {
   "cell_type": "code",
   "execution_count": null,
   "metadata": {
    "id": "QZov4Wt21Wgy"
   },
   "outputs": [],
   "source": [
    "z = 1\n",
    "\n",
    "def x_times_z(x):\n",
    "  z = 2\n",
    "  return x * z\n",
    "\n"
   ]
  },
  {
   "cell_type": "code",
   "execution_count": null,
   "metadata": {
    "id": "_qcrNooT1xiH"
   },
   "outputs": [],
   "source": [
    "print(x_times_z(z), z)\n",
    "\n"
   ]
  },
  {
   "cell_type": "markdown",
   "metadata": {
    "id": "N9cGE6q91PCm"
   },
   "source": [
    "#### 함수의 기본 매개변수<br>Default Arguments\n",
    "\n"
   ]
  },
  {
   "cell_type": "markdown",
   "metadata": {
    "id": "ZYn5raSe1PCm"
   },
   "source": [
    "파이썬 함수를 정의할 때 매개변수에 기본값을 정해놓을 수 있다.<br>\n",
    "One may designate a default value when defining a python function.\n",
    "\n"
   ]
  },
  {
   "cell_type": "code",
   "execution_count": null,
   "metadata": {
    "id": "TQ15V8661PCn"
   },
   "outputs": [],
   "source": [
    "def ax_plus_b(x, a=2, b=3):\n",
    "\n",
    "    print(f'x = {x}', end=', ')\n",
    "    print(f'a = {a}', end=', ')\n",
    "    print(f'b = {b}')\n",
    "    \n",
    "    return a * x + b\n",
    "\n"
   ]
  },
  {
   "cell_type": "code",
   "execution_count": null,
   "metadata": {
    "id": "sC4iBFzu1PCn"
   },
   "outputs": [],
   "source": [
    "ax_plus_b(1, 2, 3)\n",
    "\n"
   ]
  },
  {
   "cell_type": "code",
   "execution_count": null,
   "metadata": {
    "id": "OCjL0oSk1PCo"
   },
   "outputs": [],
   "source": [
    "ax_plus_b(1)\n",
    "\n"
   ]
  },
  {
   "cell_type": "code",
   "execution_count": null,
   "metadata": {
    "id": "iKqc4FyF1PCo"
   },
   "outputs": [],
   "source": [
    "ax_plus_b(1, 1)\n",
    "\n"
   ]
  },
  {
   "cell_type": "code",
   "execution_count": null,
   "metadata": {
    "id": "sgTt2-ug1PCo"
   },
   "outputs": [],
   "source": [
    "ax_plus_b(1, b=1)\n",
    "\n"
   ]
  },
  {
   "cell_type": "markdown",
   "metadata": {
    "id": "N9cGE6q91PCm"
   },
   "source": [
    "#### 매개변수로서의 함수의 이름을 전달하는 경우<br>Passing a function's name as an argument\n",
    "\n"
   ]
  },
  {
   "cell_type": "markdown",
   "metadata": {},
   "source": [
    "아래 두 함수가 주어져 있다.<br>Following two functions are given.\n",
    "\n"
   ]
  },
  {
   "cell_type": "code",
   "execution_count": null,
   "metadata": {},
   "outputs": [],
   "source": [
    "def add(a, b):\n",
    "    return a + b\n",
    "\n",
    "def mul(a, b):\n",
    "    return a * b\n",
    "\n"
   ]
  },
  {
   "cell_type": "markdown",
   "metadata": {},
   "source": [
    "아래와 같은 함수를 생각해 보자.<br>Let's consider a function as follows.\n",
    "\n"
   ]
  },
  {
   "cell_type": "code",
   "execution_count": null,
   "metadata": {},
   "outputs": [],
   "source": [
    "def calc(op, aa, bb):\n",
    "    return op(aa, bb)\n",
    "\n"
   ]
  },
  {
   "cell_type": "markdown",
   "metadata": {},
   "source": [
    "여기서 매개변수 `op`로 다른 함수의 이름을 전달해 보자.<br>Here, let's pass another function's name as the argument `op`.\n",
    "\n"
   ]
  },
  {
   "cell_type": "code",
   "execution_count": null,
   "metadata": {},
   "outputs": [],
   "source": [
    "print(calc(add, 1, 2))\n",
    "\n"
   ]
  },
  {
   "cell_type": "code",
   "execution_count": null,
   "metadata": {},
   "outputs": [],
   "source": [
    "print(calc(mul, 1, 2))\n",
    "\n"
   ]
  },
  {
   "cell_type": "markdown",
   "metadata": {},
   "source": [
    "위 두 함수 호출의 결과에 대해 어떻게 생각하는가?<br>What do you think about the results of the two function calls above.\n",
    "\n"
   ]
  },
  {
   "cell_type": "markdown",
   "metadata": {
    "id": "DVFUBgJk1PCo"
   },
   "source": [
    "## 모음<br>Collection\n",
    "\n"
   ]
  },
  {
   "cell_type": "markdown",
   "metadata": {
    "id": "DcC7MjN11PCp"
   },
   "source": [
    "모음은 여러 데이터를 한 **이름** 아래 저장한 것이다.<br>\n",
    "Collection contains multiple data under one **name**.\n",
    "\n"
   ]
  },
  {
   "cell_type": "markdown",
   "metadata": {
    "id": "x6wm0kau1PCp"
   },
   "source": [
    "Python 에서은 기본적으로 `list()`, `tuple()`, `dict()`, `set()` 과 같은 데이터 모음이 사용가능하다.<br>\n",
    "In python, data collections such as `list()`, `tuple()`, `dict()`, and `set()` are available built-in.\n",
    "\n"
   ]
  },
  {
   "cell_type": "markdown",
   "metadata": {
    "id": "C0gOAbWO1PCp"
   },
   "source": [
    "### 리스트<br>List\n",
    "\n"
   ]
  },
  {
   "cell_type": "markdown",
   "metadata": {
    "id": "dpWmR5pG1PCq"
   },
   "source": [
    "리스트는 순서 대로 몇개의 자료를 모은 것이다.<br>\n",
    "A `list()` is a collection of data in a sequnce.\n",
    "\n"
   ]
  },
  {
   "cell_type": "code",
   "execution_count": null,
   "metadata": {
    "id": "IGqD2Hao1PCq"
   },
   "outputs": [],
   "source": [
    "x = list([1, 3, 5, 7, 9])\n",
    "x\n",
    "\n"
   ]
  },
  {
   "cell_type": "markdown",
   "metadata": {
    "id": "5ooBDdgR1PCq"
   },
   "source": [
    "`len()` 함수를 이용하여 리스트의 항목 수를 알 수 있다.<br>\n",
    "Calling function `len()` one can find the number of items within a list.\n",
    "\n"
   ]
  },
  {
   "cell_type": "code",
   "execution_count": null,
   "metadata": {
    "id": "JodXaNFi1PCq"
   },
   "outputs": [],
   "source": [
    "len(x)\n",
    "\n"
   ]
  },
  {
   "cell_type": "markdown",
   "metadata": {
    "id": "3mgsFHYQ1PCr"
   },
   "source": [
    "항목을 `[` `]` 로 둘러 싸서 만들 수도 있다.<br>\n",
    "One can also make a list by wrapping items with `[` and `]`.\n",
    "\n"
   ]
  },
  {
   "cell_type": "code",
   "execution_count": null,
   "metadata": {
    "id": "4vl6k3st1PCr"
   },
   "outputs": [],
   "source": [
    "y = [1, 2, 3, 4]\n",
    "y\n",
    "\n"
   ]
  },
  {
   "cell_type": "code",
   "execution_count": null,
   "metadata": {
    "id": "bh-uYsXy1PCr"
   },
   "outputs": [],
   "source": [
    "len(y)\n",
    "\n"
   ]
  },
  {
   "cell_type": "markdown",
   "metadata": {
    "id": "Ly3Ze9Mo1PCs"
   },
   "source": [
    "문자열로부터 list를 만들 수도 있다.<br>\n",
    "A list can be made from a string.\n",
    "\n"
   ]
  },
  {
   "cell_type": "code",
   "execution_count": null,
   "metadata": {
    "id": "YbkUhoSi1PCs"
   },
   "outputs": [],
   "source": [
    "a_list = list('abc')\n",
    "a_list\n",
    "\n"
   ]
  },
  {
   "cell_type": "markdown",
   "metadata": {
    "id": "_t3GUlsSDfit"
   },
   "source": [
    "항목을 추가할 수 있다.<br>We may add more items."
   ]
  },
  {
   "cell_type": "code",
   "execution_count": null,
   "metadata": {
    "id": "rpN5bQavDbUr"
   },
   "outputs": [],
   "source": [
    "a_list.append('d')\n",
    "a_list\n",
    "\n"
   ]
  },
  {
   "cell_type": "markdown",
   "metadata": {
    "id": "mnRMX8JODni1"
   },
   "source": [
    "다른 list를 붙인 새로운 list를 만들 수도 있다.<br>We may make a new list by connecting multiple lists."
   ]
  },
  {
   "cell_type": "code",
   "execution_count": null,
   "metadata": {
    "id": "61srn8Kp1PCs"
   },
   "outputs": [],
   "source": [
    "z_list = a_list + ['yy', 'zzz']\n",
    "z_list\n",
    "\n"
   ]
  },
  {
   "cell_type": "markdown",
   "metadata": {
    "id": "BusN2JQP1PCs"
   },
   "source": [
    "#### 항목 지정<br>Indexing an item (or items)\n",
    "\n"
   ]
  },
  {
   "cell_type": "markdown",
   "metadata": {
    "id": "J9YEc-kB1PCt"
   },
   "source": [
    "각 항목을 읽거나 쓰기 위해 인덱스로 순서를 지정한다.<br>\n",
    "To access each item, you can indicate by its index.\n",
    "\n"
   ]
  },
  {
   "cell_type": "markdown",
   "metadata": {
    "id": "xwIX1UvA1PCt"
   },
   "source": [
    "첫 항목의 인덱스는 0 이다.  이후는 1씩 증가한다.<br>\n",
    "Index 0 indicates the first item.  Afterward, it increases by one each.\n",
    "\n"
   ]
  },
  {
   "cell_type": "markdown",
   "metadata": {
    "id": "xUIiCBG61PCt"
   },
   "source": [
    "리스트 변수 이름 뒤 대괄호 `[` `]` 사이에 해당 인덱스 값을 넣는다.<br>\n",
    "The index places between the brakets `[` `]` after the name of the list variable.\n",
    "\n"
   ]
  },
  {
   "cell_type": "code",
   "execution_count": null,
   "metadata": {
    "id": "c57Tpspb1PCu"
   },
   "outputs": [],
   "source": [
    "x[0]\n",
    "\n"
   ]
  },
  {
   "cell_type": "code",
   "execution_count": null,
   "metadata": {
    "id": "d6ZgHxhV1PCu"
   },
   "outputs": [],
   "source": [
    "x[1]\n",
    "\n"
   ]
  },
  {
   "cell_type": "markdown",
   "metadata": {
    "id": "DcQT_tcd1PCu"
   },
   "source": [
    "`-1` 은 마지막 항목을 가리킨다.<br>\n",
    "`-` indicates the last item.\n",
    "\n"
   ]
  },
  {
   "cell_type": "code",
   "execution_count": null,
   "metadata": {
    "id": "Fh5bxLym1PCu"
   },
   "outputs": [],
   "source": [
    "x[-1]\n",
    "\n"
   ]
  },
  {
   "cell_type": "code",
   "execution_count": null,
   "metadata": {
    "id": "auuCpPZh1PCv"
   },
   "outputs": [],
   "source": [
    "y[-1]\n",
    "\n"
   ]
  },
  {
   "cell_type": "markdown",
   "metadata": {
    "id": "czgSnJft1PCv"
   },
   "source": [
    "`:` 로 여러 항목을 선택할 수도 있다. 이를 *슬라이싱* 이라고 한다.<br>\n",
    "`:` can indicate multiple items. It is called *slicing*.\n",
    "\n"
   ]
  },
  {
   "cell_type": "code",
   "execution_count": null,
   "metadata": {
    "id": "p2n0Pnz_1PCv"
   },
   "outputs": [],
   "source": [
    "z = list(range(21))\n",
    "z\n",
    "\n"
   ]
  },
  {
   "cell_type": "code",
   "execution_count": null,
   "metadata": {
    "id": "weJ8HH6XHwLZ"
   },
   "outputs": [],
   "source": [
    "z[2]\n",
    "\n"
   ]
  },
  {
   "cell_type": "code",
   "execution_count": null,
   "metadata": {
    "id": "zwQyJIGAHoAz"
   },
   "outputs": [],
   "source": [
    "z[:2]\n",
    "\n"
   ]
  },
  {
   "cell_type": "markdown",
   "metadata": {
    "id": "m7uXhkQI1PCv"
   },
   "source": [
    "위 결과에 `z[2]` 가 포함되었는가?<br>\n",
    "Does the result above include `z[2]`?\n",
    "\n"
   ]
  },
  {
   "cell_type": "code",
   "execution_count": null,
   "metadata": {
    "id": "81f8AW0A1PCw"
   },
   "outputs": [],
   "source": [
    "z[2:]\n",
    "\n"
   ]
  },
  {
   "cell_type": "markdown",
   "metadata": {
    "id": "j3PX8WVb1PCw"
   },
   "source": [
    "위 결과에 `z[2]` 가 포함되었는가?<br>\n",
    "Does the result above include `z[2]`?\n",
    "\n"
   ]
  },
  {
   "cell_type": "code",
   "execution_count": null,
   "metadata": {
    "id": "oB6nhBHc1PCw"
   },
   "outputs": [],
   "source": [
    "z[2:12]\n",
    "\n"
   ]
  },
  {
   "cell_type": "markdown",
   "metadata": {
    "id": "qZf28_cd1PCx"
   },
   "source": [
    "이번에는 무엇이 달라졌는가?<br>\n",
    "What is different this time?\n",
    "\n"
   ]
  },
  {
   "cell_type": "code",
   "execution_count": null,
   "metadata": {
    "id": "HuQ5PjL41PCx"
   },
   "outputs": [],
   "source": [
    "z[2:12:2]\n",
    "\n"
   ]
  },
  {
   "cell_type": "markdown",
   "metadata": {
    "id": "J1stVjPk1PCx"
   },
   "source": [
    "마지막 `:2`의 역할은 무엇인가?<br>\n",
    "What is the role of the `:2` at the end?\n",
    "\n"
   ]
  },
  {
   "cell_type": "code",
   "execution_count": null,
   "metadata": {
    "id": "orpUtBvcIB2t"
   },
   "outputs": [],
   "source": [
    "z[2:12:3]\n",
    "\n"
   ]
  },
  {
   "cell_type": "code",
   "execution_count": null,
   "metadata": {
    "id": "nOT4OMbaIEMY"
   },
   "outputs": [],
   "source": [
    "z[2:12:4]\n",
    "\n"
   ]
  },
  {
   "cell_type": "markdown",
   "metadata": {
    "id": "YAselgB01PCx"
   },
   "source": [
    "`range()` 함수의 세 매개변수의 각각의 역할은 무엇인가?<br>\n",
    "What are the respective roles of the three arguments of the `range()` function ?\n",
    "\n"
   ]
  },
  {
   "cell_type": "markdown",
   "metadata": {
    "id": "qsRnwzzx1PCy"
   },
   "source": [
    "#### 소속 여부<br>Membership\n",
    "\n"
   ]
  },
  {
   "cell_type": "markdown",
   "metadata": {
    "id": "sEReaLEW1PCy"
   },
   "source": [
    "`in` 연산자로 어떤 항목이 어떤 list 에 포함되어 있는지 알 수 있다.<br>\n",
    "`in` operater can tell us if a list has a certain item.\n",
    "\n"
   ]
  },
  {
   "cell_type": "code",
   "execution_count": null,
   "metadata": {
    "id": "CdVFmyvX1PCy"
   },
   "outputs": [],
   "source": [
    "'a' in z_list\n",
    "\n"
   ]
  },
  {
   "cell_type": "code",
   "execution_count": null,
   "metadata": {
    "id": "e_HSSow61PCy"
   },
   "outputs": [],
   "source": [
    "'b' in z_list\n",
    "\n"
   ]
  },
  {
   "cell_type": "code",
   "execution_count": null,
   "metadata": {
    "id": "OrsStVAF1PCz"
   },
   "outputs": [],
   "source": [
    "'z' in z_list\n",
    "\n"
   ]
  },
  {
   "cell_type": "code",
   "execution_count": null,
   "metadata": {
    "id": "MnTHIQnu1PCz"
   },
   "outputs": [],
   "source": [
    "'zzz' in z_list\n",
    "\n"
   ]
  },
  {
   "cell_type": "markdown",
   "metadata": {
    "id": "w7CS4U_S1PCz"
   },
   "source": [
    "### list & tuple\n",
    "\n"
   ]
  },
  {
   "cell_type": "markdown",
   "metadata": {
    "id": "QHahbdJM1PC0"
   },
   "source": [
    "리스트 `list` 와 튜플 `tuple` 모두 여러 항목을 저장할 수 있다.<br>Both `list` and `tuple` can store multiple items.\n",
    "\n"
   ]
  },
  {
   "cell_type": "markdown",
   "metadata": {
    "id": "k_rJ8Nw31PC0"
   },
   "source": [
    "또한 각 항목을 순서로 구분한다.<br>Also, distinguish each item with the order.\n",
    "\n"
   ]
  },
  {
   "cell_type": "markdown",
   "metadata": {
    "id": "jmZd-rM31PC0"
   },
   "source": [
    "리스트는 항목을 변경 추가 삭제할 수 있으나 (mutable) 튜플은 한번 만들어지면 변경할 수 없다 (immutable).<br>We may change, add, or remove items in lists (mutable) but we cannot with tuples (immutable).\n",
    "\n"
   ]
  },
  {
   "cell_type": "markdown",
   "metadata": {
    "id": "EHkquj0t1PC0"
   },
   "source": [
    "예를 들어 다음을 생각해 보자.<br>Let's check the followings.\n",
    "\n"
   ]
  },
  {
   "cell_type": "code",
   "execution_count": null,
   "metadata": {
    "id": "7tCDqBa51PC1"
   },
   "outputs": [],
   "source": [
    "x_list = [1, 2, 3]\n",
    "print(\"before :\", x_list)\n",
    "x_list[0] = '0'\n",
    "print(\"after :\", x_list)\n",
    "\n"
   ]
  },
  {
   "cell_type": "markdown",
   "metadata": {
    "id": "x581MV_21PC1"
   },
   "source": [
    "튜플 tuple 의 경우, 항목을 바꿀 수 없으므로 아래 예에서 예외 Exception 가 발생한다.<br>\n",
    "Because a tuple does not allow chaning one of its items, following example would raise an Exception.\n",
    "\n"
   ]
  },
  {
   "cell_type": "code",
   "execution_count": null,
   "metadata": {
    "id": "V6mXoI_-1PC2"
   },
   "outputs": [],
   "source": [
    "try:\n",
    "    z_tuple = (4, 5, 6)\n",
    "    print(\"before :\", z_tuple)\n",
    "    z_tuple[0] = '0'\n",
    "    print(\"after :\", z_tuple)\n",
    "except TypeError as e:\n",
    "    print(e)\n",
    "    print('cannot change an item in tuple')\n",
    "\n"
   ]
  },
  {
   "cell_type": "markdown",
   "metadata": {
    "id": "1gfqaAqI1PC2"
   },
   "source": [
    "### 딕셔너리<br>Dictionary\n",
    "\n"
   ]
  },
  {
   "cell_type": "markdown",
   "metadata": {
    "id": "2BRFihg_1PC2"
   },
   "source": [
    "순서로 각 요소를 구분하는 list 나 tuple 과는 달리 `dict`는 key - value 쌍을 저장한다.<br>Unlike list or tuple distinguishing items by the sequence, `dict` stores key - value pairs.\n",
    "\n"
   ]
  },
  {
   "cell_type": "code",
   "execution_count": null,
   "metadata": {
    "id": "vKkNs7B91PC3"
   },
   "outputs": [],
   "source": [
    "a_dict = {'one': 1, 'two': 2, }\n",
    "\n"
   ]
  },
  {
   "cell_type": "code",
   "execution_count": null,
   "metadata": {
    "id": "ZeO_i0Fw1PC3"
   },
   "outputs": [],
   "source": [
    "a_dict\n",
    "\n"
   ]
  },
  {
   "cell_type": "code",
   "execution_count": null,
   "metadata": {
    "id": "CClkMPKf1PC3"
   },
   "outputs": [],
   "source": [
    "a_dict[\"one\"]\n",
    "\n"
   ]
  },
  {
   "cell_type": "markdown",
   "metadata": {
    "id": "vsxVSL4j1PC3"
   },
   "source": [
    "(하나 또는 여러개의) 새로운 key - value 쌍을 추가할 수도 있다.<br>One can add a new key - value pair(or pairs).\n",
    "\n"
   ]
  },
  {
   "cell_type": "code",
   "execution_count": null,
   "metadata": {
    "id": "yyQyGgZN1PC4"
   },
   "outputs": [],
   "source": [
    "a_dict[\"three\"] = 3\n",
    "\n"
   ]
  },
  {
   "cell_type": "code",
   "execution_count": null,
   "metadata": {
    "id": "HyO42Gpd1PC4"
   },
   "outputs": [],
   "source": [
    "a_dict\n",
    "\n"
   ]
  },
  {
   "cell_type": "markdown",
   "metadata": {
    "id": "Q_IPgb3xIf4M"
   },
   "source": [
    "#### `.get()`\n",
    "\n"
   ]
  },
  {
   "cell_type": "code",
   "execution_count": null,
   "metadata": {
    "id": "yfheY3SU1PC7"
   },
   "outputs": [],
   "source": [
    "\"one\" in a_dict\n",
    "\n"
   ]
  },
  {
   "cell_type": "code",
   "execution_count": null,
   "metadata": {
    "id": "OwEvzYnOIpqE"
   },
   "outputs": [],
   "source": [
    "a_dict.keys()\n",
    "\n"
   ]
  },
  {
   "cell_type": "code",
   "execution_count": null,
   "metadata": {
    "id": "ajTP0rNQImlk"
   },
   "outputs": [],
   "source": [
    "\"one\" in a_dict.keys()\n",
    "\n"
   ]
  },
  {
   "cell_type": "code",
   "execution_count": null,
   "metadata": {
    "id": "qpnX1MwA1PC7"
   },
   "outputs": [],
   "source": [
    "a_dict[\"one\"]\n",
    "\n"
   ]
  },
  {
   "cell_type": "code",
   "execution_count": null,
   "metadata": {
    "id": "hYuBKuas1PC7"
   },
   "outputs": [],
   "source": [
    "a_dict.get(\"one\")\n",
    "\n"
   ]
  },
  {
   "cell_type": "code",
   "execution_count": null,
   "metadata": {
    "id": "YvpHQJ9pJAa7"
   },
   "outputs": [],
   "source": [
    "\"ten\" in a_dict\n",
    "\n"
   ]
  },
  {
   "cell_type": "code",
   "execution_count": null,
   "metadata": {
    "id": "c2curaUq1PC8"
   },
   "outputs": [],
   "source": [
    "try:\n",
    "    a_dict[\"ten\"]\n",
    "except KeyError as e:\n",
    "    print(\"KeyError:\", e)\n",
    "\n"
   ]
  },
  {
   "cell_type": "code",
   "execution_count": null,
   "metadata": {
    "id": "PRA5ADu_1PC8"
   },
   "outputs": [],
   "source": [
    "a_dict.get(\"ten\")\n",
    "\n"
   ]
  },
  {
   "cell_type": "code",
   "execution_count": null,
   "metadata": {
    "id": "wxfmrGDy1PC8"
   },
   "outputs": [],
   "source": [
    "a_dict.get(\"ten\", '''Does not have \"ten\" yet.''')\n",
    "\n"
   ]
  },
  {
   "cell_type": "markdown",
   "metadata": {
    "id": "uuDfuAQwIK2y"
   },
   "source": [
    "#### `.update()`\n",
    "\n"
   ]
  },
  {
   "cell_type": "code",
   "execution_count": null,
   "metadata": {
    "id": "fXL6TVxV1PC4"
   },
   "outputs": [],
   "source": [
    "dict_b = {\"three\": \"###\", \"four\": \"$$$$\"}\n",
    "\n"
   ]
  },
  {
   "cell_type": "code",
   "execution_count": null,
   "metadata": {
    "id": "CQ_kUaZ41PC5"
   },
   "outputs": [],
   "source": [
    "dict_b\n",
    "\n"
   ]
  },
  {
   "cell_type": "code",
   "execution_count": null,
   "metadata": {
    "id": "31BYwTKlJJO8"
   },
   "outputs": [],
   "source": [
    "for n, d in ((\"a_dict\", a_dict), (\"dict_b\", dict_b)):\n",
    "  for k in (\"three\", \"four\"):\n",
    "    print(f\"{k} in {n} :\", k in d)\n",
    "\n"
   ]
  },
  {
   "cell_type": "code",
   "execution_count": null,
   "metadata": {
    "id": "ruV6Yqoa1PC5"
   },
   "outputs": [],
   "source": [
    "a_dict.update(dict_b)\n",
    "\n"
   ]
  },
  {
   "cell_type": "markdown",
   "metadata": {
    "id": "y21yRY541PC9"
   },
   "source": [
    "## `if` `elif` `else`\n",
    "\n"
   ]
  },
  {
   "cell_type": "markdown",
   "metadata": {
    "id": "bczClOjR1PC9"
   },
   "source": [
    "어떤 논리 연산의 결과에 따라 특정 코드를 실행시키도록 할 수 있다.<br>\n",
    "Depending on the result of a logical operation, we may activate a certain block of code to run.\n",
    "\n"
   ]
  },
  {
   "cell_type": "code",
   "execution_count": null,
   "metadata": {
    "id": "WbwCvQCO1PC9"
   },
   "outputs": [],
   "source": [
    "a = 1\n",
    "\n"
   ]
  },
  {
   "cell_type": "code",
   "execution_count": null,
   "metadata": {
    "id": "xlg6ezkA1PC9"
   },
   "outputs": [],
   "source": [
    "if 1 == a:\n",
    "    print(\"Variable `a` contains one\")\n",
    "\n"
   ]
  },
  {
   "cell_type": "markdown",
   "metadata": {
    "id": "L_0WjMBj1PC-"
   },
   "source": [
    "결과에 따라 특정 코드를 대신 실행시키도록 할 수 있다.<br>\n",
    "Depending on the result, we may make a different block of code to run.\n",
    "\n"
   ]
  },
  {
   "cell_type": "code",
   "execution_count": null,
   "metadata": {
    "id": "9XUyCCRJ1PC-"
   },
   "outputs": [],
   "source": [
    "if 2 == a:\n",
    "    print(\"Variable `a` is equal to two\")\n",
    "else:\n",
    "    print(\"Variable `a` is not equal to two\")\n",
    "\n"
   ]
  },
  {
   "cell_type": "markdown",
   "metadata": {
    "id": "eoD3Hc_F1PC-"
   },
   "source": [
    "또한 여러 논리식을 순차적으로 검토하여 실행할 코드를 선택할 수도 있다.<br>\n",
    "Also, we may choose which code to run by evaluating a series of logical operations.\n",
    "\n"
   ]
  },
  {
   "cell_type": "code",
   "execution_count": null,
   "metadata": {
    "id": "4I_Ck7DC1PC_"
   },
   "outputs": [],
   "source": [
    "if 0 < a:\n",
    "    print(\"Variable `a` is positive\")\n",
    "elif 0 > a:\n",
    "    print(\"Variable `a` contains a negative number\")\n",
    "elif 0 == a:\n",
    "    print(\"`a` is zero\")\n",
    "else:\n",
    "    # 상정 이외의 경우에는 오류를 발생시켜야 할 수도 있다.\n",
    "    # On an exceptional case, we may need to raise one.\n",
    "    raise NotImplementedError\n",
    "\n"
   ]
  },
  {
   "cell_type": "markdown",
   "metadata": {
    "id": "DkSwwJr71PC_"
   },
   "source": [
    "## `for` 반복문<br>`for` iterations\n",
    "\n"
   ]
  },
  {
   "cell_type": "markdown",
   "metadata": {
    "id": "5QqoxOHT1PDA"
   },
   "source": [
    "어떤 작업을 정해진 횟수 만큼 반복시키고 싶다면 `for` 문을 사용할 수 있다.<br>\n",
    "`for` loops for a fixed number of iterations.\n",
    "\n"
   ]
  },
  {
   "cell_type": "code",
   "execution_count": null,
   "metadata": {
    "id": "z7Pp1J401PDA"
   },
   "outputs": [],
   "source": [
    "a = 'iteration'\n",
    "\n",
    "for i in [0, 'a', ['b', 2],]:\n",
    "    print(i, a)\n",
    "\n",
    "print(\"end of for block\")\n",
    "\n"
   ]
  },
  {
   "cell_type": "markdown",
   "metadata": {
    "id": "JcV-MUbq1PDA"
   },
   "source": [
    "위 셀에서 변수 `i` 는 `in` 다음의 list `[0, 1, 2]` 안의 값을 하나씩 짚을 것이다.<br>In the cell above, the variable `i` will step over the values of the list `[0, 1, 2]` following `in`.\n",
    "\n"
   ]
  },
  {
   "cell_type": "markdown",
   "metadata": {
    "id": "rPXwuTbI1PDB"
   },
   "source": [
    "`n` 번 반복시키려면 0 부터 `n-1` 까지 발생시키는 `range(n)` 을 사용할 수 있다.<br>\n",
    "To loop `n` iterations, we can use `range(n)` that will generate from 0 to `n-1`.\n",
    "\n"
   ]
  },
  {
   "cell_type": "code",
   "execution_count": null,
   "metadata": {
    "id": "1_A0INa91PDB"
   },
   "outputs": [],
   "source": [
    "a = 'iteration'\n",
    "n = 10\n",
    "\n",
    "for i in range(n):\n",
    "    print(i, a)\n",
    "\n",
    "print(\"end of for block\")\n",
    "\n"
   ]
  },
  {
   "cell_type": "markdown",
   "metadata": {},
   "source": [
    "`range()` 를 이용하여 새로운 list를 만들어 갈 수도 있다.<br>\n",
    "We may make a new list using the `range()`.\n",
    "\n"
   ]
  },
  {
   "cell_type": "code",
   "execution_count": null,
   "metadata": {
    "id": "1_A0INa91PDB"
   },
   "outputs": [],
   "source": [
    "square = []\n",
    "n = 10\n",
    "\n",
    "for i in range(n):\n",
    "    square.append(i * i)\n",
    "    print(\"i =\", i, \", square =\", square)\n",
    "\n",
    "print(square)\n",
    "\n"
   ]
  },
  {
   "cell_type": "markdown",
   "metadata": {
    "id": "pOixMKOL1PDB"
   },
   "source": [
    "### 파일 입출력<br>File I/O\n",
    "\n"
   ]
  },
  {
   "cell_type": "markdown",
   "metadata": {
    "id": "Cf0u20tB1PDB"
   },
   "source": [
    "파이썬에서 파일을 읽고 쓸 때는 `open()` 함수를 호출한다.<br>\n",
    "To read from or write to a file in python, we can usually start with calling `open()`.\n",
    "\n"
   ]
  },
  {
   "cell_type": "code",
   "execution_count": null,
   "metadata": {
    "id": "Abht8-Wr1PDC"
   },
   "outputs": [],
   "source": [
    "fo = open(\"sample.txt\", \"wt\")\n",
    "fo.write(\"Hello Python!\\n\")\n",
    "fo.close()\n",
    "\n"
   ]
  },
  {
   "cell_type": "markdown",
   "metadata": {
    "id": "-48BY962EZEx"
   },
   "source": [
    "`with`와 `as`, 들여쓰기로 파일이 열려 있는 구간을 표시하는 *Context Manager* 방식도 가능하다.<br>We may also use the *Context Manager*. It uses `with` and `as` keywords.  Indentation indicates that the file is open.\n",
    "\n"
   ]
  },
  {
   "cell_type": "code",
   "execution_count": null,
   "metadata": {
    "id": "pdzUhX9l1PDC"
   },
   "outputs": [],
   "source": [
    "with open(\"sample.txt\", \"rt\") as fi:\n",
    "    # file is open\n",
    "    txt = fi.read()\n",
    "# file is now closed\n",
    "print(txt)\n",
    "\n"
   ]
  },
  {
   "cell_type": "markdown",
   "metadata": {
    "id": "2VNYhPmR1PDC"
   },
   "source": [
    "### `import`\n",
    "\n"
   ]
  },
  {
   "cell_type": "markdown",
   "metadata": {
    "id": "O5YrSpMN1PDD"
   },
   "source": [
    "파이썬의 강점 가운데 하나는 새로운 기능을 확장하는 것이 쉽다는 것이다.<br>\n",
    "One of the strengths of the python is it can expand its capabilities easily.\n",
    "\n"
   ]
  },
  {
   "cell_type": "markdown",
   "metadata": {
    "id": "UrK9ke_S1PDD"
   },
   "source": [
    "어떤 파이썬 소스 코드 파일이든 `import` 하여 그 안에 포함된 함수와 변수를 사용할 수 있다.<br>\n",
    "We can `import` just about any python source code file and use included functions and variables.\n",
    "\n"
   ]
  },
  {
   "cell_type": "code",
   "execution_count": null,
   "metadata": {
    "id": "MzXYh8S71PDD"
   },
   "outputs": [],
   "source": [
    "with open(\"import_this.py\", 'w') as fo:\n",
    "    fo.write(\n",
    "        \"def multiply(x):\\n\"\n",
    "        \"    return 3 * x\\n\"\n",
    "    )\n",
    "\n"
   ]
  },
  {
   "cell_type": "code",
   "execution_count": null,
   "metadata": {
    "id": "_MX3etj11PDD"
   },
   "outputs": [],
   "source": [
    "import import_this\n",
    "import imp\n",
    "imp.reload(import_this)\n",
    "\n",
    "print(import_this.multiply('a'))\n",
    "\n"
   ]
  },
  {
   "cell_type": "markdown",
   "metadata": {
    "id": "nBxtsh691PDE"
   },
   "source": [
    "다른 이름으로 불러올 수도 있다.<br>We may assign the name of the module to a different name.\n",
    "\n"
   ]
  },
  {
   "cell_type": "code",
   "execution_count": null,
   "metadata": {
    "id": "PvnMR58F1PDE"
   },
   "outputs": [],
   "source": [
    "import import_this as it\n",
    "\n",
    "print(it.multiply('a'))\n",
    "\n"
   ]
  },
  {
   "cell_type": "markdown",
   "metadata": {
    "id": "ZAwW9e-41PDE"
   },
   "source": [
    "`import` 하여 사용할 수 있는 다른사람들이 제공해 준 파일들도 많이 있다.<br>\n",
    "We may `import` numerous files by generous contributors.\n",
    "\n"
   ]
  },
  {
   "cell_type": "code",
   "execution_count": null,
   "metadata": {
    "id": "-x0VO5D01PDF"
   },
   "outputs": [],
   "source": [
    "# 아래 os 모듈은 운영체제 관련 기능을 담고 있다.\n",
    "# Following os module includes many features related to operating systems\n",
    "import os\n",
    "\n",
    "# 예를 들어 현재 폴더에 포함된 파일의 목록은 다음과 같이 알 수 있다.\n",
    "# For example, we may obtain a list of files in the current folder\n",
    "os.listdir()\n",
    "\n"
   ]
  },
  {
   "cell_type": "markdown",
   "metadata": {
    "id": "NQCA_COi1PDF"
   },
   "source": [
    "현재 폴더에 `import_this.py` 파일이 포함되어 있는가?<br>\n",
    "Does the current folder have the `import_this.py` file?\n",
    "\n"
   ]
  },
  {
   "cell_type": "code",
   "execution_count": null,
   "metadata": {
    "id": "8uCldpxF1PDF"
   },
   "outputs": [],
   "source": [
    "\"import_this.py\" in os.listdir()\n",
    "\n"
   ]
  },
  {
   "cell_type": "markdown",
   "metadata": {
    "id": "f-XQK8Ws1PDG"
   },
   "source": [
    "어떤 파일을 삭제할 수도 있다.<br>\n",
    "We may delete an existing file.\n",
    "\n"
   ]
  },
  {
   "cell_type": "code",
   "execution_count": null,
   "metadata": {
    "id": "mIkubRSL1PDG"
   },
   "outputs": [],
   "source": [
    "if \"import_this.py\" in os.listdir():\n",
    "    os.remove(\"import_this.py\")\n",
    "\n"
   ]
  },
  {
   "cell_type": "code",
   "execution_count": null,
   "metadata": {
    "id": "6D53oWCtNmNd"
   },
   "outputs": [],
   "source": [
    "os.listdir()\n",
    "\n"
   ]
  },
  {
   "cell_type": "code",
   "execution_count": null,
   "metadata": {
    "id": "IbMCnk-l1PDG"
   },
   "outputs": [],
   "source": [
    "\"import_this.py\" in os.listdir()\n",
    "\n"
   ]
  },
  {
   "cell_type": "code",
   "execution_count": null,
   "metadata": {
    "id": "auHsn7gi1PDG"
   },
   "outputs": [],
   "source": [
    "\"sample.txt\" in os.listdir()\n",
    "\n"
   ]
  },
  {
   "cell_type": "code",
   "execution_count": null,
   "metadata": {
    "id": "1xe9PLsc1PDH"
   },
   "outputs": [],
   "source": [
    "if \"sample.txt\" in os.listdir():\n",
    "    os.remove(\"sample.txt\")\n",
    "\n"
   ]
  },
  {
   "cell_type": "code",
   "execution_count": null,
   "metadata": {
    "id": "Ng54FGcdNr36"
   },
   "outputs": [],
   "source": [
    "os.listdir()\n",
    "\n"
   ]
  },
  {
   "cell_type": "code",
   "execution_count": null,
   "metadata": {
    "id": "YuBrA7mo1PDH"
   },
   "outputs": [],
   "source": [
    "\"sample.txt\" in os.listdir()\n",
    "\n"
   ]
  },
  {
   "cell_type": "markdown",
   "metadata": {
    "id": "AOK8ZE881PDH"
   },
   "source": [
    "## 소프트웨어 시험 함수<br>Software Test Functions\n",
    "\n"
   ]
  },
  {
   "cell_type": "markdown",
   "metadata": {
    "id": "sxdTyzhP1PDI"
   },
   "source": [
    "모든 소프트웨어는 예상 대로 작동하는지 확인해야 한다.<br>\n",
    "We must verify all code lines work as we expect.\n",
    "\n"
   ]
  },
  {
   "cell_type": "markdown",
   "metadata": {
    "id": "SEmt2wD61PDI"
   },
   "source": [
    "예를 들어 아래와 같은 함수를 생각해 보자.<br>\n",
    "Let's think about a function as follows.\n",
    "\n"
   ]
  },
  {
   "cell_type": "code",
   "execution_count": null,
   "metadata": {
    "id": "mMw-k0Gq1PDI"
   },
   "outputs": [],
   "source": [
    "def add(a, b):\n",
    "    return a + b\n",
    "\n"
   ]
  },
  {
   "cell_type": "markdown",
   "metadata": {
    "id": "-DcUJeJZ1PDI"
   },
   "source": [
    "아래는 위 함수가 맞게 작성되었는지 확인한다.<br>Following is a test function.\n",
    "\n"
   ]
  },
  {
   "cell_type": "code",
   "execution_count": null,
   "metadata": {
    "id": "nDurdV691PDJ"
   },
   "outputs": [],
   "source": [
    "def test_add():\n",
    "    # 논리식이 참이 아니면 assert 문은 AssertionError 오류를 발생시키며 ',' 뒤의 메시지를 보여 줄 것이다.\n",
    "    # If the logical operation is not true, assert will raise AssertionError with the message after ','\n",
    "    assert 3 == add(1, 2), f\"add(1, 2) != 3\"\n",
    "\n"
   ]
  },
  {
   "cell_type": "markdown",
   "metadata": {
    "id": "7-LXGKyL1PDJ"
   },
   "source": [
    "시험 함수를 호출해 보자.<br>\n",
    "Let's call the test function.\n",
    "\n"
   ]
  },
  {
   "cell_type": "code",
   "execution_count": null,
   "metadata": {
    "id": "ZhR2i2J21PDK"
   },
   "outputs": [],
   "source": [
    "test_add()\n",
    "\n"
   ]
  },
  {
   "cell_type": "markdown",
   "metadata": {
    "id": "Ds7ifutV1PDK"
   },
   "source": [
    "오류가 발생하지 않았다면 해당 함수가 위 시험은 통과한 것이다.<br>\n",
    "If no error message, we can see that the function passed the particular test.\n",
    "\n"
   ]
  },
  {
   "cell_type": "markdown",
   "metadata": {
    "id": "4MfxEJq6Nz3Z"
   },
   "source": [
    "`add()` 함수의 내용을 고의로 바꾸어 보자.<br>Let's intentionally change the `add()` function.\n",
    "\n"
   ]
  },
  {
   "cell_type": "code",
   "execution_count": null,
   "metadata": {
    "id": "9vEUiF_HN-dJ"
   },
   "outputs": [],
   "source": [
    "def add(a, b):\n",
    "    return a - b\n",
    "\n"
   ]
  },
  {
   "cell_type": "code",
   "execution_count": null,
   "metadata": {
    "id": "L2bnxe3LODjT"
   },
   "outputs": [],
   "source": [
    "try:\n",
    "  test_add()\n",
    "except AssertionError as e:\n",
    "  print(e)\n",
    "  print(\"add() did not pass this time\")\n",
    "\n"
   ]
  },
  {
   "cell_type": "markdown",
   "metadata": {
    "id": "r_1kQZHw1PDK"
   },
   "source": [
    "## 변수형 표시<br>Type Hints\n",
    "\n"
   ]
  },
  {
   "cell_type": "markdown",
   "metadata": {
    "id": "pRax3wak1PDK"
   },
   "source": [
    "어떤 변수는 어떤 형일지 표시해 주는 기능이 있다.<br>\n",
    "Using type hints, we can take a note of types of variable.\n",
    "\n"
   ]
  },
  {
   "cell_type": "code",
   "execution_count": null,
   "metadata": {
    "id": "4SUfU9CF1PDL"
   },
   "outputs": [],
   "source": [
    "def f(x):\n",
    "    return 2 * x\n",
    "\n"
   ]
  },
  {
   "cell_type": "markdown",
   "metadata": {
    "id": "WNO3ANXd1PDL"
   },
   "source": [
    "위 함수에 아래와 같이 type hint 를 추가할 수 있다.<br>\n",
    "We may add type hints to the function above as follows.\n",
    "\n"
   ]
  },
  {
   "cell_type": "code",
   "execution_count": null,
   "metadata": {
    "id": "Nw5PQrKQ1PDL"
   },
   "outputs": [],
   "source": [
    "def f(x:int) -> int:\n",
    "    return 2 * x\n",
    "\n"
   ]
  },
  {
   "cell_type": "markdown",
   "metadata": {
    "id": "xbHSr4JF1PDM"
   },
   "source": [
    "여기서, `x:int` 는 `x` 가 아마도 정수형일 것으로 예상된다는 뜻이다.<br>\n",
    "Here, `x:int` means that `x` would probably be an integer.\n",
    "\n"
   ]
  },
  {
   "cell_type": "markdown",
   "metadata": {
    "id": "iUfLAVi01PDM"
   },
   "source": [
    "또한, `-> int:` 는 해당 함수가 아마도 정수형을 반환할 것으로 예상된다는 뜻이다.<br>\n",
    "Also, `-> int:` means that the function would probably return an integer.\n",
    "\n"
   ]
  },
  {
   "cell_type": "markdown",
   "metadata": {
    "id": "b4FSXXFT1PDM"
   },
   "source": [
    "실행시 `x`는 정수가 아닐 수도 있다. 함수 `f()` 도 정수형이 아닌 값을 반환할 수도 있다.<br>\n",
    "During the runtime, `x` may not be an integer. The function `f()` may return a value which is not an integer.\n",
    "\n"
   ]
  },
  {
   "cell_type": "markdown",
   "metadata": {
    "id": "jK1lVWDEKyK6"
   },
   "source": [
    "현재 변수형을 표시하는 까닭은 개발자와 통합개발환경을 위해서이다.<br>For now, type hints are for the developers and integrated development environments.\n",
    "\n"
   ]
  },
  {
   "cell_type": "markdown",
   "metadata": {
    "id": "vzAAhM-c1PDM"
   },
   "source": [
    "변수형 표시 기능을 확장하기 위해 `typing` 모듈을 사용할 수 있다.<br>\n",
    "To extend type hints, we may import `typing` module.\n",
    "\n"
   ]
  },
  {
   "cell_type": "markdown",
   "metadata": {
    "id": "3dLcqScs1PDN"
   },
   "source": [
    "예를 들어, `typing` 으로부터 `List`, `Tuple`, `Union` 을 import 할 수 있다.<br>For example, we may import `List`, `Tuple`, and `Union` from `typing`.\n",
    "\n"
   ]
  },
  {
   "cell_type": "code",
   "execution_count": null,
   "metadata": {
    "id": "de1xTMQh1PDN"
   },
   "outputs": [],
   "source": [
    "from typing import List, Tuple, Union\n",
    "\n"
   ]
  },
  {
   "cell_type": "markdown",
   "metadata": {
    "id": "XpopCn6_1PDN"
   },
   "source": [
    "예상되는 `x`의 변수형이 여러가지라면, `Union` 으로 표시할 수 있다.<br>If `x` may be one of multiple types, `Union` may indicate them.\n",
    "\n"
   ]
  },
  {
   "cell_type": "code",
   "execution_count": null,
   "metadata": {
    "id": "tuuUn8CS1PDO"
   },
   "outputs": [],
   "source": [
    "def g(x:Union[int, float, str]) -> Union[int, float, str]:\n",
    "    return 2 * x\n",
    "\n"
   ]
  },
  {
   "cell_type": "markdown",
   "metadata": {
    "id": "k9LCgDgO1PDO"
   },
   "source": [
    "`List` 와 `Tuple`로 list 또는 tuple 의 항목의 변수형을 표시할 수 있다.<br>`List` or `Tuple` may indicate the types of items within a list or tuple.\n",
    "\n"
   ]
  },
  {
   "cell_type": "code",
   "execution_count": null,
   "metadata": {
    "id": "0aow_fbd1PDO"
   },
   "outputs": [],
   "source": [
    "def h(x:List[int], y:List[float]) -> Tuple[float]:\n",
    "    return x + y\n",
    "\n"
   ]
  },
  {
   "cell_type": "markdown",
   "metadata": {
    "id": "kIsuZw0p1PDP"
   },
   "source": [
    "자주 사용하는 변수형을 지정하여 사용하는 것도 가능하다.<br>We may assign frequently used types.\n",
    "\n"
   ]
  },
  {
   "cell_type": "code",
   "execution_count": null,
   "metadata": {
    "id": "6e2Dd0-V1PDP"
   },
   "outputs": [],
   "source": [
    "Scalar = Union[int, float]\n",
    "Vector = Union[List[Scalar], Tuple[Scalar]]\n",
    "Matrix = Union[List[Vector], Tuple[Vector]]\n",
    "\n"
   ]
  },
  {
   "cell_type": "code",
   "execution_count": null,
   "metadata": {
    "id": "mnZmh6uT1PDP"
   },
   "outputs": [],
   "source": [
    "def mat_times_scalar(a:Scalar, X:Matrix) -> Matrix:\n",
    "    result = []\n",
    "    for row in X:\n",
    "        new_row = []\n",
    "        result.append(new_row)\n",
    "        for x_ij in row:\n",
    "            new_row.append(x_ij * a)\n",
    "    return result\n",
    "\n"
   ]
  },
  {
   "cell_type": "markdown",
   "metadata": {
    "id": "597lDKw_1PDP"
   },
   "source": [
    "## Final Bell<br>마지막 종\n",
    "\n"
   ]
  },
  {
   "cell_type": "code",
   "execution_count": null,
   "metadata": {
    "id": "hWywQlki1PDQ"
   },
   "outputs": [],
   "source": [
    "# stackoverfow.com/a/24634221\n",
    "import os\n",
    "os.system(\"printf '\\a'\");\n",
    "\n"
   ]
  },
  {
   "cell_type": "code",
   "execution_count": null,
   "metadata": {
    "id": "JcNWpkKD1PDQ"
   },
   "outputs": [],
   "source": []
  }
 ],
 "metadata": {
  "colab": {
   "collapsed_sections": [],
   "name": "20_python_review.ipynb",
   "provenance": []
  },
  "kernelspec": {
   "display_name": "Python 3",
   "language": "python",
   "name": "python3"
  },
  "language_info": {
   "codemirror_mode": {
    "name": "ipython",
    "version": 3
   },
   "file_extension": ".py",
   "mimetype": "text/x-python",
   "name": "python",
   "nbconvert_exporter": "python",
   "pygments_lexer": "ipython3",
   "version": "3.8.8"
  }
 },
 "nbformat": 4,
 "nbformat_minor": 1
}
