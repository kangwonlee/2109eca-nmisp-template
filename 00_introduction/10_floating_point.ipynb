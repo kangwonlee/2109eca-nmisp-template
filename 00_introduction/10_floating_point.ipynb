{
 "cells": [
  {
   "cell_type": "code",
   "execution_count": null,
   "metadata": {
    "id": "-W_fk6aqHUrK"
   },
   "outputs": [],
   "source": [
    "# This cell is for the Google Colaboratory\n",
    "# https://stackoverflow.com/a/63519730\n",
    "if 'google.colab' in str(get_ipython()):\n",
    "  # https://colab.research.google.com/notebooks/io.ipynb\n",
    "  import google.colab.drive as gcdrive\n",
    "  # may need to visit a link for the Google Colab authorization code\n",
    "  gcdrive.mount(\"/content/drive/\")\n",
    "  import sys\n",
    "  sys.path.insert(0,\"/content/drive/My Drive/Colab Notebooks/nmisp/00_introduction\")\n"
   ]
  },
  {
   "cell_type": "markdown",
   "metadata": {
    "id": "x4QMBUX2HUrQ"
   },
   "source": [
    "# 컴퓨터는 실수를 어떻게 다루는가?<br>How computers handle real numbers?\n",
    "\n"
   ]
  },
  {
   "cell_type": "markdown",
   "metadata": {
    "id": "UiTbp_BHHUrS"
   },
   "source": [
    "자연수, 음의 정수, 실수의 순서 대로 알아 보자.<br>Let's take a look at natural numbers, negative integers, and real numbers.\n",
    "\n"
   ]
  },
  {
   "cell_type": "markdown",
   "metadata": {
    "id": "Wn0gfQibHUrT"
   },
   "source": [
    "## 컴퓨터는 자연수를 어떻게 다루는가?<br>How computers handle natural numbers?\n",
    "\n"
   ]
  },
  {
   "cell_type": "markdown",
   "metadata": {
    "id": "VWx1EESKHUrT"
   },
   "source": [
    "* 컴퓨터는 기본적으로 0 또는 1만 다룰 수 있음.<br>Basically, computers can handle 0 or 1 only.\n",
    "\n"
   ]
  },
  {
   "cell_type": "markdown",
   "metadata": {
    "id": "jBrWrj62HUrU"
   },
   "source": [
    "* 여기서 **다룰 수 있다**는 것은 기억장치에 저장, 연산, 출력 등을 뜻함.<br>Here, to **handle** means to store in memory, to operate, and to output.\n",
    "\n"
   ]
  },
  {
   "cell_type": "markdown",
   "metadata": {
    "id": "Cn6IGnTgHUrU"
   },
   "source": [
    "* 0 또는 1 을 다루는 최소 단위는 **비트**라고 함.<br>We call the smallest unit that can handle 0 or 1 a **bit**.\n",
    "\n"
   ]
  },
  {
   "cell_type": "markdown",
   "metadata": {
    "id": "AzexJQ5jHUrV"
   },
   "source": [
    "* 어떤 컴퓨터가 예를 들어 32 비트, 64 비트 라고 할 때 이를 기억하기 바람.<br>When we hear about a personal computer is for example 32 bit or 64 bit, please recall this.\n",
    "\n"
   ]
  },
  {
   "cell_type": "markdown",
   "metadata": {
    "id": "ItAk1JsaHUrW"
   },
   "source": [
    "* 해당 컴퓨터가 한번에 처리할 수 있는 비트의 수를 뜻함.<br>It means the number of bits that the computer can process at once.\n",
    "\n"
   ]
  },
  {
   "cell_type": "markdown",
   "metadata": {
    "id": "55DValUUHUrX"
   },
   "source": [
    "* 더 큰 (자연)수를 다루려면 비트 수가 커야 함.<br>To handle larger (natural) numbers, we need more number of bits.\n",
    "\n"
   ]
  },
  {
   "cell_type": "markdown",
   "metadata": {
    "id": "wu1Q-vu2HUrX"
   },
   "source": [
    "* 다음 표는 10진수를 2진수와 16진수 형태로 보임.<br>Following table shows decimal numbers in binary and hexadecimal format.\n",
    "\n"
   ]
  },
  {
   "cell_type": "code",
   "execution_count": null,
   "metadata": {
    "id": "4gIsax0UHUrY",
    "scrolled": false
   },
   "outputs": [],
   "source": [
    "# digit_table 이라는 모듈을 불러 들임. 해당 모듈이 가진 기능을 이용하기 위함\n",
    "# import a module named digit_table to use its features\n",
    "import digit_table\n",
    "\n",
    "# 2진수, 16진수 표를 준비함\n",
    "# make a table of deciman, binary, and hexademcial numbers\n",
    "binary_hex_decimal_table = digit_table.get_binary_hex_decimal_table()\n",
    "\n",
    "# 위에서 만든 표를 표시함\n",
    "# present the table\n",
    "digit_table.present_table(binary_hex_decimal_table)    \n",
    "\n"
   ]
  },
  {
   "cell_type": "markdown",
   "metadata": {
    "id": "BJTdTrOqHUrY"
   },
   "source": [
    "* 위 표가 너무 길다고 생각되면 위 셀 왼쪽 여백을 선택한 후 <kbd>Shift</kbd>+<kbd>O</kbd> 또는 <kbd>O</kbd>를 눌러 봄<br>\n",
    "    If the table above seems too long, select left margin of the cell above and try pressing <kbd>Shift</kbd>+<kbd>o</kbd> or <kbd>o</kbd>\n",
    "* 이는 **주피터 노트북**의 기능임. <kbd>h</kbd> 를 누르면 도움말을 볼 수 있음.<br>\n",
    "    This is one of features of the **Jupyter Notebook**. Press <kbd>h</kbd> to see more.\n",
    "\n"
   ]
  },
  {
   "cell_type": "markdown",
   "metadata": {
    "id": "4ss8Y9XfHUrZ"
   },
   "source": [
    "* 위에서 이진수 4자리가 16진수 한자리에 해당됨을 알 수 있음<br>We can see that one hexadecimal digit represents four binary digits.\n",
    "\n"
   ]
  },
  {
   "cell_type": "markdown",
   "metadata": {
    "id": "vr1btxNqHUrZ"
   },
   "source": [
    "* 이러한 이유로 흔히 이진수를 예를 들어 `1101 0101`과 같이 4자리씩 표시함.<br>Because of this, frequently we group four digits of a binary number; for example `1101 0101`.\n",
    "\n"
   ]
  },
  {
   "cell_type": "markdown",
   "metadata": {
    "id": "hgrId_12HUrZ"
   },
   "source": [
    "* 이러한 비트를 8개씩 모은 것을 **바이트**라고 함.<br>We call a collection of 8 bits a **byte**.\n",
    "\n"
   ]
  },
  {
   "cell_type": "markdown",
   "metadata": {
    "id": "1jYiL2LxHUra"
   },
   "source": [
    "## 컴퓨터는 음의 정수를 어떻게 다루는가?<br>How computers handle negative integers?\n",
    "\n"
   ]
  },
  {
   "cell_type": "markdown",
   "metadata": {
    "id": "_Ttij7uhHUra"
   },
   "source": [
    "* 기본적으로 컴퓨터는 0과 양의 정수를 다루도록 만들어져 있음.<br>Basically computers are designed to handle 0 and positive integers.\n",
    "\n"
   ]
  },
  {
   "cell_type": "markdown",
   "metadata": {
    "id": "OmyCOJ0sHUrb"
   },
   "source": [
    "* 음의 정수를 표현하고 다루기 위해 컴퓨터는 음의 정수를 **2의 보수**로 변환함.<br>To represent and handle negative integers, computers convert a negative integer to **2's complement**.\n",
    "\n"
   ]
  },
  {
   "cell_type": "markdown",
   "metadata": {
    "id": "74QBw5qnHUrb"
   },
   "source": [
    "* 두 수 $a$와 $b$가 있을 때, $a+b=2$ 이면 $b$ 는 $a$의 **2의 보수**임.<br>If there are two numbers of $a$ and $b$, and $a+b=2$, $b$ is **2's complement** of $a$.\n",
    "\n"
   ]
  },
  {
   "cell_type": "markdown",
   "metadata": {
    "id": "vX6bK_hjHUrb"
   },
   "source": [
    "### 8 비트 예<br>8 bit example\n",
    "\n"
   ]
  },
  {
   "cell_type": "markdown",
   "metadata": {
    "id": "1SKSzAjZHUrc"
   },
   "source": [
    "* 설명을 간단히 하기 위해 8bit 의 경우를 살펴 보겠음.<br>To simplify, we will look at the 8bit case.\n",
    "\n"
   ]
  },
  {
   "cell_type": "markdown",
   "metadata": {
    "id": "VgbmkjxQHUrc"
   },
   "source": [
    "* 양의 정수 7은 8bit 이진수로 00000111 로 표시할 수 있음.<br>Positive integer 7 is 00000111 in an 8 bit binary number.\n",
    "\n"
   ]
  },
  {
   "cell_type": "markdown",
   "metadata": {
    "id": "Q9S0T6D8HUrc"
   },
   "source": [
    "* 2진수 00000111의 2의 보수를 구하기 위해 우선 0을 1로 바꾼 후 1을 더함.<br>To find 2's complement of binary number 00000111, change 0's to 1's and add 1.\n",
    "\n"
   ]
  },
  {
   "cell_type": "markdown",
   "metadata": {
    "id": "IqTrYO9uHUrc"
   },
   "source": [
    "* 2진수 00000111 의 2 의 보수는 11111001 이 될 것임.<br>2's complement of binary number 00000111 would be 11111001.\n",
    "\n"
   ]
  },
  {
   "cell_type": "markdown",
   "metadata": {
    "id": "anPrsAwGHUrd"
   },
   "source": [
    "* 두 수를 더하면 다음과 같음.<br>Adding these two numbers would be follows.\n",
    "\n"
   ]
  },
  {
   "cell_type": "code",
   "execution_count": null,
   "metadata": {
    "id": "7HS-ntGaHUrd"
   },
   "outputs": [],
   "source": [
    "# convert strings to integers. \n",
    "# regard the base is two == binary numbers\n",
    "a = int('00000111', base=2)\n",
    "b = int('11111001', base=2)\n",
    "\n",
    "# see help(int) for more information\n",
    "\n",
    "# add two integers above\n",
    "c = a+b\n",
    "\n",
    "# print the sum c as a binary number\n",
    "print(f'c = {c:b}(binary)')\n",
    "\n",
    "# as a decimal number\n",
    "print(f'c = {c:d}(decimal)')\n",
    "\n",
    "# as a hexadecimal number\n",
    "print(f'c = {c:x}(hexadecimal)')\n",
    "\n"
   ]
  },
  {
   "cell_type": "markdown",
   "metadata": {
    "id": "rUDp2XMzHUrd"
   },
   "source": [
    "* 위 결과는 10진수로는 256 이지만 2진수로는 `1 0000 0000` 으로, 아래 8 비트는 모두 0임. 8비트 연산의 경우, 이 덧셈의 결과는 0으로 간주함.<br>The result above is 256 in decimal, however, in binary `1 0000 0000` whose lower 8 bits are all zeros. In case of the 8 bit operation, we regard this result as zero.\n",
    "\n"
   ]
  },
  {
   "cell_type": "markdown",
   "metadata": {
    "id": "2Lpewdp9HUre"
   },
   "source": [
    "* 아래 표는 8자리 2진수의 양의 정수, 부호 있는 정수로서의 값을 비교함<br>Following table compares 8 digit bit patterns as positive integers and signed integers.\n",
    "\n"
   ]
  },
  {
   "cell_type": "code",
   "execution_count": null,
   "metadata": {
    "id": "zh9Zmf3XHUre"
   },
   "outputs": [],
   "source": [
    "# 이진수의 자릿수\n",
    "# number of binary digits\n",
    "n = 8\n",
    "\n",
    "# 부호가 없는 또는 부호가 있는 이진수 표 생성\n",
    "# make a table of unsigned or signed integers\n",
    "table_8 = digit_table.unsigned_sigined_int(n)\n",
    "\n",
    "# 위에서 만든 표를 표시함\n",
    "# present the table\n",
    "digit_table.present_table(table_8)\n",
    "\n"
   ]
  },
  {
   "cell_type": "markdown",
   "metadata": {
    "id": "QKQQKBcYHUre"
   },
   "source": [
    "### 16 비트 예<br>16 bit example\n",
    "\n"
   ]
  },
  {
   "cell_type": "markdown",
   "metadata": {
    "id": "wv0z3deCHUre"
   },
   "source": [
    "* 다음 예는 16비트의 경우를 보여줌<br>Following example shows a 16bit example.\n",
    "\n"
   ]
  },
  {
   "cell_type": "code",
   "execution_count": null,
   "metadata": {
    "id": "8PgHDbVSHUre"
   },
   "outputs": [],
   "source": [
    "a = int('0000''0000''0000''0111', base=2)\n",
    "b = int('1111''1111''1111''1001', base=2)\n",
    "\n",
    "c = a+b\n",
    "print(f'c = {c:b}(binary)')\n",
    "print(f'c = {c:d}(decimal)')\n",
    "print(f'c = {c:x}(hexadecimal)')\n",
    "\n"
   ]
  },
  {
   "cell_type": "markdown",
   "metadata": {
    "id": "f2faeRFyHUrf"
   },
   "source": [
    "* 위 결과는 10진수로는 65536 이지만 2진수로는 `1 0000 0000 0000 0000` 으로, 아래 16 비트는 모두 0임.<br>The result above is 65536 in decimal, however, in binary `1 0000 0000 0000 0000` whose lower 16 bits are all zeros.\n",
    "\n"
   ]
  },
  {
   "cell_type": "markdown",
   "metadata": {
    "id": "bfjbyxiwHUrf"
   },
   "source": [
    "* 아래 표는 16자리 2진수의 양의 정수, 부호 있는 정수로서의 값을 비교함<br>Following table compares 16 digit bit patterns as positive integers and signed integers.\n",
    "\n"
   ]
  },
  {
   "cell_type": "code",
   "execution_count": null,
   "metadata": {
    "id": "bqsjMay6HUrf"
   },
   "outputs": [],
   "source": [
    "digit_table.present_table(\n",
    "    digit_table.unsigned_sigined_int(16)\n",
    ")\n",
    "\n"
   ]
  },
  {
   "cell_type": "markdown",
   "metadata": {
    "id": "YuDkD7pnHUrg"
   },
   "source": [
    "### 요약<br>Summary\n",
    "\n"
   ]
  },
  {
   "cell_type": "markdown",
   "metadata": {
    "id": "EZAAbAGEHUrg"
   },
   "source": [
    "* 음의 정수는 컴퓨터에서 2의 보수로 다루며, 이는 해당 정수의 절대값의 2진수에서 0과 1을 바꾼 다음 1을 더하여 구함.<br>Computers handle negative intergers as 2's complementary, which we can find by exchanging 0's and 1's of the binary representation of the integer's absolute value and then adding one.\n",
    "\n"
   ]
  },
  {
   "cell_type": "markdown",
   "metadata": {
    "id": "XbBJXnN1HUrg"
   },
   "source": [
    "## 컴퓨터는 실수를 어떻게 다루는가?<br>How computers handle real numbers?\n",
    "\n"
   ]
  },
  {
   "cell_type": "markdown",
   "metadata": {
    "id": "RzldyRD-HUrg"
   },
   "source": [
    "### 고정 소숫점<br>Fixed point\n",
    "\n"
   ]
  },
  {
   "cell_type": "markdown",
   "metadata": {
    "id": "byXklCC0HUrg"
   },
   "source": [
    "* 정수로 표시한 후 일정 값을 곱함<br>We can represent a number in an integer and multiply a fixed number.\n",
    "\n"
   ]
  },
  {
   "cell_type": "markdown",
   "metadata": {
    "id": "_IWhIPpIHUrh"
   },
   "source": [
    "* 예를 들어 길이를 모두 cm 단위로 표시한 후 m 단위 값을 구하려면 0.01 을 곱함.<br>For example, we can indicate all lengths in cm units and multipy 0.01 to find values in m units. \n",
    "\n"
   ]
  },
  {
   "cell_type": "markdown",
   "metadata": {
    "id": "2PR99ACSHUrh"
   },
   "source": [
    "* 그러나 위의 경우, mm 값을 표시하는 것이 곤란할 수 있음.<br>However, in this way, it may not be easy to indicate in mm units.\n",
    "\n"
   ]
  },
  {
   "cell_type": "markdown",
   "metadata": {
    "id": "UoeQm0ZuHUrh"
   },
   "source": [
    "### 부동 (떠다니는) 소숫점<br>Floating point\n",
    "\n"
   ]
  },
  {
   "cell_type": "markdown",
   "metadata": {
    "id": "ycr_7M1ZHUrh"
   },
   "source": [
    "* 간단히 말하면 실수는 유효숫자와 지수로 표시함.<br>In short, we can also represent a real number using significand and exponents.\n",
    "\n"
   ]
  },
  {
   "cell_type": "markdown",
   "metadata": {
    "id": "wsINJX5kHUrh"
   },
   "source": [
    "* 예를 들어 $2.3456 \\times 10^0$ m 는 cm 단위로는 $2.3456 \\times 10^2$, mm 단위로는 $2.3456 \\times 10^3$ 으로 표시될 것임.<br>For example, $2.3456 \\times 10^0$ m would be $2.3456 \\times 10^2$ in cm, and $2.3456 \\times 10^3$ in mm.\n",
    "\n"
   ]
  },
  {
   "cell_type": "markdown",
   "metadata": {
    "id": "ePRSspgwHUrh"
   },
   "source": [
    "* 공학용 계산기 가운데는 `2.3456E3` 으로 $2.3456 \\times 10^3$ 을 나타내는 것도 있음. 여기서 `2.3456` 은 유효숫자, `3`은 지수임.<br>An engineering calculator may indicate $2.3456 \\times 10^3$ as `2.3456E3`. Here, we can see that `2.3456` is the significand (also mantissa, coefficient, argument or fraction) and `3` is the exponent.\n",
    "\n"
   ]
  },
  {
   "cell_type": "markdown",
   "metadata": {
    "id": "Sh3M6H7KHUrh"
   },
   "source": [
    "* 유효숫자는 바뀌지 않더라도 지수 값이 바뀌면 소숫점의 위치가 바뀜.<br>Even if the sigtificand does not change, when the exponent changes, the location of the decimal point changes.\n",
    "\n"
   ]
  },
  {
   "cell_type": "markdown",
   "metadata": {
    "id": "I_XXTLcKHUri"
   },
   "source": [
    "* 반대로 $2.3456 \\times 10^0$ mm 는 cm 단위로는 $2.3456 \\times 10^{-1}$, m 단위로는 $2.3456 \\times 10^{-3}$ 으로 표시될 것임.<br>On the contrary, $2.3456 \\times 10^0$ mm would be $2.3456 \\times 10^{-1}$ in cm, and $2.3456 \\times 10^{-3}$ in m.\n",
    "\n"
   ]
  },
  {
   "cell_type": "markdown",
   "metadata": {
    "id": "ye98IvAOHUri"
   },
   "source": [
    "* 컴퓨터는 2진수로 저장하며 자세한 내용은 [IEEE 754](https://ko.wikipedia.org/wiki/IEEE_754) 기술 표준을 참고하기 바람.<br>Computers store in binary numbers. For more informaiton, please refer to [IEEE 754, Wikipedia](https://en.wikipedia.org/wiki/IEEE_754).\n",
    "\n"
   ]
  },
  {
   "cell_type": "markdown",
   "metadata": {
    "id": "RqfwrubuHUri"
   },
   "source": [
    "* 일반적으로 단정도 4바이트 (32비트) 또는 배정도 8바이트 (64비트)로 다루며 $\\pm$, 지수부, 유효숫자부로 나눔.<br>Usually we use 4Byte (32bit) single precision or 8Byte (64bit) double precision, which includes $\\pm$, exponent, and significand.\n",
    "\n"
   ]
  },
  {
   "cell_type": "markdown",
   "metadata": {
    "id": "kXUDwhNmHUri"
   },
   "source": [
    "* 단정도 32비트는 아래 표와 같이 구성됨.  여기서 `e`는 지수, `s`는 유효숫자를 뜻함.<br>Following table shows the breakout of 32 bits of single precision.  Here, `e` and `s` indicate exponent and sigdificand, respectively.\n",
    "\n"
   ]
  },
  {
   "cell_type": "code",
   "execution_count": null,
   "metadata": {
    "id": "6gXPw5kwHUri"
   },
   "outputs": [],
   "source": [
    "# number of bits\n",
    "n = 32\n",
    "ne = 8    # number of exponent bits\n",
    "\n",
    "digit_table.present_table(digit_table.get_float_bits(n, ne))\n",
    "\n"
   ]
  },
  {
   "cell_type": "markdown",
   "metadata": {
    "id": "4sBBNzu9HUrj"
   },
   "source": [
    "* 지수부 값이 $0$이면 $2^{-127}$을, $2^{8}-1=255$이면  $2^{128}$을 뜻함.<br>Please note that the exponent value $0$ means $2^{-127}$ and $2^{8}-1=255$ means $2^{128}$.\n",
    "\n"
   ]
  },
  {
   "cell_type": "markdown",
   "metadata": {
    "id": "Oc1-6pT0HUrj"
   },
   "source": [
    "* 배정도 64비트는 아래 표와 같이 구성됨.<br>Following table shows the breakout of 64 bits of double precision.\n",
    "\n"
   ]
  },
  {
   "cell_type": "code",
   "execution_count": null,
   "metadata": {
    "id": "qyegSVEvHUrj"
   },
   "outputs": [],
   "source": [
    "# number of bits\n",
    "n = 64\n",
    "ne = 11\n",
    "\n",
    "digit_table.present_table(digit_table.get_float_bits(n, ne))\n",
    "\n"
   ]
  },
  {
   "cell_type": "markdown",
   "metadata": {
    "id": "nYQ1J5ixHUrj"
   },
   "source": [
    "* 지수부 값이 $0$이면 $2^{-1023}$을, $2^{11}-1=2047$이면  $2^{1024}$를 뜻함.<br>Please note that the exponent value $0$ means $2^{-1023}$ and $2^{11}-1=2047$ means $2^{1024}$.\n",
    "\n"
   ]
  },
  {
   "cell_type": "markdown",
   "metadata": {
    "id": "YpB2MVhcHUrj"
   },
   "source": [
    "## 부동소숫점 표시의 한계 사례<br>Examples of limits of floating point\n",
    "\n"
   ]
  },
  {
   "cell_type": "markdown",
   "metadata": {
    "id": "JFuCqRnjHUrj"
   },
   "source": [
    "수학적으로 다음은 항상 참인가?<br>Mathematically, is following always true?\n",
    "\n"
   ]
  },
  {
   "cell_type": "markdown",
   "metadata": {
    "id": "BqrEw-XWHUrk"
   },
   "source": [
    "$$\n",
    "2^{-n} > 0, n < \\infty\n",
    "$$\n",
    "\n"
   ]
  },
  {
   "cell_type": "markdown",
   "metadata": {
    "id": "NdEChU9SHUrk"
   },
   "source": [
    "다음 코드는 $n$ 이 1 부터 10000 까지인 경우 위 식을 확인한다.<br>Following code will check the inequality above when $n$ is from  1 to 10000.\n",
    "\n"
   ]
  },
  {
   "cell_type": "code",
   "execution_count": null,
   "metadata": {
    "id": "Wt7nIreQHUrk"
   },
   "outputs": [],
   "source": [
    "a = 1.0\n",
    "\n",
    "for n in range(1, 10000+1):\n",
    "    a *= 0.5\n",
    "    print(f\"2**(-{n}) = {a}\")\n",
    "    if a <= 0 : \n",
    "        break\n",
    "\n"
   ]
  },
  {
   "cell_type": "markdown",
   "metadata": {
    "id": "j2D-Mbd2HUrk"
   },
   "source": [
    "다음도 항상 참인가?<br>Is following always true, too?\n",
    "\n"
   ]
  },
  {
   "cell_type": "markdown",
   "metadata": {
    "id": "CSUALC5EHUrk"
   },
   "source": [
    "$$\n",
    "100+2^{-n} > 100, n < \\infty\n",
    "$$\n",
    "\n"
   ]
  },
  {
   "cell_type": "markdown",
   "metadata": {
    "id": "6r_C8p7PHUrk"
   },
   "source": [
    "마찬가지로, 다음 코드는 $n$ 이 1 부터 10000 까지인 경우 위 식을 확인한다.<br>Similary, following code will check the inequality above when $n$ is from  1 to 10000.\n",
    "\n"
   ]
  },
  {
   "cell_type": "code",
   "execution_count": null,
   "metadata": {
    "id": "H_hS7Q2pHUrl"
   },
   "outputs": [],
   "source": [
    "a = 1.0\n",
    "b = 100\n",
    "\n",
    "for n in range(1, 10000+1):\n",
    "    a *= 0.5\n",
    "    print(f\"{b} + 2**(-{n}) = {b+a}\")\n",
    "    if b+a <= b : \n",
    "        break\n",
    "\n"
   ]
  },
  {
   "cell_type": "markdown",
   "metadata": {
    "id": "qpC1XGK4HUrl"
   },
   "source": [
    "## 연습 문제<br>Exercises\n",
    "\n"
   ]
  },
  {
   "cell_type": "markdown",
   "metadata": {
    "id": "JjgK9csKHUrl"
   },
   "source": [
    "* 이진수 세자리는 몇진수 한자리에 해당되겠는가?<br>One digit of which base would represent three binary digits?\n",
    "\n"
   ]
  },
  {
   "cell_type": "markdown",
   "metadata": {
    "id": "G51U2zipHUrl"
   },
   "source": [
    "* `2.3456E3` 이 $2.3456 \\times 10^3$ 라면, $2.3456 \\times 10^{-3}$ 은?<br>If `2.3456E3` is equivalent to $2.3456 \\times 10^3$, what about $2.3456 \\times 10^{-3}$?\n",
    "\n"
   ]
  },
  {
   "cell_type": "markdown",
   "metadata": {
    "id": "_IyZm7YWHUrl"
   },
   "source": [
    "* 아래 부등식은 항상 참인지 여러분의 컴퓨터로 확인해 본 결과는? 그 까닭은?<br>What was the result of the following inequality in your computer? Why?\n",
    "\n"
   ]
  },
  {
   "cell_type": "markdown",
   "metadata": {
    "id": "jwDRJUDPHUrl"
   },
   "source": [
    "$$\n",
    "2^{-n} > 0\n",
    "$$\n",
    "\n"
   ]
  },
  {
   "cell_type": "markdown",
   "metadata": {
    "id": "JDtpjzxWHUrm"
   },
   "source": [
    "* 위 결과와 아래 부등식의 결과를 비교해 보시오.<br>Compare the result of the following inequality in your computer with the above one?\n",
    "\n"
   ]
  },
  {
   "cell_type": "markdown",
   "metadata": {
    "id": "H3spLLEPHUrm"
   },
   "source": [
    "$$\n",
    "100+2^{-n} > 100\n",
    "$$\n",
    "\n"
   ]
  },
  {
   "cell_type": "markdown",
   "metadata": {
    "id": "DloBCPJ4HUrm"
   },
   "source": [
    "## 파이썬의 `for` 반복문<br>`for` iterations in python\n",
    "\n"
   ]
  },
  {
   "cell_type": "markdown",
   "metadata": {
    "id": "HXaKYvjbHUrm"
   },
   "source": [
    "어떤 작업을 정해진 횟수 만큼 반복시키고 싶다면 `for` 문을 사용할 수 있다.<br>\n",
    "`for` loops for a fixed number of iterations.[[ref](https://stackoverflow.com/questions/27875966)]\n",
    "\n"
   ]
  },
  {
   "cell_type": "code",
   "execution_count": null,
   "metadata": {
    "id": "AEZWp1i5HUrm"
   },
   "outputs": [],
   "source": [
    "a = 'iteration'\n",
    "\n",
    "for i in [0, 1, 2,]:\n",
    "    print(i, a)\n",
    "\n"
   ]
  },
  {
   "cell_type": "markdown",
   "metadata": {
    "id": "Ar7CLeFRHUrm"
   },
   "source": [
    "위 셀에서 변수 `i` 는 `in` 다음의 list `[0, 1, 2]` 안의 값을 하나씩 짚을 것이다.<br>In the cell above, the variable `i` will step over the values of the list `[0, 1, 2]` following `in`.\n",
    "\n"
   ]
  },
  {
   "cell_type": "markdown",
   "metadata": {
    "id": "IO-LXk3MHUrn"
   },
   "source": [
    "`n` 번 반복시키려면 0 부터 `n-1` 까지 발생시키는 `range(n)` 을 사용할 수 있다.<br>\n",
    "To loop `n` iterations, we can use `range(n)` that will generate from 0 to `n-1`.\n",
    "\n"
   ]
  },
  {
   "cell_type": "code",
   "execution_count": null,
   "metadata": {
    "id": "JmsSf4lBHUrn"
   },
   "outputs": [],
   "source": [
    "a = 'iteration'\n",
    "n = 10\n",
    "\n",
    "for i in range(n):\n",
    "    print(i, a)\n",
    "\n"
   ]
  },
  {
   "cell_type": "markdown",
   "metadata": {
    "id": "ssgxWN78HUrn"
   },
   "source": [
    "list 나 `range(n)` 대신 문자열을 사용할 수도 있다.<br>We may also replace the list or `range(n)` with a string.\n",
    "\n"
   ]
  },
  {
   "cell_type": "markdown",
   "metadata": {
    "id": "TvznRHgWHUrn"
   },
   "source": [
    "## Final Bell<br>마지막 종\n",
    "\n"
   ]
  },
  {
   "cell_type": "code",
   "execution_count": null,
   "metadata": {
    "id": "ShQfMp6vHUrn"
   },
   "outputs": [],
   "source": [
    "# stackoverfow.com/a/24634221\n",
    "import os\n",
    "os.system(\"printf '\\a'\");\n",
    "\n"
   ]
  },
  {
   "cell_type": "code",
   "execution_count": null,
   "metadata": {
    "id": "PUVqcWNJHUrn"
   },
   "outputs": [],
   "source": []
  }
 ],
 "metadata": {
  "colab": {
   "collapsed_sections": [
    "vX6bK_hjHUrb",
    "QKQQKBcYHUre",
    "YuDkD7pnHUrg",
    "RzldyRD-HUrg",
    "UoeQm0ZuHUrh"
   ],
   "name": "10_floating_point.ipynb",
   "provenance": []
  },
  "kernelspec": {
   "display_name": "Python 3",
   "language": "python",
   "name": "python3"
  },
  "language_info": {
   "codemirror_mode": {
    "name": "ipython",
    "version": 3
   },
   "file_extension": ".py",
   "mimetype": "text/x-python",
   "name": "python",
   "nbconvert_exporter": "python",
   "pygments_lexer": "ipython3",
   "version": "3.8.8"
  }
 },
 "nbformat": 4,
 "nbformat_minor": 1
}
