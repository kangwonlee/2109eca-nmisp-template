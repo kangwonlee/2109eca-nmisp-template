{
 "cells": [
  {
   "cell_type": "code",
   "execution_count": null,
   "metadata": {},
   "outputs": [],
   "source": [
    "# This cell is for the Google Colaboratory\n",
    "# https://stackoverflow.com/a/63519730\n",
    "if 'google.colab' in str(get_ipython()):\n",
    "  # https://colab.research.google.com/notebooks/io.ipynb\n",
    "  import google.colab.drive as gcdrive\n",
    "  # may need to visit a link for the Google Colab authorization code\n",
    "  gcdrive.mount(\"/content/drive/\")\n",
    "  import sys\n",
    "  sys.path.insert(0,\"/content/drive/My Drive/Colab Notebooks/nmisp/50_ode\")\n"
   ]
  },
  {
   "cell_type": "code",
   "execution_count": null,
   "metadata": {},
   "outputs": [],
   "source": [
    "# 그래프, 수학 기능 추가\n",
    "# Add graph and math features\n",
    "import pylab as py\n",
    "import numpy as np\n",
    "import numpy.linalg as nl\n",
    "# 기호 연산 기능 추가\n",
    "# Add symbolic operation capability\n",
    "import sympy as sy\n",
    "\n"
   ]
  },
  {
   "cell_type": "code",
   "execution_count": null,
   "metadata": {},
   "outputs": [],
   "source": [
    "sy.init_printing()\n",
    "\n"
   ]
  },
  {
   "cell_type": "markdown",
   "metadata": {},
   "source": [
    "# 상미분방정식을 위한 훈의 방법<br>Heun's Method for Ordinary Differntial Equations\n",
    "\n"
   ]
  },
  {
   "cell_type": "markdown",
   "metadata": {},
   "source": [
    "## 오일러법 사례 검토<br>Review of Euler Method\n",
    "\n"
   ]
  },
  {
   "cell_type": "markdown",
   "metadata": {},
   "source": [
    "다시 한번 다음 1계 미분 방정식을 생각해 보자.<br>Once again, let's think about the following first order differential equation again.\n",
    "\n"
   ]
  },
  {
   "cell_type": "markdown",
   "metadata": {},
   "source": [
    "$$\n",
    "\\left\\{\n",
    "    \\begin{align}\n",
    "        a_0 \\frac{d}{dt}x(t)+a_1 x(t)&=0 \\\\\n",
    "        x(0)&=x_0 \\\\\n",
    "    \\end{align}\n",
    "\\right.\n",
    "$$\n",
    "\n"
   ]
  },
  {
   "cell_type": "markdown",
   "metadata": {},
   "source": [
    "알고있다시피, python 함수로는 다음과 같이 쓸 수 있다.<br>\n",
    "We know that we can write it as a python function as follows.\n",
    "\n"
   ]
  },
  {
   "cell_type": "code",
   "execution_count": null,
   "metadata": {},
   "outputs": [],
   "source": [
    "a_0, a_1 = 2.0, 1.0\n",
    "\n",
    "def dx_dt(t, x):\n",
    "    return - a_1 * x / a_0\n",
    "\n"
   ]
  },
  {
   "cell_type": "markdown",
   "metadata": {},
   "source": [
    "## 훈의 방법<br>Heun's Method\n",
    "\n"
   ]
  },
  {
   "cell_type": "markdown",
   "metadata": {},
   "source": [
    "훈의 방법은 독일 수학자 칼 훈의 이름을 딴 것이다.<br>\n",
    "Heun's Method is named after German mathematician Karl Heun.\n",
    "\n"
   ]
  },
  {
   "cell_type": "markdown",
   "metadata": {},
   "source": [
    "훈의 방법은 다음 두 값의 평균을 $t_i \\le t \\le t_{i+1}$ 사이에서 대표적인 $\\frac{d}{dt}x$ 값으로 가정한다.<br>\n",
    "Heun's Method assumes the average of following two as the representative $\\frac{d}{dt}x$ value within $t_i \\le t \\le t_{i+1}$ interval.\n",
    "\n"
   ]
  },
  {
   "cell_type": "markdown",
   "metadata": {},
   "source": [
    "$$\n",
    "    s_i=\\frac{d}{dt}x\\left(t_{i}\\right) \\\\ \n",
    "    s_{i+1}=\\frac{d}{dt}x\\left(t_{i+1}\\right)\n",
    "$$\n",
    "\n"
   ]
  },
  {
   "cell_type": "markdown",
   "metadata": {},
   "source": [
    "그런데, $x(t_{i+1})$의 엄밀해를 알지 못하는 상태에서 어떻게 $s_{i+1}=\\frac{d}{dt}x\\left(t_{i+1}\\right)$ 을 계산할 것인가?<br>\n",
    "Now, how can we calculate $\\frac{d}{dt}x=\\left.\\frac{d}{dt}x\\right|_{t=t_{i+1}}$ without knowing the exact solution of $x(t)$?\n",
    "\n"
   ]
  },
  {
   "cell_type": "markdown",
   "metadata": {},
   "source": [
    "오일러법으로 구한 $\\left.x\\right|_{t=t_{i+1}}$의 근사값 $\\left.\\hat{x}\\right|_{t=t_{i+1}}$으로 $\\frac{d}{dt}x=\\left.\\frac{d}{dt}x\\right|_{t=t_{i+1}}$을 사용할 것이다.<br>\n",
    "We would use $\\frac{d}{dt}x=\\left.\\frac{d}{dt}x\\right|_{t=t_{i+1}}$ using $\\left.\\hat{x}\\right|_{t=t_{i+1}}$, the approximation of $\\left.x\\right|_{t=t_{i+1}}$ by the Euler Method.\n",
    "\n"
   ]
  },
  {
   "cell_type": "code",
   "execution_count": null,
   "metadata": {},
   "outputs": [],
   "source": [
    "def heun(f, t_array, x_0):\n",
    "    time_list = [t_array[0]]\n",
    "    result_list = [x_0]\n",
    "\n",
    "    x_i = x_0\n",
    "\n",
    "    for k, t_i in enumerate(t_array[:-1]):\n",
    "        # time step\n",
    "        delta_t = t_array[k+1] - t_array[k]\n",
    "\n",
    "        # slope at i\n",
    "        s_i = f(t_i, x_i)\n",
    "\n",
    "        # x[i + 1] by Euler\n",
    "        x_i_plus_1 = x_i + s_i * delta_t\n",
    "        \n",
    "        # slope at i + 1\n",
    "        s_i_plus_1 = f(t_array[k+1], x_i_plus_1)\n",
    "        \n",
    "        # average of slope\n",
    "        s_average = (s_i + s_i_plus_1) * 0.5\n",
    "        \n",
    "        # x[i + 1] by Heun\n",
    "        x_i_plus_1_m = x_i + s_average * delta_t\n",
    "\n",
    "        time_list.append(t_array[k+1])\n",
    "        result_list.append(x_i_plus_1_m)\n",
    "        \n",
    "        x_i = x_i_plus_1_m\n",
    "\n",
    "    return time_list, result_list\n",
    "\n"
   ]
  },
  {
   "cell_type": "markdown",
   "metadata": {},
   "source": [
    "### 근사해와 방향장<br>Approximate solutions and direction fields\n",
    "\n"
   ]
  },
  {
   "cell_type": "markdown",
   "metadata": {},
   "source": [
    "엄밀해, 오일러법, 훈의 방법을 방향장과 겹쳐 그려보자.<br>\n",
    "Let's overlap the exact solution, Forware Euler Method, and Heun's Method with the direction field.\n",
    "\n"
   ]
  },
  {
   "cell_type": "code",
   "execution_count": null,
   "metadata": {},
   "outputs": [],
   "source": [
    "import ode_plot\n",
    "import ode_solver\n",
    "\n"
   ]
  },
  {
   "cell_type": "markdown",
   "metadata": {},
   "source": [
    "$t$와 $x$의 범위<br>\n",
    "Ranges of $t$ and $x$\n",
    "\n"
   ]
  },
  {
   "cell_type": "code",
   "execution_count": null,
   "metadata": {},
   "outputs": [],
   "source": [
    "t_slopes = py.linspace(0, 6)\n",
    "x_slopes = py.linspace(0, 6)\n",
    "\n"
   ]
  },
  {
   "cell_type": "markdown",
   "metadata": {},
   "source": [
    "초기값<br>Initial value<br>\n",
    "$x(t_0)$\n",
    "\n"
   ]
  },
  {
   "cell_type": "code",
   "execution_count": null,
   "metadata": {},
   "outputs": [],
   "source": [
    "x_0 = 4.5\n",
    "\n"
   ]
  },
  {
   "cell_type": "markdown",
   "metadata": {},
   "source": [
    "$\n",
    "\\Delta t = 0.5 \n",
    "$ (sec)\n",
    "\n"
   ]
  },
  {
   "cell_type": "code",
   "execution_count": null,
   "metadata": {},
   "outputs": [],
   "source": [
    "delta_t_05 = 0.5\n",
    "t_05_sec = np.arange(t_slopes[0], t_slopes[-1] + delta_t_05*0.5, delta_t_05)\n",
    "\n"
   ]
  },
  {
   "cell_type": "markdown",
   "metadata": {},
   "source": [
    "오일러법<br>Euler method\n",
    "\n"
   ]
  },
  {
   "cell_type": "code",
   "execution_count": null,
   "metadata": {},
   "outputs": [],
   "source": [
    "t_euler_out, x_euler_out = ode_solver.euler(dx_dt, t_05_sec, x_0)\n",
    "\n"
   ]
  },
  {
   "cell_type": "markdown",
   "metadata": {},
   "source": [
    "훈의 방법<br>\n",
    "Heun's method\n",
    "\n"
   ]
  },
  {
   "cell_type": "code",
   "execution_count": null,
   "metadata": {},
   "outputs": [],
   "source": [
    "t_heun__out, x_heun__out = heun(dx_dt, t_05_sec, x_0)\n",
    "\n"
   ]
  },
  {
   "cell_type": "markdown",
   "metadata": {},
   "source": [
    "이제 그려 보자.<br>Now let's plot.\n",
    "\n"
   ]
  },
  {
   "cell_type": "code",
   "execution_count": null,
   "metadata": {
    "scrolled": false
   },
   "outputs": [],
   "source": [
    "# Slopes at each (t, x) points\n",
    "ode_plot.ode_slope_1state(dx_dt, x_slopes, t_slopes)\n",
    "\n",
    "py.plot(t_euler_out, x_euler_out, '.-', label='Euler')\n",
    "py.plot(t_heun__out, x_heun__out, '*-', label='Heun')\n",
    "\n",
    "# Exact solution\n",
    "exact = ode_plot.ExactPlotterFirstOrderODE(t_slopes)\n",
    "exact.plot()\n",
    "\n",
    "# Aspect ratio\n",
    "py.axis('equal')\n",
    "\n",
    "# xy limits\n",
    "py.xlim(left=t_slopes[0], right=t_slopes[-1])\n",
    "py.ylim(bottom=x_slopes[0], top=x_slopes[-1])\n",
    "\n",
    "py.legend(loc=0, fontsize='xx-large')\n",
    "\n"
   ]
  },
  {
   "cell_type": "markdown",
   "metadata": {},
   "source": [
    "오일러법에 비해 훈의 방법의 근사해가 엄밀해에 비해 오차가 더 적은 것을 알 수 있다.<br>\n",
    "We can see that the approximate solution of Heun's Method is closer to the exact solution than that the Euler Method.\n",
    "\n"
   ]
  },
  {
   "cell_type": "markdown",
   "metadata": {},
   "source": [
    "## Scipy\n",
    "\n"
   ]
  },
  {
   "cell_type": "code",
   "execution_count": null,
   "metadata": {},
   "outputs": [],
   "source": [
    "import scipy.integrate as si\n",
    "\n"
   ]
  },
  {
   "cell_type": "code",
   "execution_count": null,
   "metadata": {},
   "outputs": [],
   "source": [
    "sol = si.solve_ivp(dx_dt, (t_heun__out[0], t_heun__out[-1]), [x_0], t_eval=t_heun__out)\n",
    "\n"
   ]
  },
  {
   "cell_type": "code",
   "execution_count": null,
   "metadata": {},
   "outputs": [],
   "source": [
    "py.plot(sol.t, sol.y[0, :], 'o', label='solve_ivp')\n",
    "py.plot(t_euler_out, x_euler_out, '.-', label='Euler')\n",
    "py.plot(t_heun__out, x_heun__out, '*-', label='Heun')\n",
    "\n",
    "# plot exact solution\n",
    "exact = ode_plot.ExactPlotterFirstOrderODE(t_slopes)\n",
    "exact.plot()\n",
    "py.grid(True)\n",
    "py.xlabel('t(sec)')\n",
    "py.ylabel('y(t)')\n",
    "py.legend(loc=0);\n",
    "\n"
   ]
  },
  {
   "cell_type": "code",
   "execution_count": null,
   "metadata": {},
   "outputs": [],
   "source": [
    "import pandas as pd\n",
    "\n",
    "\n",
    "df = pd.DataFrame(\n",
    "    data={\n",
    "        'euler':x_euler_out,\n",
    "        'heun' :x_heun__out,\n",
    "        'solve_ivp':sol.y[0, :],\n",
    "        'exact':exact.exact(py.array(t_heun__out))\n",
    "    },\n",
    "    index=pd.Series(t_heun__out, name='t(sec)'),\n",
    "    columns=['exact', 'euler', 'heun', 'solve_ivp']\n",
    ")\n",
    "\n"
   ]
  },
  {
   "cell_type": "code",
   "execution_count": null,
   "metadata": {},
   "outputs": [],
   "source": [
    "df['euler_error'] = df.euler - df.exact\n",
    "df['heun_error'] = df.heun - df.exact\n",
    "df['solve_ivp_error'] = df.solve_ivp - df.exact\n",
    "\n"
   ]
  },
  {
   "cell_type": "markdown",
   "metadata": {},
   "source": [
    "표 형태<br>Table form\n",
    "\n"
   ]
  },
  {
   "cell_type": "code",
   "execution_count": null,
   "metadata": {},
   "outputs": [],
   "source": [
    "pd.set_option('display.max_rows', 10)\n",
    "df\n",
    "\n"
   ]
  },
  {
   "cell_type": "markdown",
   "metadata": {},
   "source": [
    "각종 통계<br>Statistics\n",
    "\n"
   ]
  },
  {
   "cell_type": "code",
   "execution_count": null,
   "metadata": {},
   "outputs": [],
   "source": [
    "df.describe()\n",
    "\n"
   ]
  },
  {
   "cell_type": "markdown",
   "metadata": {},
   "source": [
    "이 경우, 훈의 방법의 오차에 대한 의견은?<br>\n",
    "In this case, what do you think about the error of the Heun's method?\n",
    "\n"
   ]
  },
  {
   "cell_type": "code",
   "execution_count": null,
   "metadata": {},
   "outputs": [],
   "source": [
    "import numpy.linalg as nl\n",
    "\n",
    "\n",
    "nl.norm(df.euler_error), nl.norm(df.heun_error), nl.norm(df.solve_ivp_error), \n",
    "\n"
   ]
  },
  {
   "cell_type": "markdown",
   "metadata": {},
   "source": [
    "## 연습 문제<br>Exercises\n",
    "\n"
   ]
  },
  {
   "cell_type": "markdown",
   "metadata": {},
   "source": [
    "### 01\n",
    "\n"
   ]
  },
  {
   "cell_type": "markdown",
   "metadata": {},
   "source": [
    "다음 미분방정식의 엄밀해를 구하시오:<br>\n",
    "Find exact solution of the following differential equation:\n",
    "\n",
    "$$\n",
    "\\begin{align}\n",
    "10 \\frac{d}{dt}x(t) + 100 x(t) &= 0 \\\\\n",
    "x(0) &= 10\n",
    "\\end{align}\n",
    "$$\n",
    "\n"
   ]
  },
  {
   "cell_type": "markdown",
   "metadata": {},
   "source": [
    "위 미분방정식의 수치해를 오일러법으로 구하시오.<br>\n",
    "Find numerical solution of the above differential equation using Euler Method.\n",
    "\n"
   ]
  },
  {
   "cell_type": "markdown",
   "metadata": {},
   "source": [
    "위 미분방정식의 수치해를 훈의 방법으로 구하고 엄밀해, 오일러법과 비교하시오.<br>\n",
    "Find numerical solution of the above differential equation using Heun's method and compare with exact solution and Euler Method.\n",
    "\n"
   ]
  },
  {
   "cell_type": "code",
   "execution_count": null,
   "metadata": {},
   "outputs": [],
   "source": []
  },
  {
   "cell_type": "markdown",
   "metadata": {},
   "source": [
    "### 02\n",
    "\n"
   ]
  },
  {
   "cell_type": "markdown",
   "metadata": {},
   "source": [
    "다음 미분방정식의 수치해를 오일러법으로 구하시오:<br>\n",
    "Find numerical solution of the following differential equation using Euler Method:\n",
    "\n",
    "$$\n",
    "\\begin{align}\n",
    "10 \\frac{d}{dt}x(t) + 100 x(t) &= sin(t[rad]) \\\\\n",
    "x(0) &= 0\n",
    "\\end{align}\n",
    "$$\n",
    "\n"
   ]
  },
  {
   "cell_type": "markdown",
   "metadata": {},
   "source": [
    "위 미분방정식의 수치해를 훈의 방법으로 구하고 오일러법과 비교하시오.<br>\n",
    "Find numerical solution of the above differential equation using Heun's method and compare with Euler Method.\n",
    "\n"
   ]
  },
  {
   "cell_type": "code",
   "execution_count": null,
   "metadata": {},
   "outputs": [],
   "source": []
  },
  {
   "cell_type": "markdown",
   "metadata": {},
   "source": [
    "## Final Bell<br>마지막 종\n",
    "\n"
   ]
  },
  {
   "cell_type": "code",
   "execution_count": null,
   "metadata": {},
   "outputs": [],
   "source": [
    "# stackoverfow.com/a/24634221\n",
    "import os\n",
    "os.system(\"printf '\\a'\");\n",
    "\n"
   ]
  },
  {
   "cell_type": "code",
   "execution_count": null,
   "metadata": {},
   "outputs": [],
   "source": []
  }
 ],
 "metadata": {
  "kernelspec": {
   "display_name": "Python 3",
   "language": "python",
   "name": "python3"
  },
  "language_info": {
   "codemirror_mode": {
    "name": "ipython",
    "version": 3
   },
   "file_extension": ".py",
   "mimetype": "text/x-python",
   "name": "python",
   "nbconvert_exporter": "python",
   "pygments_lexer": "ipython3",
   "version": "3.7.3"
  }
 },
 "nbformat": 4,
 "nbformat_minor": 2
}
